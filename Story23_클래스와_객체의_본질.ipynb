{
  "nbformat": 4,
  "nbformat_minor": 0,
  "metadata": {
    "colab": {
      "name": "Story23. 클래스와 객체의 본질.ipynb",
      "private_outputs": true,
      "provenance": [],
      "authorship_tag": "ABX9TyMOIpfKCCLEBgItq6No0ba1",
      "include_colab_link": true
    },
    "kernelspec": {
      "name": "python3",
      "display_name": "Python 3"
    },
    "language_info": {
      "name": "python"
    }
  },
  "cells": [
    {
      "cell_type": "markdown",
      "metadata": {
        "id": "view-in-github",
        "colab_type": "text"
      },
      "source": [
        "<a href=\"https://colab.research.google.com/github/waltechel/202111PythonGrammarStudy/blob/master/Story23_%ED%81%B4%EB%9E%98%EC%8A%A4%EC%99%80_%EA%B0%9D%EC%B2%B4%EC%9D%98_%EB%B3%B8%EC%A7%88.ipynb\" target=\"_parent\"><img src=\"https://colab.research.google.com/assets/colab-badge.svg\" alt=\"Open In Colab\"/></a>"
      ]
    },
    {
      "cell_type": "markdown",
      "metadata": {
        "id": "YsMSvt9GXIpx"
      },
      "source": [
        "# Story 23 클래스와 객체의 본질"
      ]
    },
    {
      "cell_type": "markdown",
      "metadata": {
        "id": "HZZfXGReXMM3"
      },
      "source": [
        "## 객체 안에 변수가 만들어지는 시점\n"
      ]
    },
    {
      "cell_type": "code",
      "metadata": {
        "id": "RfIRQRiUXDUc"
      },
      "source": [
        "class Simple:\n",
        "    def seti(self, i):\n",
        "        self.i = i\n",
        "    def geti(self):\n",
        "        return self.i"
      ],
      "execution_count": null,
      "outputs": []
    },
    {
      "cell_type": "code",
      "metadata": {
        "id": "NUFgG38GX17-"
      },
      "source": [
        "s1 = Simple()\n",
        "s1.seti(200)    # 이 메서드의 실행 과정에서 객체 내에 변수 i가 만들어진다\n",
        "s1.geti()       # 200"
      ],
      "execution_count": null,
      "outputs": []
    },
    {
      "cell_type": "code",
      "metadata": {
        "id": "vWguyWZDX5Uk"
      },
      "source": [
        "s2 = Simple()\n",
        "s2.geti()       # error"
      ],
      "execution_count": null,
      "outputs": []
    },
    {
      "cell_type": "code",
      "metadata": {
        "id": "QjIL__CrX_eu"
      },
      "source": [
        "class Simple:\n",
        "    def __init__(self):\n",
        "        self.i = 0\n",
        "    def seti(self, i):\n",
        "        self.i = i\n",
        "    def geti(self):\n",
        "        return self.i"
      ],
      "execution_count": null,
      "outputs": []
    },
    {
      "cell_type": "code",
      "metadata": {
        "id": "GvGvYVSjYCj2"
      },
      "source": [
        "s1 = Simple()\n",
        "s1.geti()       # 0"
      ],
      "execution_count": null,
      "outputs": []
    },
    {
      "cell_type": "code",
      "metadata": {
        "id": "-CuV82beYHnV"
      },
      "source": [
        "s.seti(25)\n",
        "s.geti()    # 25"
      ],
      "execution_count": null,
      "outputs": []
    },
    {
      "cell_type": "markdown",
      "metadata": {
        "id": "MbwIqB2xYMPX"
      },
      "source": [
        "## 객체에 변수와 메소드 붙였다 떼었다 해보기"
      ]
    },
    {
      "cell_type": "code",
      "metadata": {
        "id": "xaEGlIbMYJ0e"
      },
      "source": [
        "class SoSimple:\n",
        "    def geti(self):\n",
        "        return self.i"
      ],
      "execution_count": null,
      "outputs": []
    },
    {
      "cell_type": "code",
      "metadata": {
        "id": "r19loqnSYQCo"
      },
      "source": [
        "ss = SoSimple()\n",
        "ss.i = 27   # 이 순간 변수 ss에 담긴 객체에 i라는 변수가 생긴다\n",
        "ss.geti()   # ss에 담긴 객체에 i가 생겼으므로 geti 메서드 호출 가능"
      ],
      "execution_count": null,
      "outputs": []
    },
    {
      "cell_type": "code",
      "metadata": {
        "id": "QL_56wxjYRwf"
      },
      "source": [
        "ss.hello = lambda : print('hi~') # hello 라는 메서드를 추가\n",
        "ss.hello()"
      ],
      "execution_count": null,
      "outputs": []
    },
    {
      "cell_type": "code",
      "metadata": {
        "id": "UMW4a1pEYfNV"
      },
      "source": [
        "del ss.i        # ss에 담긴 객체에서 변수 i 삭제\n",
        "del ss.hello    # ss에 담긴 객체에서 메소드 hello 삭제"
      ],
      "execution_count": null,
      "outputs": []
    },
    {
      "cell_type": "code",
      "metadata": {
        "id": "-GzqhCypYhNp"
      },
      "source": [
        "ss.geti()       # error"
      ],
      "execution_count": null,
      "outputs": []
    },
    {
      "cell_type": "markdown",
      "metadata": {
        "id": "e1kdb-AzYnU6"
      },
      "source": [
        "## 클래스에 변수 추가하기"
      ]
    },
    {
      "cell_type": "markdown",
      "metadata": {
        "id": "skvQH8CAYwTb"
      },
      "source": [
        "- 클래스 자체에 변수를 추가하는 이게 되나? 오류가 날까 안날까?"
      ]
    },
    {
      "cell_type": "code",
      "metadata": {
        "id": "b09-OHnrYkg6"
      },
      "source": [
        "class Simple:\n",
        "    def __init__(self, i):\n",
        "        self.i = i\n",
        "    def geti(self):\n",
        "        return self.i"
      ],
      "execution_count": null,
      "outputs": []
    },
    {
      "cell_type": "code",
      "metadata": {
        "id": "O_4yh1wiYpgC"
      },
      "source": [
        "Simple.n = 7\n",
        "Simple.n   "
      ],
      "execution_count": null,
      "outputs": []
    },
    {
      "cell_type": "code",
      "metadata": {
        "id": "-B1XbJq7YrEC"
      },
      "source": [
        "s1 = Simple(3)\n",
        "s2 = Simple(5)\n",
        "\n",
        "print(s1.n, s1.geti(), sep = ', ')\n",
        "print(s2.n, s2.geti(), sep = ', ')"
      ],
      "execution_count": null,
      "outputs": []
    },
    {
      "cell_type": "markdown",
      "metadata": {
        "id": "F8mWWfTzY_M-"
      },
      "source": [
        "## 파이썬에서는 클래스도 객체"
      ]
    },
    {
      "cell_type": "code",
      "metadata": {
        "id": "8-7IVtPDY4lc"
      },
      "source": [
        "type"
      ],
      "execution_count": null,
      "outputs": []
    },
    {
      "cell_type": "code",
      "metadata": {
        "id": "kgBXeha7ZEDG"
      },
      "source": [
        "type([1,2])"
      ],
      "execution_count": null,
      "outputs": []
    },
    {
      "cell_type": "code",
      "metadata": {
        "id": "fpHNOgFrZFLF"
      },
      "source": [
        "type(list) "
      ],
      "execution_count": null,
      "outputs": []
    },
    {
      "cell_type": "code",
      "metadata": {
        "id": "iak4VMs-ZGoN"
      },
      "source": [
        "class Simple:\n",
        "    pass"
      ],
      "execution_count": null,
      "outputs": []
    },
    {
      "cell_type": "code",
      "metadata": {
        "id": "3LNGcJUmZH-n"
      },
      "source": [
        "simple2 = Simple    # 변수 simple2에 클래스 Simple 담음\n",
        "s1 = Simple()       # 클래스 Simple로 객체 생성\n",
        "s2 = simple2      # 변수 simple2로도 객체 생성할 수 있음 "
      ],
      "execution_count": null,
      "outputs": []
    },
    {
      "cell_type": "code",
      "metadata": {
        "id": "qbnxJRjcZLBO"
      },
      "source": [
        ""
      ],
      "execution_count": null,
      "outputs": []
    }
  ]
}