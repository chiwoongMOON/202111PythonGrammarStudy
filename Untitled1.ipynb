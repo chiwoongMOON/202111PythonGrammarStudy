{
  "nbformat": 4,
  "nbformat_minor": 0,
  "metadata": {
    "colab": {
      "name": "Untitled1.ipynb",
      "provenance": [],
      "authorship_tag": "ABX9TyOH0kN56tBYPfL+Zq8Pof5T",
      "include_colab_link": true
    },
    "kernelspec": {
      "name": "python3",
      "display_name": "Python 3"
    },
    "language_info": {
      "name": "python"
    }
  },
  "cells": [
    {
      "cell_type": "markdown",
      "metadata": {
        "id": "view-in-github",
        "colab_type": "text"
      },
      "source": [
        "<a href=\"https://colab.research.google.com/github/chiwoongMOON/202111PythonGrammarStudy/blob/master/Untitled1.ipynb\" target=\"_parent\"><img src=\"https://colab.research.google.com/assets/colab-badge.svg\" alt=\"Open In Colab\"/></a>"
      ]
    },
    {
      "cell_type": "markdown",
      "metadata": {
        "id": "o_2ybByCls6D"
      },
      "source": [
        "# 어제 배운거 복습(?)"
      ]
    },
    {
      "cell_type": "code",
      "metadata": {
        "id": "CPXlKpKgluqR"
      },
      "source": [
        "def add(num1, num2):\n",
        "  add = num1 + num2\n",
        "  return add"
      ],
      "execution_count": null,
      "outputs": []
    },
    {
      "cell_type": "code",
      "metadata": {
        "id": "2Pivt5Shl67q",
        "colab": {
          "base_uri": "https://localhost:8080/"
        },
        "outputId": "731eac5f-3483-41b7-a7ea-77fd9daf7f3a"
      },
      "source": [
        "print(add(2, 3))"
      ],
      "execution_count": null,
      "outputs": [
        {
          "output_type": "stream",
          "name": "stdout",
          "text": [
            "5\n"
          ]
        }
      ]
    },
    {
      "cell_type": "code",
      "metadata": {
        "id": "2PV6UpbZl9I7"
      },
      "source": [
        "def a(n1, n2):\n",
        "  print(n1 + n2)\n",
        "  print(n1 - n2)\n",
        "  print(n1 * n2)\n",
        "  print(n1 / n2)\n",
        "  print(n1 % n2)"
      ],
      "execution_count": 9,
      "outputs": []
    },
    {
      "cell_type": "code",
      "metadata": {
        "id": "rXrPSW6_oiii",
        "colab": {
          "base_uri": "https://localhost:8080/"
        },
        "outputId": "011c6d60-5d2b-4a11-9c9a-e8f7555a7e05"
      },
      "source": [
        "a(6, 4)"
      ],
      "execution_count": null,
      "outputs": [
        {
          "output_type": "stream",
          "name": "stdout",
          "text": [
            "10\n",
            "2\n",
            "24\n",
            "1.5\n",
            "2\n"
          ]
        }
      ]
    },
    {
      "cell_type": "code",
      "metadata": {
        "id": "amToLRRto_JS",
        "outputId": "bf5a6b72-519f-4754-bf0e-835824d633c3",
        "colab": {
          "base_uri": "https://localhost:8080/"
        }
      },
      "source": [
        "x, y = input(\"사칙연산을 시킬 두 수를 입력하시오: \").split()\n",
        "x = int(x)\n",
        "y = int(y)\n",
        "a(x, y)"
      ],
      "execution_count": 14,
      "outputs": [
        {
          "output_type": "stream",
          "name": "stdout",
          "text": [
            "사칙연산을 시킬 두 수를 입력하시오: 10 5\n",
            "15\n",
            "5\n",
            "50\n",
            "2.0\n",
            "0\n"
          ]
        }
      ]
    },
    {
      "cell_type": "code",
      "metadata": {
        "id": "H15wqziwq-ex"
      },
      "source": [
        ""
      ],
      "execution_count": 11,
      "outputs": []
    }
  ]
}