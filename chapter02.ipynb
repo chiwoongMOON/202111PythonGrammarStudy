{
  "nbformat": 4,
  "nbformat_minor": 0,
  "metadata": {
    "colab": {
      "name": "chapter02.ipynb",
      "private_outputs": true,
      "provenance": [],
      "include_colab_link": true
    },
    "kernelspec": {
      "name": "python3",
      "display_name": "Python 3"
    },
    "language_info": {
      "name": "python"
    }
  },
  "cells": [
    {
      "cell_type": "markdown",
      "metadata": {
        "id": "view-in-github",
        "colab_type": "text"
      },
      "source": [
        "<a href=\"https://colab.research.google.com/github/chiwoongMOON/202111PythonGrammarStudy/blob/master/chapter02.ipynb\" target=\"_parent\"><img src=\"https://colab.research.google.com/assets/colab-badge.svg\" alt=\"Open In Colab\"/></a>"
      ]
    },
    {
      "cell_type": "markdown",
      "metadata": {
        "id": "mC99keLqwVu3"
      },
      "source": [
        "# Chapter 02. 간단한 함수 만들기"
      ]
    },
    {
      "cell_type": "markdown",
      "metadata": {
        "id": "TU9YhIE7wXwE"
      },
      "source": [
        "## 02-1. 함수 만들기1:인자 없는 것"
      ]
    },
    {
      "cell_type": "markdown",
      "metadata": {
        "id": "simF-WflDqN7"
      },
      "source": [
        "- 함수 : 소스코드의 집합\n",
        "  - 파이썬에서의 함수는 def로 선언한다.\n",
        "  - 다른 객체지향언어에서의 함수는 method라고 한다.(예 : 자바)\n",
        "  "
      ]
    },
    {
      "cell_type": "code",
      "metadata": {
        "id": "G6c9rikgv2Z9"
      },
      "source": [
        "print(\"hello\")"
      ],
      "execution_count": null,
      "outputs": []
    },
    {
      "cell_type": "code",
      "metadata": {
        "id": "HUtnWoeHwceB"
      },
      "source": [
        "print(\"hi\")"
      ],
      "execution_count": null,
      "outputs": []
    },
    {
      "cell_type": "markdown",
      "metadata": {
        "id": "R3Hkt0TTEl3L"
      },
      "source": [
        "- 파이썬에서는 들여쓰기로 블록을 구분한다.\n",
        "```java\n",
        "public void greet(){\n",
        "  System.out.println(\"hello\");\n",
        "  System.out.println(\"hi\");\n",
        "}\n",
        "```\n"
      ]
    },
    {
      "cell_type": "code",
      "metadata": {
        "id": "Faz1enZuwdc4"
      },
      "source": [
        "def greet():\n",
        "  print('hello')\n",
        "  print('hi')"
      ],
      "execution_count": null,
      "outputs": []
    },
    {
      "cell_type": "code",
      "metadata": {
        "id": "UcqFoTHlwhVY"
      },
      "source": [
        "greet()"
      ],
      "execution_count": null,
      "outputs": []
    },
    {
      "cell_type": "markdown",
      "metadata": {
        "id": "E37JLiDrwm48"
      },
      "source": [
        "- 다음 세 개의 문장을 담고 있는 함수를 정의하되 이름은 MH라 하자, 그리고 정의했다면 그 함수를 두 번 호출해보자\n",
        "\n",
        "- print(\"1,2,3,4,5,6,7,8,9,10\")\n",
        "- print(\"simple is the best!\")\n",
        "- print(\"행복한 파이썬!\")"
      ]
    },
    {
      "cell_type": "code",
      "metadata": {
        "id": "3K3e8ofLwjL5"
      },
      "source": [
        "def MH():\n",
        "  print(\"1,2,3,4,5,6,7,8,9,10\")\n",
        "  print(\"simple is the best!\")\n",
        "  print(\"행복한 파이썬!\")"
      ],
      "execution_count": null,
      "outputs": []
    },
    {
      "cell_type": "code",
      "metadata": {
        "id": "XWMDae-l0hfR"
      },
      "source": [
        "MH()\n",
        "MH()"
      ],
      "execution_count": null,
      "outputs": []
    },
    {
      "cell_type": "markdown",
      "metadata": {
        "id": "rAvSRnz80s_1"
      },
      "source": [
        "## 02-2. 함수 만들기2:인자 있는 함수"
      ]
    },
    {
      "cell_type": "markdown",
      "metadata": {
        "id": "nT-ueHTnFTFw"
      },
      "source": [
        "- 함수에 들어가는 인자를 파라미터라고 한다(parameter)"
      ]
    },
    {
      "cell_type": "code",
      "metadata": {
        "id": "2NXCujEt0m2v"
      },
      "source": [
        "def adder(num1, num2):\n",
        "  print(\"answer \" , num1 + num2)"
      ],
      "execution_count": null,
      "outputs": []
    },
    {
      "cell_type": "code",
      "metadata": {
        "id": "SqTIt4j904iS"
      },
      "source": [
        "adder(1,2)"
      ],
      "execution_count": null,
      "outputs": []
    },
    {
      "cell_type": "markdown",
      "metadata": {
        "id": "j_RRnIDY09Y6"
      },
      "source": [
        "- 매개변수를 받아서 하나의 문자열을 전달받아서 그 문자열을 총 3회 출력하는 함수를 만들어보자."
      ]
    },
    {
      "cell_type": "code",
      "metadata": {
        "id": "QJQLIHZS1C2D"
      },
      "source": [
        "def print3(a):\n",
        "  print(a)\n",
        "  print(a)\n",
        "  print(a)\n",
        "print3(\"abc\")"
      ],
      "execution_count": null,
      "outputs": []
    },
    {
      "cell_type": "markdown",
      "metadata": {
        "id": "wdZOslPx1D1y"
      },
      "source": [
        "- 매개변수를 통해서 하나의 정수를 받아서 전달받은 수와 부호가 반대인 정수를 출력하는 함수를 만들어보자."
      ]
    },
    {
      "cell_type": "code",
      "metadata": {
        "id": "MHPhIqAj05cR"
      },
      "source": [
        "def opposite(a):\n",
        "  print(a - (a * 2))\n",
        "opposite(5)"
      ],
      "execution_count": null,
      "outputs": []
    },
    {
      "cell_type": "markdown",
      "metadata": {
        "id": "j79EB5Nu1KXT"
      },
      "source": [
        "- 매개변수를 통해서 두 개의 정수를 전달받아서 이 둘의 평균값을 계산해서 출력하는 함수를 만들어보자."
      ]
    },
    {
      "cell_type": "code",
      "metadata": {
        "id": "sovDcfuH1QSV"
      },
      "source": [
        "def aver(a, b):\n",
        "  print((a + b) / 2)\n",
        "aver(2, 4)"
      ],
      "execution_count": null,
      "outputs": []
    },
    {
      "cell_type": "markdown",
      "metadata": {
        "id": "UjbULY281Q0-"
      },
      "source": [
        "## 02-3. 함수 만들기3:값의 반환이 있는 것"
      ]
    },
    {
      "cell_type": "markdown",
      "metadata": {
        "id": "yM1t3v5GILcH"
      },
      "source": [
        "- 함수에서 변환되는 값을 리턴이라고 한다."
      ]
    },
    {
      "cell_type": "code",
      "metadata": {
        "id": "VcmtniTt1Smd"
      },
      "source": [
        "def adder2(n1, n2):\n",
        "  ret = n1 + n2\n",
        "  return ret"
      ],
      "execution_count": null,
      "outputs": []
    },
    {
      "cell_type": "code",
      "metadata": {
        "id": "hgMEGOF01gu-"
      },
      "source": [
        "print(adder2(1, 2))"
      ],
      "execution_count": null,
      "outputs": []
    },
    {
      "cell_type": "markdown",
      "metadata": {
        "id": "7ELbqRAj1q0Y"
      },
      "source": [
        "- 하나의 정수를 전달받아서 전달받은 수와 부호가 반대인 정수를 반환하는 함수를 정의해보자."
      ]
    },
    {
      "cell_type": "code",
      "metadata": {
        "id": "Ig-OQKEN1w6w"
      },
      "source": [
        "def opposite2(num):\n",
        "  ret = num - (num * 2)\n",
        "  return ret\n",
        "print(opposite2(3))"
      ],
      "execution_count": null,
      "outputs": []
    },
    {
      "cell_type": "markdown",
      "metadata": {
        "id": "eiNg8AJu1xhQ"
      },
      "source": [
        "- 두 개의 정수를 전달받아서 그 두 수의 평균값을 계산해서 반환하는 함수를 정의해보자."
      ]
    },
    {
      "cell_type": "code",
      "metadata": {
        "id": "NEZbGa-V1i5o"
      },
      "source": [
        "def aver2(num1, num2):\n",
        "  ret = (num1 + num2) / 2\n",
        "  return ret\n",
        "print(aver2(1, 2))"
      ],
      "execution_count": null,
      "outputs": []
    },
    {
      "cell_type": "code",
      "metadata": {
        "id": "fAgbmgf-LVUe"
      },
      "source": [
        "print(opposite2(aver2(1, 2)))"
      ],
      "execution_count": null,
      "outputs": []
    },
    {
      "cell_type": "markdown",
      "metadata": {
        "id": "-PorSCWo2Haz"
      },
      "source": [
        "## 02-4. 함수를 파일에 저장하기"
      ]
    },
    {
      "cell_type": "markdown",
      "metadata": {
        "id": "yZEa5Cap2v48"
      },
      "source": [
        "## 02-5. 파일을 불러와서 실행하기"
      ]
    },
    {
      "cell_type": "markdown",
      "metadata": {
        "id": "YRJBrdRZ2wra"
      },
      "source": [
        "- 소스를 불러와서 활용해본다."
      ]
    },
    {
      "cell_type": "code",
      "metadata": {
        "id": "nqGu9XdL232w"
      },
      "source": [
        "import adder1\n",
        "\n",
        "adder1.adder(1, 2)"
      ],
      "execution_count": null,
      "outputs": []
    },
    {
      "cell_type": "markdown",
      "metadata": {
        "id": "RsL60l7s3WIX"
      },
      "source": [
        "- 이 내용은 소스를 직접 가져와서 확인해본다. "
      ]
    },
    {
      "cell_type": "code",
      "metadata": {
        "id": "52S7sFNj2_M7"
      },
      "source": [
        "import adder2\n",
        "\n",
        "adder2.adder(1, 2)"
      ],
      "execution_count": null,
      "outputs": []
    },
    {
      "cell_type": "markdown",
      "metadata": {
        "id": "RGSUz2hp321i"
      },
      "source": [
        "## 02-6. 주석을 달자."
      ]
    },
    {
      "cell_type": "markdown",
      "metadata": {
        "id": "7p-ufRKt360A"
      },
      "source": [
        "- 소스코드에 주석을 달아서 코드가 의미하는 바를 남겨둘 수 있다. "
      ]
    },
    {
      "cell_type": "code",
      "metadata": {
        "id": "PtmtMQug3GC7"
      },
      "source": [
        "# adder2 함수를 import 하였다\n",
        "import adder2\n",
        "\n",
        "# adder2 함수를 import 한 후에 사용하였다.\n",
        "adder2.adder(1, 2)"
      ],
      "execution_count": null,
      "outputs": []
    },
    {
      "cell_type": "markdown",
      "metadata": {
        "id": "LUE4ANoD4HjK"
      },
      "source": [
        "## 02-7. 이름 달기 규칙 그리고 대소문자 구분"
      ]
    },
    {
      "cell_type": "markdown",
      "metadata": {
        "id": "6kwpGtYC4Ij8"
      },
      "source": [
        "- 파이썬은 대소문자를 구분한다\n",
        "- 숫자로 시작하면 안된다\n",
        "- 키워드는 이름으로 쓸 수 없다. \n",
        "- 변수와 함수의 이름은 소문자로 시작한다\n",
        "- 둘 이상의 단어를 연결하는 경우 언더바를 이용해서 연결한다."
      ]
    },
    {
      "cell_type": "markdown",
      "metadata": {
        "id": "DsaEjPvv4Tsm"
      },
      "source": [
        "## 02-8. main 함수가 있는 방식으로 예제를 작성하자."
      ]
    },
    {
      "cell_type": "markdown",
      "metadata": {
        "id": "aWD6wo7b4VSL"
      },
      "source": [
        "- 아래 방식이 권장되는 방식이다."
      ]
    },
    {
      "cell_type": "code",
      "metadata": {
        "id": "266Yk3ln4IPa"
      },
      "source": [
        "def adder(num1, num2):\n",
        "    return num1 + num2\n",
        "\n",
        "def main():\n",
        "    print(adder(5, 3))\n",
        "\n",
        "main()\n"
      ],
      "execution_count": null,
      "outputs": []
    },
    {
      "cell_type": "markdown",
      "metadata": {
        "id": "iKcXGPQl4m63"
      },
      "source": [
        "- 아래 방식이 권장되는 방식이다. "
      ]
    },
    {
      "cell_type": "code",
      "metadata": {
        "id": "ImpbjeAK4rZg"
      },
      "source": [
        "def add(num1, num2):\n",
        "    return num1 + num2\n",
        "\n",
        "def min(num1, num2):\n",
        "    return num1 - num2\n",
        "\n",
        "def mul(num1, num2):\n",
        "    return num1 * num2\n",
        "\n",
        "def div(num1, num2):\n",
        "    return num1 / num2\n",
        "\n",
        "def main():\n",
        "    print(add(5, 3))\n",
        "    print(min(5, 3))\n",
        "    print(mul(5, 3))\n",
        "    print(div(5, 3))\n",
        "\n",
        "\n",
        "main()\n"
      ],
      "execution_count": null,
      "outputs": []
    },
    {
      "cell_type": "code",
      "metadata": {
        "id": "HE8pQD644sno"
      },
      "source": [
        ""
      ],
      "execution_count": null,
      "outputs": []
    }
  ]
}