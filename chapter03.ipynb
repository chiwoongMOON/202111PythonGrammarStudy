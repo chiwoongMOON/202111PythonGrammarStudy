{
  "nbformat": 4,
  "nbformat_minor": 0,
  "metadata": {
    "colab": {
      "name": "chapter03.ipynb",
      "private_outputs": true,
      "provenance": [],
      "include_colab_link": true
    },
    "kernelspec": {
      "name": "python3",
      "display_name": "Python 3"
    },
    "language_info": {
      "name": "python"
    }
  },
  "cells": [
    {
      "cell_type": "markdown",
      "metadata": {
        "id": "view-in-github",
        "colab_type": "text"
      },
      "source": [
        "<a href=\"https://colab.research.google.com/github/chiwoongMOON/202111PythonGrammarStudy/blob/master/chapter03.ipynb\" target=\"_parent\"><img src=\"https://colab.research.google.com/assets/colab-badge.svg\" alt=\"Open In Colab\"/></a>"
      ]
    },
    {
      "cell_type": "markdown",
      "metadata": {
        "id": "sP-N5N-q8mzX"
      },
      "source": [
        "# Chapter 03. 프로그램 사용자로부터의 입력 그리고 코드의 반복"
      ]
    },
    {
      "cell_type": "markdown",
      "metadata": {
        "id": "HQXTF8ZW8pId"
      },
      "source": [
        "## 03-1. 프로그램 사용자로부터 입력받기"
      ]
    },
    {
      "cell_type": "code",
      "metadata": {
        "id": "xdWPhelw8yUV"
      },
      "source": [
        "# 예약어는 사용하면 안 되므로 이 소스는 좋지 않은 소스\n",
        "str = input(\"how old are you: \")\n",
        "\n",
        "print(str)\n"
      ],
      "execution_count": null,
      "outputs": []
    },
    {
      "cell_type": "code",
      "metadata": {
        "id": "YAPF5Yd49HZw"
      },
      "source": [
        "# add 합 연산\n",
        "num = 31 + 24\n",
        "print(num)"
      ],
      "execution_count": null,
      "outputs": []
    },
    {
      "cell_type": "code",
      "metadata": {
        "id": "YHWQ6pqJ891-"
      },
      "source": [
        "# concatenate 연결 연산\n",
        "num = \"31\" + \"24\"\n",
        "print(num)"
      ],
      "execution_count": null,
      "outputs": []
    },
    {
      "cell_type": "code",
      "metadata": {
        "id": "MuEg0PUv9CVf"
      },
      "source": [
        "num = \"31\" + 24\n",
        "print(num)"
      ],
      "execution_count": null,
      "outputs": []
    },
    {
      "cell_type": "code",
      "metadata": {
        "id": "CnJXsaka9Jsp"
      },
      "source": [
        "num = 31 + \"24\"\n",
        "print(num)"
      ],
      "execution_count": null,
      "outputs": []
    },
    {
      "cell_type": "markdown",
      "metadata": {
        "id": "BqbQXUgz9O6o"
      },
      "source": [
        "- input 함수는 프로그램 사용자가 입력한 내용을 문자열의 형태로 반환한다는 사실을 본문에서 설명하였다. 따라서 이를 근거로 다음의 실행 흐름을 보이는 예를 작성해보자."
      ]
    },
    {
      "cell_type": "code",
      "metadata": {
        "id": "glFk7yCZ9SWh"
      },
      "source": [
        "\n"
      ],
      "execution_count": null,
      "outputs": []
    },
    {
      "cell_type": "markdown",
      "metadata": {
        "id": "etRSvLyO8qze"
      },
      "source": [
        "## 03-2. 입력받은 내용을 숫자로 바꾸려면"
      ]
    },
    {
      "cell_type": "code",
      "metadata": {
        "id": "RyGOEUkl9VjZ"
      },
      "source": [
        "# eval는 알아서 계산해줌 근데 잘 안쓰는 듯\n",
        "rad = eval(input(\"radius: \"))\n",
        "area = rad * rad * 3.14\n",
        "print(area)"
      ],
      "execution_count": null,
      "outputs": []
    },
    {
      "cell_type": "markdown",
      "metadata": {
        "id": "k_32RpzV9iPM"
      },
      "source": [
        "- eval 함수는 input 함수를 잘 묶어서 사용하면 프로그램 사용자로부터 산술 연산이 가능한 '수'를 입력받을 수 있음에 대해 본문에서 설명. 따라서 이를 근거로 다음의 실행 흐름을 보이는 예를 작성해보자."
      ]
    },
    {
      "cell_type": "code",
      "metadata": {
        "id": "GoPyD6us9jQl"
      },
      "source": [
        "num1 = eval(input(\"첫 번째 입력 : \"))\n",
        "# 첫 번째 입력 : 1.24\n",
        "num2 = eval(input(\"두 번째 입력 : \"))\n",
        "# 두 번째 입력 : 3.12\n",
        "num3 = eval(input(\"세 번째 입력 : \"))\n",
        "# 세 번째 입력 : 4.46\n",
        "print(num1 + num2 + num3)\n",
        "# 8.82"
      ],
      "execution_count": null,
      "outputs": []
    },
    {
      "cell_type": "markdown",
      "metadata": {
        "id": "Ao8MgF6N8sgU"
      },
      "source": [
        "## 03-3. 강력한 그러나 위험할 수 있는 eval 함수"
      ]
    },
    {
      "cell_type": "code",
      "metadata": {
        "id": "_6A8KELw95Z3"
      },
      "source": [
        "result = eval(input(\"input anything : \"))\n",
        "# input anything : 2 - 4 * 5 + 3\n",
        "print(\"result : \", result)"
      ],
      "execution_count": null,
      "outputs": []
    },
    {
      "cell_type": "code",
      "metadata": {
        "id": "eOAHXlYN-IOH"
      },
      "source": [
        "def ret():\n",
        "  return 12\n",
        "\n",
        "result = eval(input(\"input anything : \"))\n",
        "# input anything : ret()\n",
        "print(result)"
      ],
      "execution_count": null,
      "outputs": []
    },
    {
      "cell_type": "markdown",
      "metadata": {
        "id": "XfL7jChy8tXn"
      },
      "source": [
        "## 03-4. 정해진 횟수만큼 반복해서 실행시키기"
      ]
    },
    {
      "cell_type": "code",
      "metadata": {
        "id": "dIS2If6p-rCb"
      },
      "source": [
        "for i in [0,1,2]:\n",
        "    print(i)\n",
        "    print(\"hi\")"
      ],
      "execution_count": null,
      "outputs": []
    },
    {
      "cell_type": "code",
      "metadata": {
        "id": "sjYA0iXt-uks"
      },
      "source": [
        "sum = 0\n",
        "for i in [1,2,3,4,5,6,7,8,9,10]:\n",
        "    sum += i\n",
        "    print(sum)"
      ],
      "execution_count": null,
      "outputs": []
    },
    {
      "cell_type": "markdown",
      "metadata": {
        "id": "WdNmIOoG-zeQ"
      },
      "source": [
        "문제 1\n",
        "- 1, 3, 5, 7, 9 의 합을 계산해서 그 결과를 출력하는 코드를 for 루프 기반으로 작성해보자"
      ]
    },
    {
      "cell_type": "code",
      "metadata": {
        "id": "heK1YADY-7mX"
      },
      "source": [
        "num = 0\n",
        "for i in [1, 3, 5, 7, 9]:\n",
        "  num += i\n",
        "print(num)"
      ],
      "execution_count": null,
      "outputs": []
    },
    {
      "cell_type": "markdown",
      "metadata": {
        "id": "1Tv2E4CC-8MR"
      },
      "source": [
        "문제 2\n",
        "- 1부터 10까지의 곱의 결과를 계산해서 그 결과를 출력하는 코드를 for 루프 기반으로 작성해보자"
      ]
    },
    {
      "cell_type": "code",
      "metadata": {
        "id": "WciKSsQL_FRo"
      },
      "source": [
        "num = 1\n",
        "for i in [1, 2, 3, 4, 5, 6, 7, 8, 9, 10]:\n",
        "  num *= i\n",
        "print(num)"
      ],
      "execution_count": null,
      "outputs": []
    },
    {
      "cell_type": "markdown",
      "metadata": {
        "id": "O6QlxhCd_FgX"
      },
      "source": [
        "문제 3 \n",
        "- 구구단에서 7단 전부를 출력하는 코드를 for 루프를 기반으로 작성해보자\n"
      ]
    },
    {
      "cell_type": "code",
      "metadata": {
        "id": "QwrxIfZx_Llo"
      },
      "source": [
        "num = 7\n",
        "for i in [1, 2, 3, 4, 5, 6, 7, 8, 9]:\n",
        "  num = 7\n",
        "  num *= i\n",
        "  print(num)\n",
        "  '''\n",
        "  num = 7\n",
        "\n",
        "\n",
        "\n",
        "for i in [1, 2, 3, 4, 5, 6, 7, 8, 9]:\n",
        "\n",
        "  print(\"7 x\", i , \"=\", (7*i))\n",
        "  '''"
      ],
      "execution_count": null,
      "outputs": []
    },
    {
      "cell_type": "markdown",
      "metadata": {
        "id": "wme_goMb_OXJ"
      },
      "source": [
        "문제 4\n",
        "- 구구단 7단을 전부 출력하되 거꾸로 출력하는 코드를 for 루프를 기반으로 작성해보자"
      ]
    },
    {
      "cell_type": "code",
      "metadata": {
        "id": "beegkm8dEpwt"
      },
      "source": [
        "num = 7\n",
        "\n",
        "\n",
        "\n",
        "for i in [9, 8, 7, 6, 5, 4, 3, 2, 1]:\n",
        "\n",
        "  print(\"7 x\", i , \"=\", (7*i))"
      ],
      "execution_count": null,
      "outputs": []
    },
    {
      "cell_type": "markdown",
      "metadata": {
        "id": "OiSwiY_T8ua2"
      },
      "source": [
        "## 03-5. for..in..과 range의 조합"
      ]
    },
    {
      "cell_type": "code",
      "metadata": {
        "id": "fvp0EJCU8hEf"
      },
      "source": [
        "sum = 0\n",
        "for i in range(1, 100+1):\n",
        "    sum += i\n",
        "    print(sum)\n",
        "\n",
        "data = int(input())\n",
        "for i in range(data):\n",
        "    data += i\n",
        "    print(data)"
      ],
      "execution_count": null,
      "outputs": []
    },
    {
      "cell_type": "markdown",
      "metadata": {
        "id": "Rn5BhB6L_e9K"
      },
      "source": [
        "문제 1\n",
        "- 안녕하세요를 5회 출력하는 코드를 range 기반으로 작성해본다\n"
      ]
    },
    {
      "cell_type": "code",
      "metadata": {
        "id": "WdCSINUI_lPz"
      },
      "source": [
        "for i in range(1, 6):\n",
        "  print(\"안녕하세요\")"
      ],
      "execution_count": null,
      "outputs": []
    },
    {
      "cell_type": "markdown",
      "metadata": {
        "id": "wsj4tVmL_l9i"
      },
      "source": [
        "문제 2\n",
        "- 구구단 7단을 출력하는 코드를 range 기반으로 작성해본다"
      ]
    },
    {
      "cell_type": "code",
      "metadata": {
        "id": "4fY4low__whs"
      },
      "source": [
        "num = 7\n",
        "for i in range(1, 10):\n",
        " print(\"7 x\", i , \"=\", (7*i))"
      ],
      "execution_count": null,
      "outputs": []
    },
    {
      "cell_type": "markdown",
      "metadata": {
        "id": "3nmhfiXr_qFr"
      },
      "source": [
        "문제 3\n",
        "- 제곱값을 반환하는 코드를 range 기반으로 작성해본다"
      ]
    },
    {
      "cell_type": "code",
      "metadata": {
        "id": "gM5SmlIY_wzs"
      },
      "source": [
        "###"
      ],
      "execution_count": null,
      "outputs": []
    },
    {
      "cell_type": "markdown",
      "metadata": {
        "id": "NA5tPyNA_xRM"
      },
      "source": [
        "문제 4\n",
        "- 반갑습니다를 여러 번 출력하는 코드를 작성해본다."
      ]
    },
    {
      "cell_type": "code",
      "metadata": {
        "id": "FuRUqddg_2tc"
      },
      "source": [
        "for i in range(2):\n",
        "  print(\"반갑습니다\")"
      ],
      "execution_count": null,
      "outputs": []
    },
    {
      "cell_type": "code",
      "metadata": {
        "id": "-hbg7NciJIsi"
      },
      "source": [
        ""
      ],
      "execution_count": null,
      "outputs": []
    }
  ]
}