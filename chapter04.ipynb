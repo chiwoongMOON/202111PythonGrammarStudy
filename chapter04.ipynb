{
  "nbformat": 4,
  "nbformat_minor": 0,
  "metadata": {
    "colab": {
      "name": "chapter04.ipynb",
      "private_outputs": true,
      "provenance": [],
      "authorship_tag": "ABX9TyOpCRObtcjCw88pUc6GG06N",
      "include_colab_link": true
    },
    "kernelspec": {
      "name": "python3",
      "display_name": "Python 3"
    },
    "language_info": {
      "name": "python"
    }
  },
  "cells": [
    {
      "cell_type": "markdown",
      "metadata": {
        "id": "view-in-github",
        "colab_type": "text"
      },
      "source": [
        "<a href=\"https://colab.research.google.com/github/waltechel/202111PythonGrammarStudy/blob/master/chapter04.ipynb\" target=\"_parent\"><img src=\"https://colab.research.google.com/assets/colab-badge.svg\" alt=\"Open In Colab\"/></a>"
      ]
    },
    {
      "cell_type": "markdown",
      "metadata": {
        "id": "Bm5fGChASc-N"
      },
      "source": [
        "# 4장.int형 데이터와 float형 데이터"
      ]
    },
    {
      "cell_type": "markdown",
      "metadata": {
        "id": "cWviuQhiSgG0"
      },
      "source": [
        "## 04-1.int형 데이터와 float형 데이터의 차이점"
      ]
    },
    {
      "cell_type": "markdown",
      "metadata": {
        "id": "1Z0xBMkMSvts"
      },
      "source": [
        "- 정수는 정확한 값을 저장하지만, 실수는 오차가 존재한다. "
      ]
    },
    {
      "cell_type": "code",
      "metadata": {
        "id": "fjYiO3vlSZtL"
      },
      "source": [
        "num = 2       # 정수는 정확한 값 저장\n",
        "print(num)"
      ],
      "execution_count": null,
      "outputs": []
    },
    {
      "cell_type": "code",
      "metadata": {
        "id": "MzJbgwlLSo00"
      },
      "source": [
        "num1 = 1.000000000000001      # 실수는 오차가 존재\n",
        "num2 = 1.1\n",
        "print(num1 + num2)"
      ],
      "execution_count": null,
      "outputs": []
    },
    {
      "cell_type": "markdown",
      "metadata": {
        "id": "vdOq8OwpS0l2"
      },
      "source": [
        "## 04-2.변수의 형태를 확인하는 type 함수"
      ]
    },
    {
      "cell_type": "code",
      "metadata": {
        "id": "r6GyMeG-TAEX"
      },
      "source": [
        "type(3)"
      ],
      "execution_count": null,
      "outputs": []
    },
    {
      "cell_type": "code",
      "metadata": {
        "id": "lpC7delfStZc"
      },
      "source": [
        "type(3.1)"
      ],
      "execution_count": null,
      "outputs": []
    },
    {
      "cell_type": "code",
      "metadata": {
        "id": "_zLtvRi-S-R3"
      },
      "source": [
        "type(3.0)"
      ],
      "execution_count": null,
      "outputs": []
    },
    {
      "cell_type": "markdown",
      "metadata": {
        "id": "rS9wFdtNTHMa"
      },
      "source": [
        "## 04-3.기본적인 산술연산"
      ]
    },
    {
      "cell_type": "code",
      "metadata": {
        "id": "kqT_95wUTNux"
      },
      "source": [
        "3 ** 2   # 거듭제곱을 계산"
      ],
      "execution_count": null,
      "outputs": []
    },
    {
      "cell_type": "code",
      "metadata": {
        "id": "87lRrR6TTNmf"
      },
      "source": [
        "5 / 2    # 실수형 나눗셈 계산"
      ],
      "execution_count": null,
      "outputs": []
    },
    {
      "cell_type": "code",
      "metadata": {
        "id": "j7WJP5AVTNcI"
      },
      "source": [
        "5 // 2   # 나눗셈의 몫을 계산"
      ],
      "execution_count": null,
      "outputs": []
    },
    {
      "cell_type": "code",
      "metadata": {
        "id": "a3kDkxwBTRm7"
      },
      "source": [
        "5 % 2    # 나눗셈의 나머지 계산"
      ],
      "execution_count": null,
      "outputs": []
    },
    {
      "cell_type": "markdown",
      "metadata": {
        "id": "4dRrmQJnTUBK"
      },
      "source": [
        "## 04-4.int함수와 float함수"
      ]
    },
    {
      "cell_type": "markdown",
      "metadata": {
        "id": "fR_PQPz4TaN5"
      },
      "source": [
        "- 해당 함수에 숫자로 이루어진 문자열을 전달할 경우 숫자로 바꿔주어 eval함수를 대체할 수 있다."
      ]
    },
    {
      "cell_type": "code",
      "metadata": {
        "id": "a8UBBpOETKRP"
      },
      "source": [
        "num = 10\n",
        "num = float(num)\n",
        "type(num)"
      ],
      "execution_count": null,
      "outputs": []
    },
    {
      "cell_type": "code",
      "metadata": {
        "id": "NvoxWXE9TfAD"
      },
      "source": [
        "num = float(\"3.14\")\n",
        "type(num)"
      ],
      "execution_count": null,
      "outputs": []
    },
    {
      "cell_type": "markdown",
      "metadata": {
        "id": "1hI4JUqxTmUJ"
      },
      "source": [
        "- input으로 받은 데이터의 값은 string이 된다."
      ]
    },
    {
      "cell_type": "code",
      "metadata": {
        "id": "XwCcI45JTs60"
      },
      "source": [
        "type(input(\"height: \"))\n",
        "# height: 165.3"
      ],
      "execution_count": null,
      "outputs": []
    },
    {
      "cell_type": "markdown",
      "metadata": {
        "id": "6hai9ZmbT2nP"
      },
      "source": [
        "- string으로 받은 값을 float 로 변환하였다. "
      ]
    },
    {
      "cell_type": "code",
      "metadata": {
        "id": "rY_yvm3xTgMK"
      },
      "source": [
        "height = float(input(\"height: \"))\n",
        "# height: 165.3\n",
        "print(height)"
      ],
      "execution_count": null,
      "outputs": []
    },
    {
      "cell_type": "markdown",
      "metadata": {
        "id": "z7NunE-sT7IP"
      },
      "source": [
        "## 04-5.int형 변환과 float형 변환"
      ]
    },
    {
      "cell_type": "markdown",
      "metadata": {
        "id": "TtrTGwHCT-eR"
      },
      "source": [
        "- float형을 int형으로 변환할 경우 소수점이하를 버린다"
      ]
    },
    {
      "cell_type": "code",
      "metadata": {
        "id": "gR6sEWWhTiXB"
      },
      "source": [
        "num = int(3.14)\n",
        "print(num)"
      ],
      "execution_count": null,
      "outputs": []
    },
    {
      "cell_type": "markdown",
      "metadata": {
        "id": "q2oZx57YUCkw"
      },
      "source": [
        "## 04-6.복합 대입"
      ]
    },
    {
      "cell_type": "code",
      "metadata": {
        "id": "eyjCGv90UAzG"
      },
      "source": [
        "num = 10\n",
        "num += 1   # num = num + 1을 줄인 표현\n",
        "print(num)"
      ],
      "execution_count": null,
      "outputs": []
    },
    {
      "cell_type": "code",
      "metadata": {
        "id": "h5HM0nyoU4q9"
      },
      "source": [
        "num -= 3 # num = num - 3을 줄인 표현\n",
        "print(num)"
      ],
      "execution_count": null,
      "outputs": []
    },
    {
      "cell_type": "code",
      "metadata": {
        "id": "a4b9EoUHU8N9"
      },
      "source": [
        "num *= 3  # num = num * 3을 줄인 표현\n",
        "print(num) "
      ],
      "execution_count": null,
      "outputs": []
    },
    {
      "cell_type": "markdown",
      "metadata": {
        "id": "W5QTu_k_VEdQ"
      },
      "source": [
        "## 04-7. 소괄호"
      ]
    },
    {
      "cell_type": "code",
      "metadata": {
        "id": "49htG0rMVCw2"
      },
      "source": [
        "3 + 4 / 2"
      ],
      "execution_count": null,
      "outputs": []
    },
    {
      "cell_type": "code",
      "metadata": {
        "id": "HYKgVPqwVH1k"
      },
      "source": [
        "(3 + 4) / 2"
      ],
      "execution_count": null,
      "outputs": []
    },
    {
      "cell_type": "markdown",
      "metadata": {
        "id": "11uuVVJnVVTQ"
      },
      "source": [
        "## 연습문제"
      ]
    },
    {
      "cell_type": "markdown",
      "metadata": {
        "id": "9y-f2qX2VZyp"
      },
      "source": [
        "- 정수형 나눗셈의 결과를 출력하는 함수를 만들어보자. 이 함수가 호출되면 다음의 실행 결과를 보이도록 해본다.\n",
        "- 예 : int_div(5, 2)\n",
        "- 몫 > 2\n",
        "- 나머지 > 1"
      ]
    },
    {
      "cell_type": "code",
      "metadata": {
        "id": "SSLpPi8nVI7W"
      },
      "source": [
        ""
      ],
      "execution_count": null,
      "outputs": []
    },
    {
      "cell_type": "markdown",
      "metadata": {
        "id": "wuwkwzesVncs"
      },
      "source": [
        "- 두 수 사이의 모든 정수의 합을 구하는 코드를 작성하라\n",
        "- 예 : bet_sum(2, 5)\n",
        "- 7\n",
        "- 예 : bet_sum(1, 5)\n",
        "- 9"
      ]
    },
    {
      "cell_type": "code",
      "metadata": {
        "id": "Y8GiXP7XV2Sj"
      },
      "source": [
        ""
      ],
      "execution_count": null,
      "outputs": []
    }
  ]
}