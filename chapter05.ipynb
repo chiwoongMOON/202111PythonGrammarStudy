{
  "nbformat": 4,
  "nbformat_minor": 0,
  "metadata": {
    "colab": {
      "name": "chapter05.ipynb",
      "private_outputs": true,
      "provenance": [],
      "authorship_tag": "ABX9TyN7vUnz1/z9IFi/A2NsQvNB",
      "include_colab_link": true
    },
    "kernelspec": {
      "name": "python3",
      "display_name": "Python 3"
    },
    "language_info": {
      "name": "python"
    }
  },
  "cells": [
    {
      "cell_type": "markdown",
      "metadata": {
        "id": "view-in-github",
        "colab_type": "text"
      },
      "source": [
        "<a href=\"https://colab.research.google.com/github/waltechel/202111PythonGrammarStudy/blob/master/chapter05.ipynb\" target=\"_parent\"><img src=\"https://colab.research.google.com/assets/colab-badge.svg\" alt=\"Open In Colab\"/></a>"
      ]
    },
    {
      "cell_type": "markdown",
      "metadata": {
        "id": "Bm5fGChASc-N"
      },
      "source": [
        "# 5장. 리스트와 문자열"
      ]
    },
    {
      "cell_type": "markdown",
      "metadata": {
        "id": "cWviuQhiSgG0"
      },
      "source": [
        "## 05-01.print 함수의 복습과 확장"
      ]
    },
    {
      "cell_type": "code",
      "metadata": {
        "id": "lisgNfEZZi-I"
      },
      "source": [
        "for i in [1, 2, 3]:\n",
        "        print(i)"
      ],
      "execution_count": null,
      "outputs": []
    },
    {
      "cell_type": "code",
      "metadata": {
        "id": "09ebKb-FZhi3"
      },
      "source": [
        "for i in [1, 2, 3]:\n",
        "        print(i, end = '_')"
      ],
      "execution_count": null,
      "outputs": []
    },
    {
      "cell_type": "code",
      "metadata": {
        "id": "NyqBHzmbZlfq"
      },
      "source": [
        "for i in [1, 2, 3]:\n",
        "        print(i, end = ' ')"
      ],
      "execution_count": null,
      "outputs": []
    },
    {
      "cell_type": "markdown",
      "metadata": {
        "id": "f3nDP79qZn2i"
      },
      "source": [
        "## 05-02.리스트형 데이터"
      ]
    },
    {
      "cell_type": "code",
      "metadata": {
        "id": "RTOto_oYZyhu"
      },
      "source": [
        "type([1, 2, 3])"
      ],
      "execution_count": null,
      "outputs": []
    },
    {
      "cell_type": "code",
      "metadata": {
        "id": "YCUXxU5rZ0ye"
      },
      "source": [
        "[1, \"hello\", 3.3]"
      ],
      "execution_count": null,
      "outputs": []
    },
    {
      "cell_type": "code",
      "metadata": {
        "id": "sijantLgZ1_L"
      },
      "source": [
        "[1, 2, [3, 4], [\"AAA\", \"ZZZ\"]]"
      ],
      "execution_count": null,
      "outputs": []
    },
    {
      "cell_type": "code",
      "metadata": {
        "id": "Fvi0ufDFZ79F"
      },
      "source": [
        "st = [1, \"hello\", 3.3]\n",
        "print(st)"
      ],
      "execution_count": null,
      "outputs": []
    },
    {
      "cell_type": "markdown",
      "metadata": {
        "id": "vdOq8OwpS0l2"
      },
      "source": [
        "## 05-03. 리스트형 데이터의 연산: 인덱싱 연산"
      ]
    },
    {
      "cell_type": "code",
      "metadata": {
        "id": "r6GyMeG-TAEX"
      },
      "source": [
        "[1, 2, 3] + [4, 5]"
      ],
      "execution_count": null,
      "outputs": []
    },
    {
      "cell_type": "code",
      "metadata": {
        "id": "lpC7delfStZc"
      },
      "source": [
        "[1, 2, 3] * 2"
      ],
      "execution_count": null,
      "outputs": []
    },
    {
      "cell_type": "code",
      "metadata": {
        "id": "jiyKfZi4aPCH"
      },
      "source": [
        "st = [1, 2, 3, 4, 5]\n",
        "n1 = st[0]\n",
        "n2 = st[4]\n",
        "print(n1, n2)"
      ],
      "execution_count": null,
      "outputs": []
    },
    {
      "cell_type": "code",
      "metadata": {
        "id": "YSrfgKYeaUNo"
      },
      "source": [
        "st = [1, 2, 3, 4, 5]\n",
        "st[0] = 5\n",
        "st[4] = 1\n",
        "st"
      ],
      "execution_count": null,
      "outputs": []
    },
    {
      "cell_type": "code",
      "metadata": {
        "id": "gp8jG2P8aXLt"
      },
      "source": [
        "st = [1, 2, 3, 4, 5]\n",
        "print(st[-1], st[-2], st[-3])"
      ],
      "execution_count": null,
      "outputs": []
    },
    {
      "cell_type": "markdown",
      "metadata": {
        "id": "g00vB4qTag_B"
      },
      "source": [
        "- 과제\n",
        "- st = [1, 2, 3, 4] 의 리스트에 담긴 값을 모두 1씩 증가시켜본다"
      ]
    },
    {
      "cell_type": "code",
      "metadata": {
        "id": "jJKrGptAaobL"
      },
      "source": [
        "st = [1, 2, 3, 4]"
      ],
      "execution_count": null,
      "outputs": []
    },
    {
      "cell_type": "code",
      "metadata": {
        "id": "qRCHyKklal6t"
      },
      "source": [
        ""
      ],
      "execution_count": null,
      "outputs": []
    },
    {
      "cell_type": "code",
      "metadata": {
        "id": "vKpiNbxybQLw"
      },
      "source": [
        "st"
      ],
      "execution_count": null,
      "outputs": []
    },
    {
      "cell_type": "markdown",
      "metadata": {
        "id": "FlneQj9ga357"
      },
      "source": [
        "- st = [1, 2, 3, 4, 5, 6, 7, 8, 9, 10] 의 리스트에 담긴 값을 모두 1씩 증가시켜본다"
      ]
    },
    {
      "cell_type": "code",
      "metadata": {
        "id": "Z30eUYkUa_2l"
      },
      "source": [
        "st = [1, 2, 3, 4, 5, 6, 7, 8, 9, 10] "
      ],
      "execution_count": null,
      "outputs": []
    },
    {
      "cell_type": "code",
      "metadata": {
        "id": "d6xyR03FbH10"
      },
      "source": [
        ""
      ],
      "execution_count": null,
      "outputs": []
    },
    {
      "cell_type": "code",
      "metadata": {
        "id": "CC8ytTVqbPDl"
      },
      "source": [
        "st"
      ],
      "execution_count": null,
      "outputs": []
    },
    {
      "cell_type": "markdown",
      "metadata": {
        "id": "myyxKTfQbDpm"
      },
      "source": [
        "- st = [1, 2, 3, 4, 5, 6, 7, 8, 9, 10] 의 처음과 마지막의 값을 바꾸도록 해본다"
      ]
    },
    {
      "cell_type": "code",
      "metadata": {
        "id": "eoUovqkDbHDf"
      },
      "source": [
        "st = [1, 2, 3, 4, 5, 6, 7, 8, 9, 10] "
      ],
      "execution_count": null,
      "outputs": []
    },
    {
      "cell_type": "code",
      "metadata": {
        "id": "2HCG4viTbIP3"
      },
      "source": [
        ""
      ],
      "execution_count": null,
      "outputs": []
    },
    {
      "cell_type": "code",
      "metadata": {
        "id": "7XAvJsZjbM7d"
      },
      "source": [
        "st"
      ],
      "execution_count": null,
      "outputs": []
    },
    {
      "cell_type": "markdown",
      "metadata": {
        "id": "Qd9hkGctbcMh"
      },
      "source": [
        "## 05-04. 리스트형 데이터의 연산:슬라이싱 연산"
      ]
    },
    {
      "cell_type": "code",
      "metadata": {
        "id": "S7FwoX8Nbigo"
      },
      "source": [
        "st1 = [0, 1, 2, 3, 4, 5, 6, 7, 8]"
      ],
      "execution_count": null,
      "outputs": []
    },
    {
      "cell_type": "code",
      "metadata": {
        "id": "415JUnz7bi1o"
      },
      "source": [
        "st2 = st1[2:5]       # st1[2:5]를 꺼내 st2에 저장"
      ],
      "execution_count": null,
      "outputs": []
    },
    {
      "cell_type": "code",
      "metadata": {
        "id": "yK5Wr1C9bkOX"
      },
      "source": [
        "st2"
      ],
      "execution_count": null,
      "outputs": []
    },
    {
      "cell_type": "markdown",
      "metadata": {
        "id": "2zAOZC6zbzTJ"
      },
      "source": [
        "- 중간에 슬라이싱으로 값을 넣는 부분"
      ]
    },
    {
      "cell_type": "code",
      "metadata": {
        "id": "klpxiCw8blRh"
      },
      "source": [
        "st1 = [0, 1, 2, 3, 4, 5, 6, 7, 8, 9]"
      ],
      "execution_count": null,
      "outputs": []
    },
    {
      "cell_type": "code",
      "metadata": {
        "id": "9L-uRmi8b4Fh"
      },
      "source": [
        "st1[2:5] = [0, 0, 0]"
      ],
      "execution_count": null,
      "outputs": []
    },
    {
      "cell_type": "code",
      "metadata": {
        "id": "XlJDUQ89b8JO"
      },
      "source": [
        "st1"
      ],
      "execution_count": null,
      "outputs": []
    },
    {
      "cell_type": "markdown",
      "metadata": {
        "id": "ENUtkZWFcUpp"
      },
      "source": [
        "## 05-05. 슬라이싱 연산에서 생략 가능한 부분"
      ]
    },
    {
      "cell_type": "code",
      "metadata": {
        "id": "hoEfF_tUb8yK"
      },
      "source": [
        "st = [1, 2, 3, 4, 5]\n",
        "st[0:3] = [0, 0, 0]\n",
        "st"
      ],
      "execution_count": null,
      "outputs": []
    },
    {
      "cell_type": "code",
      "metadata": {
        "id": "Pr63plL7caQW"
      },
      "source": [
        "st = [1, 2, 3, 4, 5]\n",
        "st[:3] = [0, 0, 0]\n",
        "st"
      ],
      "execution_count": null,
      "outputs": []
    },
    {
      "cell_type": "code",
      "metadata": {
        "id": "0uqvxqlpcd-F"
      },
      "source": [
        "st = [1, 2, 3, 4, 5]\n",
        "st[2:] = [0, 0, 0]\n",
        "st"
      ],
      "execution_count": null,
      "outputs": []
    },
    {
      "cell_type": "code",
      "metadata": {
        "id": "qEEAjlJ8cf6E"
      },
      "source": [
        "st = [1, 2, 3, 4, 5]\n",
        "st[:] = [0, 0, 0, 0, 0]\n",
        "st"
      ],
      "execution_count": null,
      "outputs": []
    },
    {
      "cell_type": "code",
      "metadata": {
        "id": "7yJznDRychzf"
      },
      "source": [
        "st = [1, 2, 3, 4, 5]\n",
        "st[:] = [0]        # 리스트 전체를 0 하나로 교체\n",
        "st"
      ],
      "execution_count": null,
      "outputs": []
    },
    {
      "cell_type": "code",
      "metadata": {
        "id": "VGDgXzW9ckRx"
      },
      "source": [
        "st = [1, 2, 3, 4, 5]\n",
        "st[:] = []        # 리스트 전체 내용 삭제\n",
        "st"
      ],
      "execution_count": null,
      "outputs": []
    },
    {
      "cell_type": "markdown",
      "metadata": {
        "id": "yrbZFxIvcpMl"
      },
      "source": [
        "## 05-06. 리스트에서 몇 칸씩 뛰면서 저장된 값들 꺼내기"
      ]
    },
    {
      "cell_type": "code",
      "metadata": {
        "id": "a3gyMkr3cmGU"
      },
      "source": [
        "st1 = [0, 1, 2, 3, 4, 5, 6, 7, 8, 9, 10, 11, 12, 13, 14, 15]\n",
        "st2 = st1[0:9:2]     # st1[0] ~ st2[8]까지 2칸씩 뛰면서\n",
        "st2"
      ],
      "execution_count": null,
      "outputs": []
    },
    {
      "cell_type": "code",
      "metadata": {
        "id": "EghxhA7AcuCZ"
      },
      "source": [
        "st1 = [0, 1, 2, 3, 4, 5, 6, 7, 8, 9, 10, 11, 12, 13, 14, 15]\n",
        "st2 = st1[0:9:3]      # st1[0] ~ st2[8]까지 3칸씩 뛰면서\n",
        "st2"
      ],
      "execution_count": null,
      "outputs": []
    },
    {
      "cell_type": "markdown",
      "metadata": {
        "id": "VOlyE3EbdB3t"
      },
      "source": [
        "## 과제"
      ]
    },
    {
      "cell_type": "markdown",
      "metadata": {
        "id": "-OyxCbRmc4h6"
      },
      "source": [
        "- st = [1, 2, 3, 4, 5] 에서 2, 4를 삭제해보도록 한다"
      ]
    },
    {
      "cell_type": "code",
      "metadata": {
        "id": "iOuhlYxHdEoe"
      },
      "source": [
        "st = [1, 2, 3, 4, 5]"
      ],
      "execution_count": null,
      "outputs": []
    },
    {
      "cell_type": "code",
      "metadata": {
        "id": "n38u8G88cyqb"
      },
      "source": [
        ""
      ],
      "execution_count": null,
      "outputs": []
    },
    {
      "cell_type": "markdown",
      "metadata": {
        "id": "Y87wGJd3dDJD"
      },
      "source": [
        "- st = [1, 2, 3, 4, 5] 에서 3, 4 사이에 3.5를 추가하라"
      ]
    },
    {
      "cell_type": "code",
      "metadata": {
        "id": "eScZtxxCdMkl"
      },
      "source": [
        "st = [1, 2, 3, 4, 5]"
      ],
      "execution_count": null,
      "outputs": []
    },
    {
      "cell_type": "code",
      "metadata": {
        "id": "sHnXrkeldNzD"
      },
      "source": [
        ""
      ],
      "execution_count": null,
      "outputs": []
    },
    {
      "cell_type": "markdown",
      "metadata": {
        "id": "06AFiSp8dOud"
      },
      "source": [
        "- st = [1, 2, 3, 4, 5] 에서 2, 3, 4를 삭제해본다.\n"
      ]
    },
    {
      "cell_type": "code",
      "metadata": {
        "id": "hY3DG4RldSve"
      },
      "source": [
        "st = [1, 2, 3, 4, 5]"
      ],
      "execution_count": null,
      "outputs": []
    },
    {
      "cell_type": "code",
      "metadata": {
        "id": "2DjE4RXxdTZd"
      },
      "source": [
        ""
      ],
      "execution_count": null,
      "outputs": []
    },
    {
      "cell_type": "markdown",
      "metadata": {
        "id": "W7GLrvH-dT7O"
      },
      "source": [
        "- st = [1, 2, 3, 4, 5]를 전부 지워본다"
      ]
    },
    {
      "cell_type": "code",
      "metadata": {
        "id": "5q1sL9ZzdXgF"
      },
      "source": [
        "st = [1, 2, 3, 4, 5]"
      ],
      "execution_count": null,
      "outputs": []
    },
    {
      "cell_type": "code",
      "metadata": {
        "id": "nasZACG7dYJG"
      },
      "source": [
        ""
      ],
      "execution_count": null,
      "outputs": []
    },
    {
      "cell_type": "code",
      "metadata": {
        "id": "KeKktyO8dZDH"
      },
      "source": [
        "st"
      ],
      "execution_count": null,
      "outputs": []
    },
    {
      "cell_type": "markdown",
      "metadata": {
        "id": "_4Y7YzP5daJV"
      },
      "source": [
        "- 다음 리스트의 홀수 값들만 출력해본다\n",
        "- st = [1, 2, 3, 4, 5, 6, 7, 8, 9, 10]"
      ]
    },
    {
      "cell_type": "code",
      "metadata": {
        "id": "tEupz5j3di1J"
      },
      "source": [
        "st = [1, 2, 3, 4, 5, 6, 7, 8, 9, 10]"
      ],
      "execution_count": null,
      "outputs": []
    },
    {
      "cell_type": "code",
      "metadata": {
        "id": "t-h8XPe9djrg"
      },
      "source": [
        ""
      ],
      "execution_count": null,
      "outputs": []
    },
    {
      "cell_type": "code",
      "metadata": {
        "id": "cU6mwdmzdkIG"
      },
      "source": [
        "st"
      ],
      "execution_count": null,
      "outputs": []
    },
    {
      "cell_type": "markdown",
      "metadata": {
        "id": "VoXpRX5LdlUJ"
      },
      "source": [
        "- 다음 리스트의 5의 배수 값들만 출력해본다\n",
        "- st = [1, 2, 3, 4, 5, 6, 7, 8, 9, 10]"
      ]
    },
    {
      "cell_type": "code",
      "metadata": {
        "id": "Qx9terdLdtic"
      },
      "source": [
        "st = [1, 2, 3, 4, 5, 6, 7, 8, 9, 10]"
      ],
      "execution_count": null,
      "outputs": []
    },
    {
      "cell_type": "code",
      "metadata": {
        "id": "UFemSGvHduWl"
      },
      "source": [
        ""
      ],
      "execution_count": null,
      "outputs": []
    },
    {
      "cell_type": "code",
      "metadata": {
        "id": "UNZTM2q0duoh"
      },
      "source": [
        "st"
      ],
      "execution_count": null,
      "outputs": []
    },
    {
      "cell_type": "markdown",
      "metadata": {
        "id": "3sQuiHHqdyOX"
      },
      "source": [
        "## 05-07. 스트링형 데이터 : 문자열"
      ]
    },
    {
      "cell_type": "code",
      "metadata": {
        "id": "rSkL_roCd2Lw"
      },
      "source": [
        "\"Happy birthday to you\""
      ],
      "execution_count": null,
      "outputs": []
    },
    {
      "cell_type": "code",
      "metadata": {
        "id": "gdeS-uUFd2qJ"
      },
      "source": [
        "'Happy birthday to you'"
      ],
      "execution_count": null,
      "outputs": []
    },
    {
      "cell_type": "code",
      "metadata": {
        "id": "nJBkWmTnd3bW"
      },
      "source": [
        "type('what1')      # 작은따옴표로 묶은 문자열"
      ],
      "execution_count": null,
      "outputs": []
    },
    {
      "cell_type": "code",
      "metadata": {
        "id": "xk0ia7-Cd4pl"
      },
      "source": [
        "type(\"what2\")      # 큰따옴표로 묶은 문자열"
      ],
      "execution_count": null,
      "outputs": []
    },
    {
      "cell_type": "markdown",
      "metadata": {
        "id": "WmvTudOLeBI5"
      },
      "source": [
        "- 리스트의 합은 데이터의 병합이 된다"
      ]
    },
    {
      "cell_type": "code",
      "metadata": {
        "id": "uj4K9v-8d55l"
      },
      "source": [
        "[1, 2] + [3, 4]"
      ],
      "execution_count": null,
      "outputs": []
    },
    {
      "cell_type": "markdown",
      "metadata": {
        "id": "GeoWN_yteGyc"
      },
      "source": [
        "- 문자열의 합연산은 문자의 연결이 된다"
      ]
    },
    {
      "cell_type": "code",
      "metadata": {
        "id": "5SfWjlq1d_P6"
      },
      "source": [
        "\"Hello\" + \"Everybody\""
      ],
      "execution_count": null,
      "outputs": []
    },
    {
      "cell_type": "markdown",
      "metadata": {
        "id": "eM05FqP-eMar"
      },
      "source": [
        "- 리스트의 곱은 리스트의 반복이 된다"
      ]
    },
    {
      "cell_type": "code",
      "metadata": {
        "id": "ypB0219SeAPv"
      },
      "source": [
        "[1, 2] * 3"
      ],
      "execution_count": null,
      "outputs": []
    },
    {
      "cell_type": "markdown",
      "metadata": {
        "id": "lk_JMQdeeRUB"
      },
      "source": [
        "- 문자열의 곱은 문자열의 반복이 된다"
      ]
    },
    {
      "cell_type": "code",
      "metadata": {
        "id": "pKp-7FZ5eQQ6"
      },
      "source": [
        "\"AZ\" * 3"
      ],
      "execution_count": null,
      "outputs": []
    },
    {
      "cell_type": "markdown",
      "metadata": {
        "id": "vY3se3o5eZ2l"
      },
      "source": [
        "- 리스트의 슬라이싱은 일부 데이터만 가져올 수 있다"
      ]
    },
    {
      "cell_type": "code",
      "metadata": {
        "id": "Oek4ob5geT9t"
      },
      "source": [
        "st = [1, 2, 3, 4, 5, 6, 7]\n",
        "st[2:5]"
      ],
      "execution_count": null,
      "outputs": []
    },
    {
      "cell_type": "markdown",
      "metadata": {
        "id": "095Xgw7EegSz"
      },
      "source": [
        "- 문자열의 슬라이싱은 일부 문자열만 가져올 수 있다"
      ]
    },
    {
      "cell_type": "code",
      "metadata": {
        "id": "fhepzbk3efQW"
      },
      "source": [
        "str = \"SIMPLEST\"\n",
        "str[2:5]"
      ],
      "execution_count": null,
      "outputs": []
    },
    {
      "cell_type": "markdown",
      "metadata": {
        "id": "IQU6RU24elap"
      },
      "source": [
        "- 리스트에서 일부 데이터만 변경하는 것은 가능하다"
      ]
    },
    {
      "cell_type": "code",
      "metadata": {
        "id": "hTS2LtO-ejFG"
      },
      "source": [
        "st = [1, 2, 3, 4, 5, 6, 7]\n",
        "st[0] = 0\n",
        "print(st)"
      ],
      "execution_count": null,
      "outputs": []
    },
    {
      "cell_type": "markdown",
      "metadata": {
        "id": "ky-jyzodeuyZ"
      },
      "source": [
        "- 일부 문자열만 변경하는 것은 불가능하다 "
      ]
    },
    {
      "cell_type": "code",
      "metadata": {
        "id": "92jAQSlyerCE"
      },
      "source": [
        "str = \"Happy\"\n",
        "str[0] = \"D\"\n",
        "print(str)"
      ],
      "execution_count": null,
      "outputs": []
    },
    {
      "cell_type": "markdown",
      "metadata": {
        "id": "zkMZtMKJe5Au"
      },
      "source": [
        "## 05-08. 리스트와 for 루프 그리고 문자열과 for 루프"
      ]
    },
    {
      "cell_type": "code",
      "metadata": {
        "id": "ZmP2PHPTetoe"
      },
      "source": [
        "for i in [1, 2, 3]:\n",
        "        print(i, end = ' ')"
      ],
      "execution_count": null,
      "outputs": []
    },
    {
      "cell_type": "code",
      "metadata": {
        "id": "ZEPmKH7tfAlg"
      },
      "source": [
        "for i in 'Happy':\n",
        "        print(i, end = ' ')"
      ],
      "execution_count": null,
      "outputs": []
    },
    {
      "cell_type": "markdown",
      "metadata": {
        "id": "mOtefuBefCdl"
      },
      "source": [
        "## 05-09. 리스트와 문자열을 전달받는 함수 len"
      ]
    },
    {
      "cell_type": "code",
      "metadata": {
        "id": "DcdoAy28fBte"
      },
      "source": [
        "st = [1, 2, 3]\n",
        "len(st)"
      ],
      "execution_count": null,
      "outputs": []
    },
    {
      "cell_type": "code",
      "metadata": {
        "id": "ewmu-qZ_fI8u"
      },
      "source": [
        "sr = 'HaHaHa~'\n",
        "len(sr)"
      ],
      "execution_count": null,
      "outputs": []
    },
    {
      "cell_type": "markdown",
      "metadata": {
        "id": "FrB5WhJpfRmj"
      },
      "source": [
        "## 과제"
      ]
    },
    {
      "cell_type": "markdown",
      "metadata": {
        "id": "xkErpCYcfS6O"
      },
      "source": [
        "- 리스트에 저장되어 있는 모든 값의 합을 계산해서 그 결과를 반환하는 함수를 만들어본다. \n",
        "- 함수의 이름은 sumAll 이다."
      ]
    },
    {
      "cell_type": "code",
      "metadata": {
        "id": "iETLE547fdEl"
      },
      "source": [
        ""
      ],
      "execution_count": null,
      "outputs": []
    },
    {
      "cell_type": "code",
      "metadata": {
        "id": "5_0PdDJxfKIf"
      },
      "source": [
        "sumAll([1, 2, 3, 4])"
      ],
      "execution_count": null,
      "outputs": []
    },
    {
      "cell_type": "markdown",
      "metadata": {
        "id": "_JUnUIqBfdod"
      },
      "source": [
        "- 문자열을 입력받았을 때 거꾸로 출력하는 함수를 만들어본다\n",
        "- 함수의 이름은 reversePrint 이다."
      ]
    },
    {
      "cell_type": "code",
      "metadata": {
        "id": "SYuVfXEHfmP4"
      },
      "source": [
        ""
      ],
      "execution_count": null,
      "outputs": []
    },
    {
      "cell_type": "code",
      "metadata": {
        "id": "MbQzcfD1fl2n"
      },
      "source": [
        "reversePrint(\"hello world!\")"
      ],
      "execution_count": null,
      "outputs": []
    }
  ]
}