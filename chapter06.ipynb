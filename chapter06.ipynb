{
  "nbformat": 4,
  "nbformat_minor": 0,
  "metadata": {
    "colab": {
      "name": "chapter06.ipynb",
      "private_outputs": true,
      "provenance": [],
      "authorship_tag": "ABX9TyM4w2h3ByQ2OwVl1yybevob",
      "include_colab_link": true
    },
    "kernelspec": {
      "name": "python3",
      "display_name": "Python 3"
    },
    "language_info": {
      "name": "python"
    }
  },
  "cells": [
    {
      "cell_type": "markdown",
      "metadata": {
        "id": "view-in-github",
        "colab_type": "text"
      },
      "source": [
        "<a href=\"https://colab.research.google.com/github/waltechel/202111PythonGrammarStudy/blob/master/chapter06.ipynb\" target=\"_parent\"><img src=\"https://colab.research.google.com/assets/colab-badge.svg\" alt=\"Open In Colab\"/></a>"
      ]
    },
    {
      "cell_type": "markdown",
      "metadata": {
        "id": "SeC13ZGlgV__"
      },
      "source": [
        "# chatper 06 리스트와 문자열의 함수들"
      ]
    },
    {
      "cell_type": "markdown",
      "metadata": {
        "id": "DsgUdZ6ngcqF"
      },
      "source": [
        "## 06-1.리스트와 함수들"
      ]
    },
    {
      "cell_type": "code",
      "metadata": {
        "id": "tRreYAC8gTpj"
      },
      "source": [
        "st = [1, 3, 5, 7, 9]\n",
        "num = len(st)\n",
        "num"
      ],
      "execution_count": null,
      "outputs": []
    },
    {
      "cell_type": "code",
      "metadata": {
        "id": "SrBd34TWgis-"
      },
      "source": [
        "st = [2, 5, 3, 7, 4]\n",
        "min(st)"
      ],
      "execution_count": null,
      "outputs": []
    },
    {
      "cell_type": "code",
      "metadata": {
        "id": "tMriEehPgkC3"
      },
      "source": [
        "max(st)"
      ],
      "execution_count": null,
      "outputs": []
    },
    {
      "cell_type": "code",
      "metadata": {
        "id": "9vwSzKDIglRo"
      },
      "source": [
        "st = [1, 2, 3]\n",
        "st.remove(2)       # 리스트에서 2를 찾아서 삭제\n",
        "st"
      ],
      "execution_count": null,
      "outputs": []
    },
    {
      "cell_type": "code",
      "metadata": {
        "id": "U2CPT4OAgrZ-"
      },
      "source": [
        "st = [1, 2, 3]\n",
        "st.append(4)     # st의 끝에 4 추가\n",
        "st"
      ],
      "execution_count": null,
      "outputs": []
    },
    {
      "cell_type": "code",
      "metadata": {
        "id": "oh8Onjxbgtvg"
      },
      "source": [
        "st.extend([5, 6])     # st의 끝에 [5, 6]의 내용 추가\n",
        "st"
      ],
      "execution_count": null,
      "outputs": []
    },
    {
      "cell_type": "code",
      "metadata": {
        "id": "Vj76HQNMgxuH"
      },
      "source": [
        "st = [1, 2, 4]\n",
        "st.insert(2, 3)     # 인덱스 값 2의 위치에 3 저장\n",
        "st"
      ],
      "execution_count": null,
      "outputs": []
    },
    {
      "cell_type": "code",
      "metadata": {
        "id": "5MRRegkzg1H2"
      },
      "source": [
        "st.clear()     # 리스트 내용 전부 삭제\n",
        "st"
      ],
      "execution_count": null,
      "outputs": []
    },
    {
      "cell_type": "code",
      "metadata": {
        "id": "ldc1ULPzg2ZP"
      },
      "source": [
        "st = []      # 빈 리스트 생성\n",
        "st.append(1)      # 리스트에 1 추가\n",
        "st.append(9)      # 리스트에 9 추가\n",
        "st"
      ],
      "execution_count": null,
      "outputs": []
    },
    {
      "cell_type": "code",
      "metadata": {
        "id": "sk9i6VWNg4fX"
      },
      "source": [
        "st = [1, 2, 3, 4, 5]\n",
        "print(\"st.pop(0) : \", st.pop(0))     # 인덱스 값 0의 위치에 저장된 데이터 삭제\n",
        "print(\"st : \", st)"
      ],
      "execution_count": null,
      "outputs": []
    },
    {
      "cell_type": "code",
      "metadata": {
        "id": "kRPXanC8g6FO"
      },
      "source": [
        "st.remove(5)     # 리스트에서 5를 삭제\n",
        "st"
      ],
      "execution_count": null,
      "outputs": []
    },
    {
      "cell_type": "code",
      "metadata": {
        "id": "CE9wbHSZhK1R"
      },
      "source": [
        "st = [1, 2, 3, 1, 2]\n",
        "st.count(1)     # 1이 몇 번 등장하는지 세어라."
      ],
      "execution_count": null,
      "outputs": []
    },
    {
      "cell_type": "code",
      "metadata": {
        "id": "dgrnyX_4hP3D"
      },
      "source": [
        "st = [1, 2, 3, 1, 2]\n",
        "st.index(2)     # 처음 2가 등장하는 위치의 인덱스 값은?"
      ],
      "execution_count": null,
      "outputs": []
    },
    {
      "cell_type": "markdown",
      "metadata": {
        "id": "FJB31xivh6QI"
      },
      "source": [
        "## 06-2. 두 가지 유형의 함수가 갖는 특징들"
      ]
    },
    {
      "cell_type": "markdown",
      "metadata": {
        "id": "x-2ys_NVh__5"
      },
      "source": [
        "- 객체 안에 있는 함수들은 해당 객체에 특화되어 있다\n",
        "- 그러나, 객체 밖에 있는 함수들은 특정 객체에 특화되지 않는다."
      ]
    },
    {
      "cell_type": "markdown",
      "metadata": {
        "id": "4i-WQ-FUiIkY"
      },
      "source": [
        "## 06-3. 문자열과 함수들"
      ]
    },
    {
      "cell_type": "code",
      "metadata": {
        "id": "SljJGiWjhTXT"
      },
      "source": [
        "str = \"YoonSungWoo\"\n",
        "str.count(\"o\")     # \"o\"가 몇 번 등장?"
      ],
      "execution_count": null,
      "outputs": []
    },
    {
      "cell_type": "code",
      "metadata": {
        "id": "9Peu80iLiPAK"
      },
      "source": [
        "str.count(\"oo\")     # \"oo\"가 몇 번 등장?"
      ],
      "execution_count": null,
      "outputs": []
    },
    {
      "cell_type": "markdown",
      "metadata": {
        "id": "QPpkVuzgitlU"
      },
      "source": [
        "- lower, upper"
      ]
    },
    {
      "cell_type": "code",
      "metadata": {
        "id": "-d9m3BsCiP_R"
      },
      "source": [
        "org = \"Yoon\"\n",
        "lcp = org.lower()    # 모든 문자를 소문자로 바꿔서 반환\n",
        "ucp = org.upper()    # 모든 문자를 대문자로 바꿔서 반환\n",
        "print(\"org\", org)           # 원본은 그대로 존재한다\n",
        "print(\"lcp\", lcp)\n",
        "print(\"ucp\", ucp)"
      ],
      "execution_count": null,
      "outputs": []
    },
    {
      "cell_type": "markdown",
      "metadata": {
        "id": "o_cmsDNvivJV"
      },
      "source": [
        "- lstrip, rstrip"
      ]
    },
    {
      "cell_type": "code",
      "metadata": {
        "id": "y2dU77S3iUda"
      },
      "source": [
        "org = \" MIDDLE \"\n",
        "cp1 = org.lstrip()    # 앞쪽에(왼쪽에) 있는 공백들 모두 제거\n",
        "cp2 = org.rstrip()    # 뒤쪽에(오른쪽에) 있는 공백들 모두 제거\n",
        "org"
      ],
      "execution_count": null,
      "outputs": []
    },
    {
      "cell_type": "code",
      "metadata": {
        "id": "fZuePZy5irJP"
      },
      "source": [
        "cp1"
      ],
      "execution_count": null,
      "outputs": []
    },
    {
      "cell_type": "code",
      "metadata": {
        "id": "1-ZDyH4bis66"
      },
      "source": [
        "cp2"
      ],
      "execution_count": null,
      "outputs": []
    },
    {
      "cell_type": "code",
      "metadata": {
        "id": "i-ES66D0iyKv"
      },
      "source": [
        "org = \" MIDDLE \"\n",
        "cpy = org.strip()     # 앞과 뒤에 있는 공백들 모두 제거\n",
        "cpy"
      ],
      "execution_count": null,
      "outputs": []
    },
    {
      "cell_type": "markdown",
      "metadata": {
        "id": "229Jp_Bci7Jx"
      },
      "source": [
        "- replace 함수"
      ]
    },
    {
      "cell_type": "code",
      "metadata": {
        "id": "UuLP2mali0df"
      },
      "source": [
        "org = \"YoonSungWoo\"\n",
        "rps = org.replace(\"oo\", \"ee\")     # \"oo\"를 전부 \"ee\"로 교체\n",
        "rps"
      ],
      "execution_count": null,
      "outputs": []
    },
    {
      "cell_type": "code",
      "metadata": {
        "id": "zD1kZlAXjAb4"
      },
      "source": [
        "org = \"YoonSungWoo\"\n",
        "rps = org.replace(\"oo\", \"ee\", 1)   # 첫 번째로 등장하는 \"oo\" 하나를 \"ee\"로 교체\n",
        "rps"
      ],
      "execution_count": null,
      "outputs": []
    },
    {
      "cell_type": "markdown",
      "metadata": {
        "id": "0EX1GToqjPAD"
      },
      "source": [
        "- split 함수"
      ]
    },
    {
      "cell_type": "code",
      "metadata": {
        "id": "lR6fwi3djCeG"
      },
      "source": [
        "org = \"ab cd ef\"\n",
        "ret = org.split(' ')    # 공백을 기준으로 문자열을 쪼개서 리스트에 담아!\n",
        "ret"
      ],
      "execution_count": null,
      "outputs": []
    },
    {
      "cell_type": "code",
      "metadata": {
        "id": "Z5ekQaLMjOEn"
      },
      "source": [
        "org = \"ab_cd_ef\"\n",
        "ret = org.split('_')    # '_'를 기준으로 문자열을 쪼개서 리스트에 담아!\n",
        "ret"
      ],
      "execution_count": null,
      "outputs": []
    },
    {
      "cell_type": "markdown",
      "metadata": {
        "id": "3yP9HN2yjWXt"
      },
      "source": [
        "## 과제"
      ]
    },
    {
      "cell_type": "markdown",
      "metadata": {
        "id": "2TB6HHG9jgfo"
      },
      "source": [
        "- hello world! 문자열을 대문자로 바꾸어 출력하라"
      ]
    },
    {
      "cell_type": "code",
      "metadata": {
        "id": "_bREotHbjl0v"
      },
      "source": [
        ""
      ],
      "execution_count": null,
      "outputs": []
    },
    {
      "cell_type": "markdown",
      "metadata": {
        "id": "nAXsbH7qjm_r"
      },
      "source": [
        "- I LIKE STUDY! 문자열을 소문자로 바꾸어 출력하라"
      ]
    },
    {
      "cell_type": "code",
      "metadata": {
        "id": "ZQttTb9vjtsp"
      },
      "source": [
        ""
      ],
      "execution_count": null,
      "outputs": []
    },
    {
      "cell_type": "markdown",
      "metadata": {
        "id": "jv0uYhweju7f"
      },
      "source": [
        "- 주민등록번호를 받아 생년월일 정보를 출력하는 함수를 만든다. 함수 이름은 birth_year 이다."
      ]
    },
    {
      "cell_type": "code",
      "metadata": {
        "id": "lXoeEQSOj5NY"
      },
      "source": [
        ""
      ],
      "execution_count": null,
      "outputs": []
    },
    {
      "cell_type": "code",
      "metadata": {
        "id": "lbvgrSwmjuk7"
      },
      "source": [
        "birth_year(\"001201-1020193\")"
      ],
      "execution_count": null,
      "outputs": []
    },
    {
      "cell_type": "markdown",
      "metadata": {
        "id": "Bezo5QnojgYi"
      },
      "source": [
        "- 주민등록번호를 받아 성별 정보를 출력하는 함수를 만든다. 함수 이름은 gender 이다."
      ]
    },
    {
      "cell_type": "code",
      "metadata": {
        "id": "sOnguyLLjXZq"
      },
      "source": [
        ""
      ],
      "execution_count": null,
      "outputs": []
    },
    {
      "cell_type": "code",
      "metadata": {
        "id": "Nwl_3YvZjTnz"
      },
      "source": [
        "gender(\"001201-1020193\")"
      ],
      "execution_count": null,
      "outputs": []
    },
    {
      "cell_type": "markdown",
      "metadata": {
        "id": "BIJb8VXwkQGj"
      },
      "source": [
        "## 06-4. 문자열의 탐색 관련 함수들"
      ]
    },
    {
      "cell_type": "code",
      "metadata": {
        "id": "I0I1owGrkJAG"
      },
      "source": [
        "str = \"What is important is that you should choose what is best for you\"\n",
        "str.find(\"is\")     # \"is\"가 있는 위치의 인덱스 값은?"
      ],
      "execution_count": null,
      "outputs": []
    },
    {
      "cell_type": "code",
      "metadata": {
        "id": "aOsnnaZakVJC"
      },
      "source": [
        "str = \"What is important is that you should choose what is best for you\"\n",
        "str.rfind(\"is\")     # 마지막 \"is\"가 있는 위치의 인덱스 값은?"
      ],
      "execution_count": null,
      "outputs": []
    },
    {
      "cell_type": "code",
      "metadata": {
        "id": "KBrDXY6IkX4g"
      },
      "source": [
        "str = \"What is important is that you should choose what is best for you\"\n",
        "str.find(\"dongjun\")     # \"is\"가 있는 위치의 인덱스 값은?"
      ],
      "execution_count": null,
      "outputs": []
    },
    {
      "cell_type": "code",
      "metadata": {
        "id": "qwqMXyrAkbO0"
      },
      "source": [
        "str = \"What is important is that you should choose what is best for you\"\n",
        "str.rfind(\"dongjun\")     # 마지막 \"is\"가 있는 위치의 인덱스 값은?"
      ],
      "execution_count": null,
      "outputs": []
    },
    {
      "cell_type": "markdown",
      "metadata": {
        "id": "ttwGI9r0khIh"
      },
      "source": [
        "## 06-5. 문자열의 일부로 포함이 되는 이스케이프 문자"
      ]
    },
    {
      "cell_type": "code",
      "metadata": {
        "id": "C27coLD9kduk"
      },
      "source": [
        "str = \"escape\\ncharacters\"\n",
        "print(str)"
      ],
      "execution_count": null,
      "outputs": []
    },
    {
      "cell_type": "code",
      "metadata": {
        "id": "m7Md7VC2kmfZ"
      },
      "source": [
        "str = \"hello\\nworld!\"\n",
        "print(str)"
      ],
      "execution_count": null,
      "outputs": []
    },
    {
      "cell_type": "code",
      "metadata": {
        "id": "ggh_nN0Ekr3q"
      },
      "source": [
        "str = \"제가 마음속으로 그랬습니다. '이건 아니야!'라고 말이죠.\"\n",
        "print(str)"
      ],
      "execution_count": null,
      "outputs": []
    },
    {
      "cell_type": "code",
      "metadata": {
        "id": "4_kUdoOykvD0"
      },
      "source": [
        "str = '제가 마음속으로 그랬습니다. \"이건 아니야!\"라고 말이죠.'\n",
        "print(str)"
      ],
      "execution_count": null,
      "outputs": []
    },
    {
      "cell_type": "markdown",
      "metadata": {
        "id": "21feNdzok8tn"
      },
      "source": [
        "## 06-6. 함수가 아닌 del 명령"
      ]
    },
    {
      "cell_type": "code",
      "metadata": {
        "id": "B3RIWrlok3vm"
      },
      "source": [
        "st = [1, 2, 3, 4, 5]\n",
        "st.clear()      # 리스트의 모든 값 삭제\n",
        "st"
      ],
      "execution_count": null,
      "outputs": []
    },
    {
      "cell_type": "code",
      "metadata": {
        "id": "5_XbmgnMlBQ3"
      },
      "source": [
        "st = [1, 2, 3, 4, 5]\n",
        "st[:] = []      # 리스트의 모든 값 삭제\n",
        "st"
      ],
      "execution_count": null,
      "outputs": []
    },
    {
      "cell_type": "code",
      "metadata": {
        "id": "qQ75YKkplChm"
      },
      "source": [
        "st = [1, 2, 3, 4, 5]\n",
        "st[2:] = []      # 인덱스 2 이후로 전부 삭제\n",
        "st"
      ],
      "execution_count": null,
      "outputs": []
    },
    {
      "cell_type": "markdown",
      "metadata": {
        "id": "Aw9sRBtDlIeZ"
      },
      "source": [
        "- 그런데 파이썬은 del이라는 명령도 제공하고 있어서, 이를 통해 다음과 같이 삭제를 진행할 수도 있다. "
      ]
    },
    {
      "cell_type": "code",
      "metadata": {
        "id": "FIHH5FTklEIC"
      },
      "source": [
        "st = [1, 2, 3, 4, 5]\n",
        "del st[:]        # 리스트에 저장된 값 모두 삭제\n",
        "st"
      ],
      "execution_count": null,
      "outputs": []
    },
    {
      "cell_type": "code",
      "metadata": {
        "id": "JKci9EiYlG4w"
      },
      "source": [
        "st = [1, 2, 3, 4, 5]\n",
        "del st[3:]      # st[3]부터 그 뒤까지 모두 삭제\n",
        "print(\"st : \", st)\n",
        "del st[0]       # st[0] 하나만 삭제\n",
        "print(\"st : \", st)"
      ],
      "execution_count": null,
      "outputs": []
    },
    {
      "cell_type": "code",
      "metadata": {
        "id": "bodITrfDlVIp"
      },
      "source": [
        "st = [1, 2, 3, 4, 5]\n",
        "del st      # 리스트를 통째로 삭제! 리스트 자체를 삭제!"
      ],
      "execution_count": null,
      "outputs": []
    },
    {
      "cell_type": "markdown",
      "metadata": {
        "id": "PIgUdjYNlbkr"
      },
      "source": [
        "## 과제"
      ]
    },
    {
      "cell_type": "markdown",
      "metadata": {
        "id": "8wbt4LCmld8q"
      },
      "source": [
        "- 여기까지 우리는 print, 리스트, 문자열의 입출력을 배웠습니다\n",
        "- 이제부터는 파이썬을 활용하여 백준 문제를 풀어보도록 합니다."
      ]
    },
    {
      "cell_type": "code",
      "metadata": {
        "id": "pptdDQ9JlX_o"
      },
      "source": [
        ""
      ],
      "execution_count": null,
      "outputs": []
    }
  ]
}