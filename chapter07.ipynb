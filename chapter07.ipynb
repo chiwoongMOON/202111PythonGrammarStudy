{
  "nbformat": 4,
  "nbformat_minor": 0,
  "metadata": {
    "colab": {
      "name": "chapter07.ipynb",
      "private_outputs": true,
      "provenance": [],
      "include_colab_link": true
    },
    "kernelspec": {
      "name": "python3",
      "display_name": "Python 3"
    },
    "language_info": {
      "name": "python"
    }
  },
  "cells": [
    {
      "cell_type": "markdown",
      "metadata": {
        "id": "view-in-github",
        "colab_type": "text"
      },
      "source": [
        "<a href=\"https://colab.research.google.com/github/chiwoongMOON/202111PythonGrammarStudy/blob/master/chapter07.ipynb\" target=\"_parent\"><img src=\"https://colab.research.google.com/assets/colab-badge.svg\" alt=\"Open In Colab\"/></a>"
      ]
    },
    {
      "cell_type": "markdown",
      "metadata": {
        "id": "U31SiWiGmkfo"
      },
      "source": [
        "# chatper 07 True, False 그리고 if 와 그 형제들"
      ]
    },
    {
      "cell_type": "markdown",
      "metadata": {
        "id": "5cRAaZUimrXN"
      },
      "source": [
        "## 07-1. 참과 거짓을 의미하는 값(데이터)"
      ]
    },
    {
      "cell_type": "code",
      "metadata": {
        "id": "84beJvF2mAR1"
      },
      "source": [
        "True     # True는 그 단어의 의미처럼 '참'을 뜻한다."
      ],
      "execution_count": null,
      "outputs": []
    },
    {
      "cell_type": "code",
      "metadata": {
        "id": "ED1djiahmwUW"
      },
      "source": [
        "False     # False는 그 단어의 의미처럼 '거짓'을 뜻한다."
      ],
      "execution_count": null,
      "outputs": []
    },
    {
      "cell_type": "code",
      "metadata": {
        "id": "rUbHMivGmxX1"
      },
      "source": [
        "3 > 10  # 3이 10보다 크니?"
      ],
      "execution_count": null,
      "outputs": []
    },
    {
      "cell_type": "code",
      "metadata": {
        "id": "iJrzww4lmyfv"
      },
      "source": [
        "3 < 10  # 3이 10보다 작으니?"
      ],
      "execution_count": null,
      "outputs": []
    },
    {
      "cell_type": "code",
      "metadata": {
        "id": "AI3UWPfxmzhN"
      },
      "source": [
        "r = 3 < 10     # < 연산의 결과인 True가 변수 r에 저장된다.\n",
        "r"
      ],
      "execution_count": null,
      "outputs": []
    },
    {
      "cell_type": "code",
      "metadata": {
        "id": "1FTyah18m1k8"
      },
      "source": [
        "print(\"type(True) : \", type(True))\n",
        "print(\"type(False) : \", type(False))"
      ],
      "execution_count": null,
      "outputs": []
    },
    {
      "cell_type": "markdown",
      "metadata": {
        "id": "oxu8tB8qnIGX"
      },
      "source": [
        "## 데이터 중간정리\n",
        "- int형 데이터   ex) 3, 5, 7, 9\n",
        "- float형 데이터   ex) 2.2, 4.4, 6.6, 8.8\n",
        "- 리스트형 데이터   ex) [3, 5, 7, 9], [2.2, 4.4, 6.6, 8.8]\n",
        "- 스트링형 데이터   ex) \"I am a boy\", 'You are a girl'\n",
        "- 부울형 데이터   ex) True, False"
      ]
    },
    {
      "cell_type": "markdown",
      "metadata": {
        "id": "w3YkvWyqnWjD"
      },
      "source": [
        "## 07-2. 소스파일에 main함수 만들기"
      ]
    },
    {
      "cell_type": "code",
      "metadata": {
        "id": "movGIoTUm2dV"
      },
      "source": [
        "# main.py\n",
        "def main():  # main 함수의 정의\n",
        "  print(\"Simple Frame\")\n",
        "\n",
        "main()   # main 함수의 호출을 명령함"
      ],
      "execution_count": null,
      "outputs": []
    },
    {
      "cell_type": "markdown",
      "metadata": {
        "id": "XX2dinpMneRC"
      },
      "source": [
        "## 07-3. if문: 조건이 맞으면 실행하라 "
      ]
    },
    {
      "cell_type": "code",
      "metadata": {
        "id": "_M82n9ncnbX5"
      },
      "source": [
        "# if_positive.py\n",
        "def main():   # main 함수의 정의\n",
        "  num = int(input(\"정수 입력: \"))\n",
        "  if num > 0:\n",
        "    print(\"양의 정수입니다.\")\n",
        "\n",
        "main()   # 위의 main 함수를 실행해라!"
      ],
      "execution_count": null,
      "outputs": []
    },
    {
      "cell_type": "code",
      "metadata": {
        "id": "eQ82MypBnmVx"
      },
      "source": [
        "num = 2\n",
        "if num > 0: print(\"양의 정수입니다.\") # 한 줄이면 이렇게도 가능"
      ],
      "execution_count": null,
      "outputs": []
    },
    {
      "cell_type": "markdown",
      "metadata": {
        "id": "OOkbJ_hfn4bv"
      },
      "source": [
        "## 07-4. if~else문 : 이쪽 길! 아니면 저쪽 길!"
      ]
    },
    {
      "cell_type": "code",
      "metadata": {
        "id": "qh9Uvkvfn02M"
      },
      "source": [
        "# if_else.py\n",
        "def main():\n",
        "  num = int(input(\"정수 입력: \"))\n",
        "  if num > 0:\n",
        "    print(\"0보다 큰 수입니다.\")  # num이 0보다 크면 이 문장 실행\n",
        "  else:\n",
        "    print(\"0보다 크지 않은 수입니다.\") # num이 0보다 크지 않으면 이 문장 실행\n",
        "\n",
        "main()"
      ],
      "execution_count": null,
      "outputs": []
    },
    {
      "cell_type": "markdown",
      "metadata": {
        "id": "ggGhZY0FoPXg"
      },
      "source": [
        "## 07-5. if ~ elif ~ else문: 여러 길 중에서 하나의 길만 선택!"
      ]
    },
    {
      "cell_type": "code",
      "metadata": {
        "id": "ZUHI9ivOoGm3"
      },
      "source": [
        "# if_elif_else.py\n",
        "def main():\n",
        "  num = int(input(\"정수 입력: \"))\n",
        "\n",
        "  if num > 0:\n",
        "    print(\"0보다 큰 수입니다.\") # 문장 1\n",
        "  elif num < 0:\n",
        "    print(\"0보다 작은 수입니다.\") # 문장 2\n",
        "  else:\n",
        "    print(\"0으로 판단이 됩니다.\") # 문장 3\n",
        "\n",
        "main()"
      ],
      "execution_count": null,
      "outputs": []
    },
    {
      "cell_type": "markdown",
      "metadata": {
        "id": "rXBm9DQtofrs"
      },
      "source": [
        "## 07-6. True 또는 False를 반환하는 연산들"
      ]
    },
    {
      "cell_type": "code",
      "metadata": {
        "id": "K8Q0hz7hoddw"
      },
      "source": [
        "# if_elif_else.py\n",
        "def main():\n",
        "  num = int(input(\"정수 입력: \"))\n",
        "\n",
        "  if num == 1:\n",
        "    print(\"1을 입력했습니다.\")\n",
        "  elif num == 2:\n",
        "    print(\"2을 입력했습니다.\")\n",
        "  elif num == 3:\n",
        "    print(\"3을 입력했습니다.\")\n",
        "  else:\n",
        "    print(\"1, 2, 3 아닌 정수를 입력했습니다.\")\n",
        "\n",
        "main()"
      ],
      "execution_count": null,
      "outputs": []
    },
    {
      "cell_type": "code",
      "metadata": {
        "id": "O2kepnQ6pDBH"
      },
      "source": [
        "# if_and_if.py\n",
        "def main():\n",
        "  num = int(input(\"2의 배수이면서 3의 배수인 수 입력: \"))\n",
        "\n",
        "  if num % 2 == 0:\n",
        "    if num % 3 == 0:\n",
        "      print(\"OK!\")\n",
        "    else:\n",
        "      print(\"NO!\")\n",
        "  else:\n",
        "    print(\"NO!\")\n",
        "  \n",
        "main()"
      ],
      "execution_count": null,
      "outputs": []
    },
    {
      "cell_type": "markdown",
      "metadata": {
        "id": "04_09diPpjKu"
      },
      "source": [
        "- and 연산자"
      ]
    },
    {
      "cell_type": "code",
      "metadata": {
        "id": "FzgXwnaNpc2J"
      },
      "source": [
        "True and True"
      ],
      "execution_count": null,
      "outputs": []
    },
    {
      "cell_type": "code",
      "metadata": {
        "id": "l6N2f9n1pgzo"
      },
      "source": [
        "True and False"
      ],
      "execution_count": null,
      "outputs": []
    },
    {
      "cell_type": "code",
      "metadata": {
        "id": "e7sq97RjpnKh"
      },
      "source": [
        "False and True"
      ],
      "execution_count": null,
      "outputs": []
    },
    {
      "cell_type": "code",
      "metadata": {
        "id": "-u3Rfo8WplIU"
      },
      "source": [
        "False and False"
      ],
      "execution_count": null,
      "outputs": []
    },
    {
      "cell_type": "markdown",
      "metadata": {
        "id": "64IhAXbGpqJD"
      },
      "source": [
        "- or 연산자"
      ]
    },
    {
      "cell_type": "code",
      "metadata": {
        "id": "mWzHK1GQpxWm"
      },
      "source": [
        "True or True"
      ],
      "execution_count": null,
      "outputs": []
    },
    {
      "cell_type": "code",
      "metadata": {
        "id": "dx9j9hF4pxWo"
      },
      "source": [
        "True or False"
      ],
      "execution_count": null,
      "outputs": []
    },
    {
      "cell_type": "code",
      "metadata": {
        "id": "rGJt3XqYpxWp"
      },
      "source": [
        "False or True"
      ],
      "execution_count": null,
      "outputs": []
    },
    {
      "cell_type": "code",
      "metadata": {
        "id": "9F9hbiappxWp"
      },
      "source": [
        "False or False"
      ],
      "execution_count": null,
      "outputs": []
    },
    {
      "cell_type": "markdown",
      "metadata": {
        "id": "iqp5H2wVp35F"
      },
      "source": [
        "- not 연산자"
      ]
    },
    {
      "cell_type": "code",
      "metadata": {
        "id": "6RcXprxfpmfQ"
      },
      "source": [
        "not False"
      ],
      "execution_count": null,
      "outputs": []
    },
    {
      "cell_type": "code",
      "metadata": {
        "id": "QIvwwZYXp7RK"
      },
      "source": [
        "not True"
      ],
      "execution_count": null,
      "outputs": []
    },
    {
      "cell_type": "code",
      "metadata": {
        "id": "gkkpvowjp8I0"
      },
      "source": [
        "# and.py\n",
        "\n",
        "def main():\n",
        "    num = int(input(\"2의 배수이면서 3의 배수인 수 입력: \"))\n",
        "\n",
        "    if num % 2 == 0 and num % 3 == 0:\n",
        "        print(\"OK!\")\n",
        "    else:\n",
        "        print(\"NO!\") \n",
        "\n",
        "main()\n"
      ],
      "execution_count": null,
      "outputs": []
    },
    {
      "cell_type": "markdown",
      "metadata": {
        "id": "cK__P99NqgoK"
      },
      "source": [
        "## 과제"
      ]
    },
    {
      "cell_type": "markdown",
      "metadata": {
        "id": "PRCiu74Oqidg"
      },
      "source": [
        "- 우리는 이제 if도 할 수 있습니다. \n",
        "- 얼른 백준으로 가서 문제를 또 풀어보지요"
      ]
    },
    {
      "cell_type": "code",
      "source": [
        "n1, n2, n3 = input().split()\n",
        "n1 = int(n1)\n",
        "n2 = int(n2)\n",
        "n3 = int(n3)\n",
        "\n",
        "if n1 == n2 == n3:\n",
        "  print(10000 + n1 * 1000)\n",
        "elif n1 == n2:\n",
        "  print(1000 + n1 * 100)\n",
        "elif n1 == n3:\n",
        "  print(1000 + n1 * 100)\n",
        "elif n2 == n3:\n",
        "  print(1000 + n2 * 100)\n",
        "else:\n",
        "  if n1 > n2:\n",
        "    if n1 > n3:\n",
        "      print(n1 * 100)\n",
        "    else:\n",
        "      print(n3 * 100)"
      ],
      "metadata": {
        "id": "rNzZvJiNICeG"
      },
      "execution_count": null,
      "outputs": []
    },
    {
      "cell_type": "code",
      "source": [
        "n1, n2, n3 = input().split()\n",
        "\n",
        "n1 = int(n1)\n",
        "\n",
        "n2 = int(n2)\n",
        "\n",
        "n3 = int(n3)\n",
        "\n",
        "\n",
        "\n",
        "if n1 == n2 and n2 == n3:\n",
        "\n",
        "  print(10000 + n1 * 1000)\n",
        "\n",
        "elif n1 == n2:\n",
        "\n",
        "  print(1000 + n1 * 100)\n",
        "\n",
        "elif n1 == n3:\n",
        "\n",
        "  print(1000 + n1 * 100)\n",
        "\n",
        "elif n2 == n3:\n",
        "\n",
        "  print(1000 + n2 * 100)\n",
        "\n",
        "else:\n",
        "\n",
        "  answer = max(n1, n2)\n",
        "\n",
        "  answer = max(n3, answer)\n",
        "\n",
        "  print(answer * 100)"
      ],
      "metadata": {
        "id": "Soh1l48pLT4Q"
      },
      "execution_count": null,
      "outputs": []
    },
    {
      "cell_type": "code",
      "source": [
        "n, m = map(int, input().split())\n",
        "for i in range(n, m+1, 1):\n",
        "  if n == m:\n",
        "    break\n",
        "print(i)\n"
      ],
      "metadata": {
        "id": "AP31wNsdLVhy"
      },
      "execution_count": null,
      "outputs": []
    },
    {
      "cell_type": "code",
      "source": [
        "N, M = map(int, input().split())\n",
        "if N - M < 0:\n",
        "  print(M - N)\n",
        "else :\n",
        "  print(N - M)"
      ],
      "metadata": {
        "id": "I14POP8lMnHQ"
      },
      "execution_count": null,
      "outputs": []
    },
    {
      "cell_type": "code",
      "source": [
        "N, M = map(int, input().split())\n",
        "\n",
        "\n",
        "\n",
        "print(abs(N - M))\n",
        "#abs 절댓값 구하는 함수"
      ],
      "metadata": {
        "id": "mdhg1lOAMXHH"
      },
      "execution_count": null,
      "outputs": []
    },
    {
      "cell_type": "markdown",
      "metadata": {
        "id": "fKTrwgYXqowE"
      },
      "source": [
        "## 07-7. 리스트와 문자열을 대상으로도 동작하는 >=, <=, ==, !="
      ]
    },
    {
      "cell_type": "code",
      "metadata": {
        "id": "zVzvut6lqQAG"
      },
      "source": [
        "'abc' == 'abc'  # 두 문자열이 같은가?"
      ],
      "execution_count": null,
      "outputs": []
    },
    {
      "cell_type": "code",
      "metadata": {
        "id": "p-BpxH0aqswp"
      },
      "source": [
        "'abc' != 'abc'  # 두 문자열이 다른가?"
      ],
      "execution_count": null,
      "outputs": []
    },
    {
      "cell_type": "code",
      "metadata": {
        "id": "az2qGMMQqt1B"
      },
      "source": [
        "[1, 2, 3] == [1, 2]    # 두 리스트가 같은가?"
      ],
      "execution_count": null,
      "outputs": []
    },
    {
      "cell_type": "code",
      "metadata": {
        "id": "yhYmFrgyqvHc"
      },
      "source": [
        "[1, 2, 3] != [1, 2]    # 두 리스트가 다른가?"
      ],
      "execution_count": null,
      "outputs": []
    },
    {
      "cell_type": "markdown",
      "metadata": {
        "id": "xAyFu2tQqycs"
      },
      "source": [
        "## 07-8. True 또는 False로만 답하는 함수들"
      ]
    },
    {
      "cell_type": "markdown",
      "metadata": {
        "id": "8mYxPunwq535"
      },
      "source": [
        "- isdigit()"
      ]
    },
    {
      "cell_type": "code",
      "metadata": {
        "id": "kyofpvgzqwIU"
      },
      "source": [
        "st1 = \"123\"\n",
        "st2 = \"OneTwoThree\"\n",
        "st1.isdigit()   # st1은 숫자로만 이뤄져 있나요?"
      ],
      "execution_count": null,
      "outputs": []
    },
    {
      "cell_type": "code",
      "metadata": {
        "id": "2YcXwaLaq4Ae"
      },
      "source": [
        "st2.isdigit()   # st2는 숫자로만 이뤄져 있나요?"
      ],
      "execution_count": null,
      "outputs": []
    },
    {
      "cell_type": "markdown",
      "metadata": {
        "id": "jaE3HsiJq950"
      },
      "source": [
        "- isalpha()"
      ]
    },
    {
      "cell_type": "code",
      "metadata": {
        "id": "NVDTtSkUq5f5"
      },
      "source": [
        "st1 = \"123\"\n",
        "st2 = \"OneTwoThree\"\n",
        "st1.isalpha()"
      ],
      "execution_count": null,
      "outputs": []
    },
    {
      "cell_type": "code",
      "metadata": {
        "id": "aSfkDMeOrBEr"
      },
      "source": [
        "st2.isalpha()"
      ],
      "execution_count": null,
      "outputs": []
    },
    {
      "cell_type": "markdown",
      "metadata": {
        "id": "tdnadMUYrE6X"
      },
      "source": [
        "- startswith()"
      ]
    },
    {
      "cell_type": "code",
      "metadata": {
        "id": "LBFHpcLTrCQO"
      },
      "source": [
        "str = \"Supersprint\"\n",
        "str.startswith(\"Super\")     # 문자열이 'Super'로 시작하는가?"
      ],
      "execution_count": null,
      "outputs": []
    },
    {
      "cell_type": "markdown",
      "metadata": {
        "id": "adjJwBhurJCt"
      },
      "source": [
        "- endswith()"
      ]
    },
    {
      "cell_type": "code",
      "metadata": {
        "id": "Wxh1jLa2rH4H"
      },
      "source": [
        "str = \"Supersprint\"\n",
        "str.endswith(\"int\")     # 문자열이 'int'로 끝나는가?"
      ],
      "execution_count": null,
      "outputs": []
    },
    {
      "cell_type": "code",
      "metadata": {
        "id": "ZNJE5DpQrO5t"
      },
      "source": [
        "# is_phone_num.py\n",
        "\n",
        "def main():\n",
        "    pnum = input(\"스마트폰 번호 입력: \")\n",
        "\n",
        "    if pnum.isdigit() and pnum.startswith(\"010\"):\n",
        "        print(\"정상적인 입력입니다.\")\n",
        "    else:\n",
        "        print(\"정상적이지 않은 입력입니다.\")\n",
        "\n",
        "main()\n"
      ],
      "execution_count": null,
      "outputs": []
    },
    {
      "cell_type": "markdown",
      "metadata": {
        "id": "lXuwBn1wrc-N"
      },
      "source": [
        "## 07-9. in, not in"
      ]
    },
    {
      "cell_type": "code",
      "metadata": {
        "id": "AWqimN25rVB3"
      },
      "source": [
        "s = \"Tomato spaghetti\"\n",
        "if s.find(\"ghe\") != -1:\n",
        "  print(\"있습니다.\")\n",
        "else:\n",
        "  print(\"없습니다.\")"
      ],
      "execution_count": null,
      "outputs": []
    },
    {
      "cell_type": "code",
      "metadata": {
        "id": "2OMQ23uSrg8N"
      },
      "source": [
        "if \"ghe\" in s:\n",
        "  print(\"있습니다.\")\n",
        "else:\n",
        "  print(\"없습니다.\")"
      ],
      "execution_count": null,
      "outputs": []
    },
    {
      "cell_type": "code",
      "metadata": {
        "id": "dkuz-3FirnRf"
      },
      "source": [
        "3 in [1, 2, 3]     # 리스트 [1, 2, 3] 안에 3이 있는가?"
      ],
      "execution_count": null,
      "outputs": []
    },
    {
      "cell_type": "code",
      "metadata": {
        "id": "ZufCJC29rtyT"
      },
      "source": [
        "4 in [1, 2, 3]     # 리스트 [1, 2, 3] 안에 4가 있는가?"
      ],
      "execution_count": null,
      "outputs": []
    },
    {
      "cell_type": "code",
      "metadata": {
        "id": "cwwIpqjyru6z"
      },
      "source": [
        "3 not in [1, 2, 3]"
      ],
      "execution_count": null,
      "outputs": []
    },
    {
      "cell_type": "code",
      "metadata": {
        "id": "R7Ou-uUirwFl"
      },
      "source": [
        "4 not in [1, 2, 3]"
      ],
      "execution_count": null,
      "outputs": []
    },
    {
      "cell_type": "code",
      "metadata": {
        "id": "aLeRG2AvrxCE"
      },
      "source": [
        "\"he\" not in \"hello\""
      ],
      "execution_count": null,
      "outputs": []
    },
    {
      "cell_type": "code",
      "metadata": {
        "id": "JEBB63nQrx1z"
      },
      "source": [
        "\"oo\" not in \"hello\""
      ],
      "execution_count": null,
      "outputs": []
    },
    {
      "cell_type": "markdown",
      "metadata": {
        "id": "IpCeTIB6r1Ju"
      },
      "source": [
        "## 과제"
      ]
    },
    {
      "cell_type": "markdown",
      "metadata": {
        "id": "BGdCwC-qr3Nh"
      },
      "source": [
        "- 프로그램 사용자가 정수를 입력하면, 그 수의 거듭제곱 값을 출력한다\n",
        "- 프로그램 사용자가 정수가 아닌 것을 입력하면, \"정수가 아닙니다.\" 는 main()함수를 구현한다."
      ]
    },
    {
      "cell_type": "code",
      "source": [
        "def main(num):\n",
        "  if num == int(num):\n",
        "    print(num * num)\n",
        "  else:\n",
        "    print(\"정수가 아닙니다.\")\n",
        "\n"
      ],
      "metadata": {
        "id": "l18_XTBAOebX"
      },
      "execution_count": null,
      "outputs": []
    },
    {
      "cell_type": "code",
      "source": [
        "def main():\n",
        "\n",
        "  num = input(\"정수를 입력해주세요! \")\n",
        "\n",
        "  if num.isdigit():\n",
        "\n",
        "    num = int(num)\n",
        "\n",
        "    print(num ** 2)\n",
        "\n",
        "  else:\n",
        "\n",
        "    print(\"정수가 아닙니다\")\n",
        "\n",
        "\n",
        "\n",
        "main()"
      ],
      "metadata": {
        "id": "DYwiNBlFP8wi"
      },
      "execution_count": null,
      "outputs": []
    },
    {
      "cell_type": "code",
      "source": [
        "main(5)"
      ],
      "metadata": {
        "id": "2Q2DG75mO-Py"
      },
      "execution_count": null,
      "outputs": []
    },
    {
      "cell_type": "markdown",
      "metadata": {
        "id": "wSpGLzvVsJDZ"
      },
      "source": [
        "## 07-10. 수를 True와 False로 인식하는 방식"
      ]
    },
    {
      "cell_type": "code",
      "metadata": {
        "id": "bOBx3yV9ryya"
      },
      "source": [
        "num = 1\n",
        "if num:\n",
        "  print(\"num은 True입니다.\")\n",
        "else:\n",
        "  print(\"num은 False입니다.\")"
      ],
      "execution_count": null,
      "outputs": []
    },
    {
      "cell_type": "code",
      "metadata": {
        "id": "3xC0zH7AsUex"
      },
      "source": [
        "num = 0\n",
        "if num:\n",
        "  print(\"num은 True입니다.\")\n",
        "else:\n",
        "  print(\"num은 False입니다.\")"
      ],
      "execution_count": null,
      "outputs": []
    },
    {
      "cell_type": "code",
      "metadata": {
        "id": "oLANiWEWsWB2"
      },
      "source": [
        "num = 2\n",
        "if num:\n",
        "  print(\"num은 True입니다.\")\n",
        "else:\n",
        "  print(\"num은 False입니다.\")"
      ],
      "execution_count": null,
      "outputs": []
    },
    {
      "cell_type": "code",
      "metadata": {
        "id": "jg6MfbcWsW1u"
      },
      "source": [
        "num = -1\n",
        "if num:\n",
        "  print(\"num은 True입니다.\")\n",
        "else:\n",
        "  print(\"num은 False입니다.\")"
      ],
      "execution_count": null,
      "outputs": []
    },
    {
      "cell_type": "markdown",
      "metadata": {
        "id": "8vUXTPEAsaIp"
      },
      "source": [
        "- 0 이 오는 경우 False가 온 것으로 간주한다.\n",
        "- 0 아닌 수가 오는 경우 True가 온 것으로 간주한다. "
      ]
    },
    {
      "cell_type": "code",
      "metadata": {
        "id": "nuODNsrIsZoB"
      },
      "source": [
        "bool(5)"
      ],
      "execution_count": null,
      "outputs": []
    },
    {
      "cell_type": "code",
      "metadata": {
        "id": "yuXgtUMasl2u"
      },
      "source": [
        "bool(\"what\")"
      ],
      "execution_count": null,
      "outputs": []
    },
    {
      "cell_type": "code",
      "metadata": {
        "id": "KKt0X7kUsmt4"
      },
      "source": [
        "bool(\"\")"
      ],
      "execution_count": null,
      "outputs": []
    },
    {
      "cell_type": "code",
      "metadata": {
        "id": "nCj4Lcwbsnk4"
      },
      "source": [
        "bool([1, 2, 3])"
      ],
      "execution_count": null,
      "outputs": []
    },
    {
      "cell_type": "code",
      "metadata": {
        "id": "2R5VATVJsoUl"
      },
      "source": [
        "bool([])"
      ],
      "execution_count": null,
      "outputs": []
    },
    {
      "cell_type": "markdown",
      "metadata": {
        "id": "SMVMZ2icsp_U"
      },
      "source": [
        "- 문자열과 유사하게 빈 리스트는 False, 값이 있는 리스트는 True로 해석된다."
      ]
    },
    {
      "cell_type": "code",
      "metadata": {
        "id": "gEetvaCwspPv"
      },
      "source": [
        ""
      ],
      "execution_count": null,
      "outputs": []
    }
  ]
}