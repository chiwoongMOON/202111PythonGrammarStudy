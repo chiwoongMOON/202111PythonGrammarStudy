{
  "nbformat": 4,
  "nbformat_minor": 0,
  "metadata": {
    "colab": {
      "name": "chapter08.ipynb",
      "private_outputs": true,
      "provenance": [],
      "authorship_tag": "ABX9TyM0dyADtZ5PL28pWdnbtBif",
      "include_colab_link": true
    },
    "kernelspec": {
      "name": "python3",
      "display_name": "Python 3"
    },
    "language_info": {
      "name": "python"
    }
  },
  "cells": [
    {
      "cell_type": "markdown",
      "metadata": {
        "id": "view-in-github",
        "colab_type": "text"
      },
      "source": [
        "<a href=\"https://colab.research.google.com/github/waltechel/202111PythonGrammarStudy/blob/master/chapter08.ipynb\" target=\"_parent\"><img src=\"https://colab.research.google.com/assets/colab-badge.svg\" alt=\"Open In Colab\"/></a>"
      ]
    },
    {
      "cell_type": "markdown",
      "metadata": {
        "id": "aBn1OSiRSmX5"
      },
      "source": [
        "# chapter 08 for 루프와 while 루프\n"
      ]
    },
    {
      "cell_type": "markdown",
      "metadata": {
        "id": "_guk3GIQStLd"
      },
      "source": [
        "## 08-1. for 루프에 대한 복습"
      ]
    },
    {
      "cell_type": "code",
      "metadata": {
        "id": "UkkALAsqSi9Y"
      },
      "source": [
        "# for_sum.py\n",
        "def main():\n",
        "    sum = 0\n",
        "    for i in [1, 2, 3, 4, 5, 6, 7, 8, 9, 10]:\n",
        "        sum = sum + i\n",
        "    print(\"sum =\", sum, end = ' ')\n",
        "\n",
        "main()"
      ],
      "execution_count": null,
      "outputs": []
    },
    {
      "cell_type": "code",
      "metadata": {
        "id": "0VS2KIFbUK9g"
      },
      "source": [
        "# for_sum_range.py\n",
        "def main():\n",
        "    sum = 0\n",
        "    for i in range(1, 11):\n",
        "        sum = sum + i\n",
        "    print(\"sum =\", sum, end = ' ')\n",
        "\n",
        "main()"
      ],
      "execution_count": null,
      "outputs": []
    },
    {
      "cell_type": "code",
      "metadata": {
        "id": "kK_nP6lBatLy"
      },
      "source": [
        "def main():\n",
        "    sum = 0\n",
        "    # 0부터 시작한다는 것을 잊지 마세요\n",
        "    for i in range(11):\n",
        "        sum = sum + i\n",
        "    print(\"sum =\", sum, end = ' ')\n",
        "\n",
        "main()"
      ],
      "execution_count": null,
      "outputs": []
    },
    {
      "cell_type": "markdown",
      "metadata": {
        "id": "c7RTEq0vUTvZ"
      },
      "source": [
        "## 08-2. True가 될 때까지 반복하는 while 루프\n"
      ]
    },
    {
      "cell_type": "code",
      "metadata": {
        "id": "CEJtAakiUPAx"
      },
      "source": [
        "# while_basic.py\n",
        "def main():\n",
        "    cnt = 0  \n",
        "    while cnt < 3:\n",
        "        print(cnt, end = ' ')\n",
        "        cnt = cnt + 1\n",
        "\n",
        "main()"
      ],
      "execution_count": null,
      "outputs": []
    },
    {
      "cell_type": "markdown",
      "metadata": {
        "id": "LzDhK0MwUirN"
      },
      "source": [
        "## 08-3. for 루프와 while 루프의 비교"
      ]
    },
    {
      "cell_type": "code",
      "metadata": {
        "id": "qy9hYLN_UbW6"
      },
      "source": [
        "# while_sum.py\n",
        "def main():\n",
        "    i = 1\n",
        "    sum = 0    \n",
        "    while i < 11:\n",
        "        sum = sum + i        \n",
        "        i = i + 1\n",
        "    print(\"sum =\", sum, end = ' ')\n",
        "\n",
        "main()"
      ],
      "execution_count": null,
      "outputs": []
    },
    {
      "cell_type": "markdown",
      "metadata": {
        "id": "KfzKFmkXUtz_"
      },
      "source": [
        "- 연산을 조금 줄였다"
      ]
    },
    {
      "cell_type": "code",
      "metadata": {
        "id": "nYALWwRAUoaD"
      },
      "source": [
        "# while_sum.py\n",
        "def main():\n",
        "    i = 1\n",
        "    sum = 0    \n",
        "    while i < 11:\n",
        "        sum += i        \n",
        "        i += 1\n",
        "    print(\"sum =\", sum, end = ' ')\n",
        "\n",
        "main()"
      ],
      "execution_count": null,
      "outputs": []
    },
    {
      "cell_type": "code",
      "metadata": {
        "id": "rXPOTA9QUwvt"
      },
      "source": [
        "# while_over100.py\n",
        "def main():\n",
        "    i = 1\n",
        "    sum = 0    \n",
        "    while sum <= 100:\n",
        "        sum = sum + i        \n",
        "        i = i + 1\n",
        "    print(i, \"더했을 때의 합\", sum, end = ' ')\n",
        "\n",
        "main()"
      ],
      "execution_count": null,
      "outputs": []
    },
    {
      "cell_type": "markdown",
      "metadata": {
        "id": "l_IA9N5cU-C3"
      },
      "source": [
        "## 연습문제"
      ]
    },
    {
      "cell_type": "markdown",
      "metadata": {
        "id": "s1Eh5osHVAYP"
      },
      "source": [
        "- 0부터 시작해서 값을 하나씩 증가시키며 9까지 출력을 보이는 코드를 while 루프를 기반으로 작성해보자."
      ]
    },
    {
      "cell_type": "code",
      "metadata": {
        "id": "bxk3jLQhU_eg"
      },
      "source": [
        ""
      ],
      "execution_count": null,
      "outputs": []
    },
    {
      "cell_type": "markdown",
      "metadata": {
        "id": "tdsGeBbVVG6H"
      },
      "source": [
        "- 9에서부터 값을 하나씩 감소시키며 0까지 출력을 보이는 코드를 while 루프를 기반으로 출력해보자."
      ]
    },
    {
      "cell_type": "code",
      "metadata": {
        "id": "OY6p7RHtU4A9"
      },
      "source": [
        ""
      ],
      "execution_count": null,
      "outputs": []
    },
    {
      "cell_type": "markdown",
      "metadata": {
        "id": "YDiyudAYVMkP"
      },
      "source": [
        "## 08-4. break\n"
      ]
    },
    {
      "cell_type": "code",
      "metadata": {
        "id": "AcdwBKCbVQgW"
      },
      "source": [
        "# while_break.py\n",
        "def main():\n",
        "    i = 0    \n",
        "    while i < 100:\n",
        "        print(i, end = ' ')\n",
        "        i = i + 1\n",
        "        if i == 20: \n",
        "            break \n",
        "\n",
        "main()"
      ],
      "execution_count": null,
      "outputs": []
    },
    {
      "cell_type": "code",
      "metadata": {
        "id": "7adliO1xVSDp"
      },
      "source": [
        "# while_over100.py\n",
        "def main():\n",
        "    i = 1\n",
        "    sum = 0    \n",
        "    while sum <= 100:\n",
        "        sum = sum + i        \n",
        "        i = i + 1\n",
        "    print(i, \"더했을 때의 합\", sum, end = ' ')\n",
        "\n",
        "main()"
      ],
      "execution_count": null,
      "outputs": []
    },
    {
      "cell_type": "code",
      "metadata": {
        "id": "ccvvfX5nVfr6"
      },
      "source": [
        "# while_over100_break.py\n",
        "def main():\n",
        "    i = 1\n",
        "    sum = 0\n",
        "    # while True는 좋은 소스는 아니다.\n",
        "    while True:\n",
        "        sum = sum + i\n",
        "        if sum > 100:\n",
        "            print(i, \"더했을 때의 합\", sum, end = ' ')\n",
        "            break\n",
        "        i = i + 1\n",
        "\n",
        "main()\n"
      ],
      "execution_count": null,
      "outputs": []
    },
    {
      "cell_type": "markdown",
      "metadata": {
        "id": "hHhMuIoSVsks"
      },
      "source": [
        "- while True의 문제점"
      ]
    },
    {
      "cell_type": "code",
      "metadata": {
        "id": "ePcyOuWeVmLU"
      },
      "source": [
        "sum = 1\n",
        "while True:\n",
        "  sum = sum + 2\n",
        "  if sum % 2 == 0:\n",
        "    break"
      ],
      "execution_count": null,
      "outputs": []
    },
    {
      "cell_type": "markdown",
      "metadata": {
        "id": "pvS_alU3XlaK"
      },
      "source": [
        "## 연습"
      ]
    },
    {
      "cell_type": "markdown",
      "metadata": {
        "id": "5Ig0HV3NXpi6"
      },
      "source": [
        "- 6과 45의 최소공배수를 구하는 코드를 while 루프 기반으로 작성해보자"
      ]
    },
    {
      "cell_type": "code",
      "metadata": {
        "id": "-XJ_6hqwV15U"
      },
      "source": [
        ""
      ],
      "execution_count": null,
      "outputs": []
    },
    {
      "cell_type": "markdown",
      "metadata": {
        "id": "T1z22S9AXt00"
      },
      "source": [
        "- 42와 120의 최대공약수를 구하는 코드를 while 루프 기반으로 작성해보자"
      ]
    },
    {
      "cell_type": "code",
      "metadata": {
        "id": "jDyS3rDsXtIz"
      },
      "source": [
        ""
      ],
      "execution_count": null,
      "outputs": []
    },
    {
      "cell_type": "markdown",
      "metadata": {
        "id": "3tfIISPkX7m_"
      },
      "source": [
        "## 08-5. continue"
      ]
    },
    {
      "cell_type": "code",
      "metadata": {
        "id": "FJsBnl9GX9rw"
      },
      "source": [
        "for i in range(1, 11):\n",
        "  print(i, end = ' ')"
      ],
      "execution_count": null,
      "outputs": []
    },
    {
      "cell_type": "code",
      "metadata": {
        "id": "XGkPuSZIYBMP"
      },
      "source": [
        "for i in range(1, 11):\n",
        "\tif i % 2 == 0:\n",
        "\t\tcontinue\n",
        "\tprint(i, end = ' ')"
      ],
      "execution_count": null,
      "outputs": []
    },
    {
      "cell_type": "code",
      "metadata": {
        "id": "EhK36I_QYF5v"
      },
      "source": [
        "i = 0\n",
        "while i < 10:\n",
        "  i = i + 1\n",
        "  print(i, end = ' ')"
      ],
      "execution_count": null,
      "outputs": []
    },
    {
      "cell_type": "code",
      "metadata": {
        "id": "qtn06lelYIwe"
      },
      "source": [
        "i = 0\n",
        "while i < 10:\n",
        "  i = i + 1\n",
        "  if i % 3 == 0: continue\n",
        "  print(i, end = ' ' )"
      ],
      "execution_count": null,
      "outputs": []
    },
    {
      "cell_type": "markdown",
      "metadata": {
        "id": "tg8bJb5DZ18L"
      },
      "source": [
        "## 과제"
      ]
    },
    {
      "cell_type": "markdown",
      "metadata": {
        "id": "D_xVlZhEZ278"
      },
      "source": [
        "- 2이상 100 미만의 정수 중에서 2로도 나누어지지 않고 동시에 3으로도 나누어지지 않는 수를 찾아서 출력해본다\n",
        "- 단 while 문만을 사용하여야 한다"
      ]
    },
    {
      "cell_type": "code",
      "metadata": {
        "id": "MGzZO8TmZzna"
      },
      "source": [
        ""
      ],
      "execution_count": null,
      "outputs": []
    },
    {
      "cell_type": "markdown",
      "metadata": {
        "id": "tiiYPc4baCZ3"
      },
      "source": [
        "## 08-6. 이중 for 루프"
      ]
    },
    {
      "cell_type": "code",
      "metadata": {
        "id": "Q5fdBiWCaFU3"
      },
      "source": [
        "for i in [1, 2]:\n",
        "  for j in ['a', 'b', 'c']:\n",
        "    print(j * i, end = ' ')\n"
      ],
      "execution_count": null,
      "outputs": []
    },
    {
      "cell_type": "code",
      "metadata": {
        "id": "mA0lkQehaG3W"
      },
      "source": [
        "sr = ['father', 'mother', 'brother']\n",
        "cnt = 0\n",
        "for s in sr:\n",
        "  for c in s:\n",
        "    if c == 'r':\n",
        "      cnt += 1"
      ],
      "execution_count": null,
      "outputs": []
    },
    {
      "cell_type": "markdown",
      "metadata": {
        "id": "wVKl10WlaivJ"
      },
      "source": [
        "## 과제\n"
      ]
    },
    {
      "cell_type": "markdown",
      "metadata": {
        "id": "dcdNJT5fam9g"
      },
      "source": [
        "- 백준 문제를 많이 풀어볼 시간이 좀 되었지요?"
      ]
    },
    {
      "cell_type": "code",
      "metadata": {
        "id": "ej2OX0sTaL_0"
      },
      "source": [
        ""
      ],
      "execution_count": null,
      "outputs": []
    }
  ]
}