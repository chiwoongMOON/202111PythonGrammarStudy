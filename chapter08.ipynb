{
  "nbformat": 4,
  "nbformat_minor": 0,
  "metadata": {
    "colab": {
      "name": "chapter08.ipynb",
      "private_outputs": true,
      "provenance": [],
      "include_colab_link": true
    },
    "kernelspec": {
      "name": "python3",
      "display_name": "Python 3"
    },
    "language_info": {
      "name": "python"
    }
  },
  "cells": [
    {
      "cell_type": "markdown",
      "metadata": {
        "id": "view-in-github",
        "colab_type": "text"
      },
      "source": [
        "<a href=\"https://colab.research.google.com/github/chiwoongMOON/202111PythonGrammarStudy/blob/master/chapter08.ipynb\" target=\"_parent\"><img src=\"https://colab.research.google.com/assets/colab-badge.svg\" alt=\"Open In Colab\"/></a>"
      ]
    },
    {
      "cell_type": "markdown",
      "metadata": {
        "id": "aBn1OSiRSmX5"
      },
      "source": [
        "# chapter 08 for 루프와 while 루프\n"
      ]
    },
    {
      "cell_type": "markdown",
      "metadata": {
        "id": "_guk3GIQStLd"
      },
      "source": [
        "## 08-1. for 루프에 대한 복습"
      ]
    },
    {
      "cell_type": "code",
      "metadata": {
        "id": "UkkALAsqSi9Y"
      },
      "source": [
        "# for_sum.py\n",
        "def main():\n",
        "    sum = 0\n",
        "    for i in [1, 2, 3, 4, 5, 6, 7, 8, 9, 10]:\n",
        "        sum = sum + i\n",
        "    print(\"sum =\", sum, end = ' ')\n",
        "\n",
        "main()"
      ],
      "execution_count": null,
      "outputs": []
    },
    {
      "cell_type": "code",
      "metadata": {
        "id": "0VS2KIFbUK9g"
      },
      "source": [
        "# for_sum_range.py\n",
        "def main():\n",
        "    sum = 0\n",
        "    for i in range(1, 11):\n",
        "        sum = sum + i\n",
        "    print(\"sum =\", sum, end = ' ')\n",
        "\n",
        "main()"
      ],
      "execution_count": null,
      "outputs": []
    },
    {
      "cell_type": "code",
      "metadata": {
        "id": "kK_nP6lBatLy"
      },
      "source": [
        "def main():\n",
        "    sum = 0\n",
        "    # 0부터 시작한다는 것을 잊지 마세요\n",
        "    for i in range(11):\n",
        "        sum = sum + i\n",
        "    print(\"sum =\", sum, end = ' ')\n",
        "\n",
        "main()"
      ],
      "execution_count": null,
      "outputs": []
    },
    {
      "cell_type": "markdown",
      "metadata": {
        "id": "c7RTEq0vUTvZ"
      },
      "source": [
        "## 08-2. True가 될 때까지 반복하는 while 루프\n"
      ]
    },
    {
      "cell_type": "code",
      "metadata": {
        "id": "CEJtAakiUPAx"
      },
      "source": [
        "# while_basic.py\n",
        "def main():\n",
        "    cnt = 0  \n",
        "    while cnt < 3:\n",
        "        print(cnt, end = ' ')\n",
        "        cnt = cnt + 1\n",
        "\n",
        "main()"
      ],
      "execution_count": null,
      "outputs": []
    },
    {
      "cell_type": "markdown",
      "metadata": {
        "id": "LzDhK0MwUirN"
      },
      "source": [
        "## 08-3. for 루프와 while 루프의 비교"
      ]
    },
    {
      "cell_type": "code",
      "metadata": {
        "id": "qy9hYLN_UbW6"
      },
      "source": [
        "# while_sum.py\n",
        "def main():\n",
        "    i = 1\n",
        "    sum = 0    \n",
        "    while i < 11:\n",
        "        sum = sum + i        \n",
        "        i = i + 1\n",
        "    print(\"sum =\", sum, end = ' ')\n",
        "\n",
        "main()"
      ],
      "execution_count": null,
      "outputs": []
    },
    {
      "cell_type": "markdown",
      "metadata": {
        "id": "KfzKFmkXUtz_"
      },
      "source": [
        "- 연산을 조금 줄였다"
      ]
    },
    {
      "cell_type": "code",
      "metadata": {
        "id": "nYALWwRAUoaD"
      },
      "source": [
        "# while_sum.py\n",
        "def main():\n",
        "    i = 1\n",
        "    sum = 0    \n",
        "    while i < 11:\n",
        "        sum += i        \n",
        "        i += 1\n",
        "    print(\"sum =\", sum, end = ' ')\n",
        "\n",
        "main()"
      ],
      "execution_count": null,
      "outputs": []
    },
    {
      "cell_type": "code",
      "metadata": {
        "id": "rXPOTA9QUwvt"
      },
      "source": [
        "# while_over100.py\n",
        "def main():\n",
        "    i = 1\n",
        "    sum = 0    \n",
        "    while sum <= 100:\n",
        "        sum = sum + i        \n",
        "        i = i + 1\n",
        "    print(i, \"더했을 때의 합\", sum, end = ' ')\n",
        "\n",
        "main()"
      ],
      "execution_count": null,
      "outputs": []
    },
    {
      "cell_type": "markdown",
      "metadata": {
        "id": "l_IA9N5cU-C3"
      },
      "source": [
        "## 연습문제"
      ]
    },
    {
      "cell_type": "markdown",
      "metadata": {
        "id": "s1Eh5osHVAYP"
      },
      "source": [
        "- 0부터 시작해서 값을 하나씩 증가시키며 9까지 출력을 보이는 코드를 while 루프를 기반으로 작성해보자."
      ]
    },
    {
      "cell_type": "code",
      "metadata": {
        "id": "bxk3jLQhU_eg"
      },
      "source": [
        "n = 0\n",
        "while n < 10:\n",
        "  print(n)\n",
        "  n += 1"
      ],
      "execution_count": null,
      "outputs": []
    },
    {
      "cell_type": "markdown",
      "metadata": {
        "id": "tdsGeBbVVG6H"
      },
      "source": [
        "- 9에서부터 값을 하나씩 감소시키며 0까지 출력을 보이는 코드를 while 루프를 기반으로 출력해보자."
      ]
    },
    {
      "cell_type": "code",
      "metadata": {
        "id": "OY6p7RHtU4A9"
      },
      "source": [
        "n = 9\n",
        "while n >= 0:\n",
        "  print(n)\n",
        "  n -= 1"
      ],
      "execution_count": null,
      "outputs": []
    },
    {
      "cell_type": "code",
      "source": [
        "a=list(map(int,input().split()))\n",
        "a.sort()\n",
        "print(a[0],a[1],a[2])"
      ],
      "metadata": {
        "id": "vjO4RkHrVGLI"
      },
      "execution_count": null,
      "outputs": []
    },
    {
      "cell_type": "code",
      "source": [
        "n = list(map(int, input().split()))\n",
        "if n[0] <= n[1] and n[1] <= n[2]:\n",
        "    print(n[0], n[1], n[2])\n",
        "elif n[0] <= n[2] and n[2] <= n[1]:\n",
        "    print(n[0], n[2], n[1])\n",
        "elif n[1] <= n[0] and n[0] <= n[2]:\n",
        "  print(n[1], n[0], n[2])\n",
        "elif n[1] <= n[2] and n[2] <= n[0]:\n",
        "    print(n[1], n[2], n[0])\n",
        "elif n[2] <= n[0] and n[0] <= n[1]:\n",
        "    print(n[2], n[0], n[1])\n",
        "else:\n",
        "    print(n[2], n[1], n[0])\n"
      ],
      "metadata": {
        "id": "Kx0t8DjRWaP-"
      },
      "execution_count": null,
      "outputs": []
    },
    {
      "cell_type": "code",
      "source": [
        "n = list(map(int, input().split()))\n",
        "n"
      ],
      "metadata": {
        "id": "cvKApgZuZYm8"
      },
      "execution_count": null,
      "outputs": []
    },
    {
      "cell_type": "markdown",
      "metadata": {
        "id": "YDiyudAYVMkP"
      },
      "source": [
        "## 08-4. break\n"
      ]
    },
    {
      "cell_type": "code",
      "metadata": {
        "id": "AcdwBKCbVQgW"
      },
      "source": [
        "# while_break.py\n",
        "def main():\n",
        "    i = 0    \n",
        "    while i < 100:\n",
        "        print(i, end = ' ')\n",
        "        i = i + 1\n",
        "        if i == 20: \n",
        "            break \n",
        "\n",
        "main()"
      ],
      "execution_count": null,
      "outputs": []
    },
    {
      "cell_type": "code",
      "metadata": {
        "id": "7adliO1xVSDp"
      },
      "source": [
        "# while_over100.py\n",
        "def main():\n",
        "    i = 1\n",
        "    sum = 0    \n",
        "    while sum <= 100:\n",
        "        sum = sum + i        \n",
        "        i = i + 1\n",
        "    print(i, \"더했을 때의 합\", sum, end = ' ')\n",
        "\n",
        "main()"
      ],
      "execution_count": null,
      "outputs": []
    },
    {
      "cell_type": "code",
      "metadata": {
        "id": "ccvvfX5nVfr6"
      },
      "source": [
        "# while_over100_break.py\n",
        "def main():\n",
        "    i = 1\n",
        "    sum = 0\n",
        "    # while True는 좋은 소스는 아니다.\n",
        "    while True:\n",
        "        sum = sum + i\n",
        "        if sum > 100:\n",
        "            print(i, \"더했을 때의 합\", sum, end = ' ')\n",
        "            break\n",
        "        i = i + 1\n",
        "\n",
        "main()\n"
      ],
      "execution_count": null,
      "outputs": []
    },
    {
      "cell_type": "markdown",
      "metadata": {
        "id": "hHhMuIoSVsks"
      },
      "source": [
        "- while True의 문제점"
      ]
    },
    {
      "cell_type": "code",
      "metadata": {
        "id": "ePcyOuWeVmLU"
      },
      "source": [
        "sum = 1\n",
        "while True:\n",
        "  sum = sum + 2\n",
        "  if sum % 2 == 0:\n",
        "    break"
      ],
      "execution_count": null,
      "outputs": []
    },
    {
      "cell_type": "markdown",
      "metadata": {
        "id": "pvS_alU3XlaK"
      },
      "source": [
        "## 연습"
      ]
    },
    {
      "cell_type": "markdown",
      "metadata": {
        "id": "5Ig0HV3NXpi6"
      },
      "source": [
        "- 6과 45의 최소공배수를 구하는 코드를 while 루프 기반으로 작성해보자"
      ]
    },
    {
      "cell_type": "code",
      "metadata": {
        "id": "-XJ_6hqwV15U"
      },
      "source": [
        "num = 1\n",
        "while 1: # num <= 6 * 45\n",
        "  if num % 6 == 0 and num % 45 == 0:\n",
        "    break\n",
        "  num += 1\n",
        "print(num)"
      ],
      "execution_count": null,
      "outputs": []
    },
    {
      "cell_type": "markdown",
      "metadata": {
        "id": "T1z22S9AXt00"
      },
      "source": [
        "- 42와 120의 최대공약수를 구하는 코드를 while 루프 기반으로 작성해보자"
      ]
    },
    {
      "cell_type": "code",
      "metadata": {
        "id": "jDyS3rDsXtIz"
      },
      "source": [
        "i = max(42, 120)\n",
        "while i > 0:\n",
        "  if i % 6 == 0 and 120 % i == 0:\n",
        "    answer = i\n",
        "    break\n",
        "  i -= 1\n",
        "print(\"최대공약수는\", answer)"
      ],
      "execution_count": null,
      "outputs": []
    },
    {
      "cell_type": "markdown",
      "metadata": {
        "id": "3tfIISPkX7m_"
      },
      "source": [
        "## 08-5. continue"
      ]
    },
    {
      "cell_type": "code",
      "metadata": {
        "id": "FJsBnl9GX9rw"
      },
      "source": [
        "for i in range(1, 11):\n",
        "  print(i, end = ' ')"
      ],
      "execution_count": null,
      "outputs": []
    },
    {
      "cell_type": "code",
      "metadata": {
        "id": "XGkPuSZIYBMP"
      },
      "source": [
        "for i in range(1, 11):\n",
        "\tif i % 2 == 0:\n",
        "\t\tcontinue\n",
        "\tprint(i, end = ' ')"
      ],
      "execution_count": null,
      "outputs": []
    },
    {
      "cell_type": "code",
      "metadata": {
        "id": "EhK36I_QYF5v"
      },
      "source": [
        "i = 0\n",
        "while i < 10:\n",
        "  i = i + 1\n",
        "  print(i, end = ' ')"
      ],
      "execution_count": null,
      "outputs": []
    },
    {
      "cell_type": "code",
      "metadata": {
        "id": "qtn06lelYIwe"
      },
      "source": [
        "i = 0\n",
        "while i < 10:\n",
        "  i = i + 1\n",
        "  if i % 3 == 0: continue\n",
        "  print(i, end = ' ' )"
      ],
      "execution_count": null,
      "outputs": []
    },
    {
      "cell_type": "markdown",
      "metadata": {
        "id": "tg8bJb5DZ18L"
      },
      "source": [
        "## 과제"
      ]
    },
    {
      "cell_type": "markdown",
      "metadata": {
        "id": "D_xVlZhEZ278"
      },
      "source": [
        "- 2이상 100 미만의 정수 중에서 2로도 나누어지지 않고 동시에 3으로도 나누어지지 않는 수를 찾아서 출력해본다\n",
        "- 단 while 문만을 사용하여야 한다"
      ]
    },
    {
      "cell_type": "code",
      "metadata": {
        "id": "MGzZO8TmZzna"
      },
      "source": [
        "i = 2\n",
        "while i <= 99:\n",
        "  if i % 2 != 0 and i % 3 != 0:\n",
        "     print(i)\n",
        "  i += 1"
      ],
      "execution_count": null,
      "outputs": []
    },
    {
      "cell_type": "markdown",
      "metadata": {
        "id": "tiiYPc4baCZ3"
      },
      "source": [
        "## 08-6. 이중 for 루프"
      ]
    },
    {
      "cell_type": "code",
      "metadata": {
        "id": "Q5fdBiWCaFU3"
      },
      "source": [
        "for i in [1, 2]:\n",
        "  for j in ['a', 'b', 'c']:\n",
        "    print(j * i, end = ' ')\n"
      ],
      "execution_count": null,
      "outputs": []
    },
    {
      "cell_type": "code",
      "metadata": {
        "id": "mA0lkQehaG3W"
      },
      "source": [
        "sr = ['father', 'mother', 'brother']\n",
        "cnt = 0\n",
        "for s in sr:\n",
        "  for c in s:\n",
        "    if c == 'r':\n",
        "      cnt += 1"
      ],
      "execution_count": null,
      "outputs": []
    },
    {
      "cell_type": "markdown",
      "metadata": {
        "id": "wVKl10WlaivJ"
      },
      "source": [
        "## 과제\n"
      ]
    },
    {
      "cell_type": "markdown",
      "metadata": {
        "id": "dcdNJT5fam9g"
      },
      "source": [
        "- 백준 문제를 많이 풀어볼 시간이 좀 되었지요?"
      ]
    },
    {
      "cell_type": "code",
      "metadata": {
        "id": "ej2OX0sTaL_0"
      },
      "source": [
        "for i in range(1, 6):\n",
        "  print('*' * i)"
      ],
      "execution_count": null,
      "outputs": []
    },
    {
      "cell_type": "code",
      "source": [
        "i = 1\n",
        "while i != 0:\n",
        "  if i < 3:\n",
        "    print('*' * i)\n",
        "    i += 1\n",
        "  elif i >= 3:\n",
        "    print('*' * i)\n",
        "    i -= 1\n",
        "    print('*' * i)\n",
        "    i -= 1\n",
        "    print('*' * i)\n",
        "    i -= 1\n",
        "'''\n",
        "for i in range(1, 6):\n",
        "  if i <= 3:\n",
        "    for j in range(1, i + 1):\n",
        "      print('*', end='')\n",
        "    print()\n",
        "  else:\n",
        "    for j in range(1, 7 - i):\n",
        "      print('*', end='')\n",
        "    print()\n",
        "    '''\n"
      ],
      "metadata": {
        "id": "Ct6x8-Lobr-_"
      },
      "execution_count": null,
      "outputs": []
    },
    {
      "cell_type": "code",
      "source": [
        "for i in range(1, 6):# 1,2,3,4,5\n",
        "  if i <= 3:#1,2,3\n",
        "    for j in range(1, i * 2):#2,4,6\n",
        "      print('*', end='')\n",
        "    print()\n",
        "  else:#4, 5\n",
        "    for j in range((i - 3) * 2):#2, 4\n",
        "      print(' ', end='')\n",
        "    for j in range(11 - 2 * i):#3, 1\n",
        "      print('*', end='')\n",
        "    print()"
      ],
      "metadata": {
        "id": "Koqa0I6McHmM"
      },
      "execution_count": null,
      "outputs": []
    },
    {
      "cell_type": "code",
      "source": [
        "n1, n2 = map(int,input().split())\n",
        "n3 = int(input())\n",
        "\n",
        "n2 += n3\n",
        "if n2 >= 60:\n",
        "  a = n2\n",
        "  a /= 60\n",
        "  n1 += a\n",
        "  if n1 >= 24:\n",
        "    n1 -= 23\n",
        "  n2 -= a\n",
        "\n",
        "print(n1, n2)\n",
        "# 2525"
      ],
      "metadata": {
        "id": "aKMdILSwfYkZ"
      },
      "execution_count": null,
      "outputs": []
    },
    {
      "cell_type": "code",
      "source": [
        "A, B = map(int, input().split())\n",
        "C = int(input())\n",
        "time = A * 60 + B\n",
        "time += C\n",
        "time %= 60 * 24\n",
        "print(time // 60, time % 60)\n",
        "#2525"
      ],
      "metadata": {
        "id": "pRL3y1g-gC7f"
      },
      "execution_count": null,
      "outputs": []
    },
    {
      "cell_type": "code",
      "source": [
        "#5596\n",
        "n1, n2, n3, n4 = map(int,input().split())\n",
        "s1, s2, s3, s4 = map(int,input().split())\n",
        "n = n1 + n2 + n3 + n4\n",
        "s = s1 + s2 + s3 + s4\n",
        "if n > s:\n",
        "  print(n)\n",
        "else:\n",
        "  print(s)"
      ],
      "metadata": {
        "id": "-C6ZBf6Nh85r"
      },
      "execution_count": null,
      "outputs": []
    },
    {
      "cell_type": "code",
      "source": [
        "#5596\n",
        "n1, n2, n3, n4 = map(int, input().split())\n",
        "m1, m2, m3, m4 = map(int, input().split())\n",
        "print(max(n1 + n2 + n3 + n4, m1 + m2 + m3 + m4))"
      ],
      "metadata": {
        "id": "uVi1I3ewi618"
      },
      "execution_count": null,
      "outputs": []
    },
    {
      "cell_type": "code",
      "source": [
        "#10797\n",
        "a = int(input())\n",
        "b = list(map(int,input().split()))\n",
        "c = 0\n",
        "for i in range(len(b)):\n",
        "  if a == b[i]:\n",
        "    c += 1\n",
        "print(c)"
      ],
      "metadata": {
        "id": "GZQaDx7JikqO"
      },
      "execution_count": null,
      "outputs": []
    },
    {
      "cell_type": "code",
      "source": [
        "#10797\n",
        "c = int(input())\n",
        "A = list(map(int, input().split()))\n",
        "print(A.count(c))"
      ],
      "metadata": {
        "id": "CVDzae-DkNyc"
      },
      "execution_count": null,
      "outputs": []
    }
  ]
}