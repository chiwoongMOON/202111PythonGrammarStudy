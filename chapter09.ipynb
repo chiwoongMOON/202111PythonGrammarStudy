{
  "nbformat": 4,
  "nbformat_minor": 0,
  "metadata": {
    "colab": {
      "name": "chapter09.ipynb",
      "private_outputs": true,
      "provenance": [],
      "include_colab_link": true
    },
    "kernelspec": {
      "name": "python3",
      "display_name": "Python 3"
    },
    "language_info": {
      "name": "python"
    }
  },
  "cells": [
    {
      "cell_type": "markdown",
      "metadata": {
        "id": "view-in-github",
        "colab_type": "text"
      },
      "source": [
        "<a href=\"https://colab.research.google.com/github/chiwoongMOON/202111PythonGrammarStudy/blob/master/chapter09.ipynb\" target=\"_parent\"><img src=\"https://colab.research.google.com/assets/colab-badge.svg\" alt=\"Open In Colab\"/></a>"
      ]
    },
    {
      "cell_type": "markdown",
      "metadata": {
        "id": "MUPB7Pt2ce3x"
      },
      "source": [
        "# chapter 09 튜플과 레인지"
      ]
    },
    {
      "cell_type": "markdown",
      "source": [
        "- 정수형 : int\n",
        "- 소수형 : float\n",
        "- 문자형 : str(string)\n",
        "- 부울형 : bool(boolean)\n",
        "- 리스트형 : list\n",
        "- 튜플 : tpl(tuple)\n",
        "  - 리스트와 유사(곧 배열)\n",
        "  - 리스트는 값을 추가, 제거, 변경할 수 있는데 반해\n",
        "  튜플은 값을 읽기만 가능(튜플의 인자는 무조건 상수)"
      ],
      "metadata": {
        "id": "SQQmBaAnl0wc"
      }
    },
    {
      "cell_type": "markdown",
      "metadata": {
        "id": "XKC0vCifckgY"
      },
      "source": [
        "## 09-1. 튜플"
      ]
    },
    {
      "cell_type": "code",
      "metadata": {
        "id": "MiKshym3ccuX"
      },
      "source": [
        "lst = [1, 2, 3]      \n",
        "lst"
      ],
      "execution_count": null,
      "outputs": []
    },
    {
      "cell_type": "code",
      "metadata": {
        "id": "Y206NW8idmIt"
      },
      "source": [
        "lst = [1, 2, 3]      \n",
        "lst[0]"
      ],
      "execution_count": null,
      "outputs": []
    },
    {
      "cell_type": "code",
      "metadata": {
        "id": "vfzexjg_coNp"
      },
      "source": [
        "type(lst)"
      ],
      "execution_count": null,
      "outputs": []
    },
    {
      "cell_type": "code",
      "metadata": {
        "id": "iRPro-nKcqRw"
      },
      "source": [
        "tpl = (1, 2, 3)\n",
        "tpl"
      ],
      "execution_count": null,
      "outputs": []
    },
    {
      "cell_type": "code",
      "metadata": {
        "id": "KkteDesSdjXq"
      },
      "source": [
        "tpl = (1, 2, 3)\n",
        "tpl[0]"
      ],
      "execution_count": null,
      "outputs": []
    },
    {
      "cell_type": "code",
      "metadata": {
        "id": "A9r-nbE4ctC7"
      },
      "source": [
        "type(tpl)"
      ],
      "execution_count": null,
      "outputs": []
    },
    {
      "cell_type": "code",
      "metadata": {
        "id": "ZBlBjfOicuN8"
      },
      "source": [
        "lst = [1, 2, 3]      \n",
        "lst.append(3)\n",
        "lst"
      ],
      "execution_count": null,
      "outputs": []
    },
    {
      "cell_type": "code",
      "metadata": {
        "id": "0qOkQVJzdPo2"
      },
      "source": [
        "lst = [1, 2, 3]      \n",
        "lst[0] = 7\n",
        "lst"
      ],
      "execution_count": null,
      "outputs": []
    },
    {
      "cell_type": "code",
      "metadata": {
        "id": "ehcm2JzSdUGc"
      },
      "source": [
        "tpl = (1, 2, 3)\n",
        "tpl.append(3)\n",
        "tpl"
      ],
      "execution_count": null,
      "outputs": []
    },
    {
      "cell_type": "code",
      "metadata": {
        "id": "Mw-MikZndW_9"
      },
      "source": [
        "tpl = (1, 2, 3)\n",
        "tpl[0] = 7\n",
        "tpl"
      ],
      "execution_count": null,
      "outputs": []
    },
    {
      "cell_type": "markdown",
      "metadata": {
        "id": "VjI-o51teFA-"
      },
      "source": [
        "## 09-2. 튜플을 어디다 쓸 것인가?"
      ]
    },
    {
      "cell_type": "code",
      "metadata": {
        "id": "xm2gGHuadeOp"
      },
      "source": [
        "frns = [['동수', 131120], ['진우', 130312], ['선영', 130904]]\n",
        "frns"
      ],
      "execution_count": null,
      "outputs": []
    },
    {
      "cell_type": "code",
      "metadata": {
        "id": "EltwFWxJeSpH"
      },
      "source": [
        "frns[2]"
      ],
      "execution_count": null,
      "outputs": []
    },
    {
      "cell_type": "code",
      "metadata": {
        "id": "EvMqGOTdeZDO"
      },
      "source": [
        "frns = [('동수', 131120), ('진우', 130312), ('선영', 130904)]\n",
        "frns"
      ],
      "execution_count": null,
      "outputs": []
    },
    {
      "cell_type": "code",
      "metadata": {
        "id": "D8JL5R9geatF"
      },
      "source": [
        "frns[2]"
      ],
      "execution_count": null,
      "outputs": []
    },
    {
      "cell_type": "markdown",
      "metadata": {
        "id": "gJpzfuiIf9w6"
      },
      "source": [
        "## 09-3. 튜플 관련 함수와 연산들"
      ]
    },
    {
      "cell_type": "code",
      "metadata": {
        "id": "tYJx61Glen2W"
      },
      "source": [
        "nums = (3, 2, 5, 7, 1)"
      ],
      "execution_count": null,
      "outputs": []
    },
    {
      "cell_type": "code",
      "metadata": {
        "id": "jHV_HPCbgIGj"
      },
      "source": [
        "len(nums)   # 값의 개수는?"
      ],
      "execution_count": null,
      "outputs": []
    },
    {
      "cell_type": "code",
      "metadata": {
        "id": "z4QfQKBagKt8"
      },
      "source": [
        "max(nums)   # 최댓값은?"
      ],
      "execution_count": null,
      "outputs": []
    },
    {
      "cell_type": "code",
      "metadata": {
        "id": "E3dzKvZ1gMiL"
      },
      "source": [
        "min(nums)   # 최솟값은?"
      ],
      "execution_count": null,
      "outputs": []
    },
    {
      "cell_type": "code",
      "metadata": {
        "id": "2UyMt7xzgOjd"
      },
      "source": [
        "nums = (1, 2, 3, 1, 2)"
      ],
      "execution_count": null,
      "outputs": []
    },
    {
      "cell_type": "code",
      "metadata": {
        "id": "P-BbKM7igTi0"
      },
      "source": [
        "nums.count(2)   # 2가 몇 번 등장해?"
      ],
      "execution_count": null,
      "outputs": []
    },
    {
      "cell_type": "code",
      "metadata": {
        "id": "30RGszf_gVLM"
      },
      "source": [
        "nums.index(1)   # 가장 앞에(왼쪽에) 저장된 1의 인덱스 값은?"
      ],
      "execution_count": null,
      "outputs": []
    },
    {
      "cell_type": "code",
      "metadata": {
        "id": "zEXfjK_-gWyU"
      },
      "source": [
        "nums = (1, 2, 3)"
      ],
      "execution_count": null,
      "outputs": []
    },
    {
      "cell_type": "code",
      "metadata": {
        "id": "9vZyQC77gYk9"
      },
      "source": [
        "3 in nums    # nums에 3이 있니?"
      ],
      "execution_count": null,
      "outputs": []
    },
    {
      "cell_type": "code",
      "metadata": {
        "id": "np3BPy0agZul"
      },
      "source": [
        "2 not in nums   # num에 2가 없니?"
      ],
      "execution_count": null,
      "outputs": []
    },
    {
      "cell_type": "markdown",
      "metadata": {
        "id": "KcLJx7Y_gnZ_"
      },
      "source": [
        "- nums에 저장된 튜플과 (4, 5) 를 합한 새로운 튜플 생성"
      ]
    },
    {
      "cell_type": "code",
      "metadata": {
        "id": "EgphiXukgc_N"
      },
      "source": [
        "nums + (4, 5)   # num에 (4, 5)를 덧붙인 결과는?"
      ],
      "execution_count": null,
      "outputs": []
    },
    {
      "cell_type": "markdown",
      "metadata": {
        "id": "hHFyt5PSgrn6"
      },
      "source": [
        "- nums에 저장된 튜플 두 개를 이어 놓은 새로운 튜플 생성"
      ]
    },
    {
      "cell_type": "code",
      "metadata": {
        "id": "tDPBm2XVgeP-"
      },
      "source": [
        "nums * 2    # nums를 두 개 덧붙인 결과는?"
      ],
      "execution_count": null,
      "outputs": []
    },
    {
      "cell_type": "markdown",
      "metadata": {
        "id": "Q-EY1iCUgvsH"
      },
      "source": [
        "- nums에 저장된 튜플의 일부로만 이뤄진 새로운 튜플 생성"
      ]
    },
    {
      "cell_type": "code",
      "metadata": {
        "id": "khfELRIxggv4"
      },
      "source": [
        "nums[0:3]    # nums[0] ~ num[2]을 꺼내면?"
      ],
      "execution_count": null,
      "outputs": []
    },
    {
      "cell_type": "code",
      "metadata": {
        "id": "5qtLC5KjgiRH"
      },
      "source": [
        "for i in (1, 3, 5, 7, 9):\n",
        "  print(i, end = ' ')"
      ],
      "execution_count": null,
      "outputs": []
    },
    {
      "cell_type": "markdown",
      "metadata": {
        "id": "8uKXNsGPg4Ko"
      },
      "source": [
        "## 09-4. 말이 나온 김에 리스트 안에 저장된 데이터를 바꿔보자"
      ]
    },
    {
      "cell_type": "code",
      "metadata": {
        "id": "IB9Avn6yg1NR"
      },
      "source": [
        "frns = [('동수', 131120), ('진우', 130312), ('선영', 130904)]"
      ],
      "execution_count": null,
      "outputs": []
    },
    {
      "cell_type": "code",
      "metadata": {
        "id": "mBiq_Y7OhFwC"
      },
      "source": [
        "frns[0][0]"
      ],
      "execution_count": null,
      "outputs": []
    },
    {
      "cell_type": "code",
      "metadata": {
        "id": "F69wloyIhGxM"
      },
      "source": [
        "frns[0][1]"
      ],
      "execution_count": null,
      "outputs": []
    },
    {
      "cell_type": "code",
      "metadata": {
        "id": "Na08hI34hICs"
      },
      "source": [
        "frns[0][0] = '동준'"
      ],
      "execution_count": null,
      "outputs": []
    },
    {
      "cell_type": "code",
      "metadata": {
        "id": "Dr09_hX3hKCd"
      },
      "source": [
        "frns[0][1] = 123456"
      ],
      "execution_count": null,
      "outputs": []
    },
    {
      "cell_type": "code",
      "metadata": {
        "id": "nWX332o4hPVa"
      },
      "source": [
        "frns[0] = ('동준', 123456)"
      ],
      "execution_count": null,
      "outputs": []
    },
    {
      "cell_type": "code",
      "metadata": {
        "id": "SW421tJ9hcgY"
      },
      "source": [
        "frns"
      ],
      "execution_count": null,
      "outputs": []
    },
    {
      "cell_type": "markdown",
      "metadata": {
        "id": "JUbfLWLGhsFi"
      },
      "source": [
        "## 09-5. 범위를 지정하는 레인지"
      ]
    },
    {
      "cell_type": "code",
      "metadata": {
        "id": "nFzIBBODheaI"
      },
      "source": [
        "for i in range(1, 11):\n",
        "  print(i, end = ' ')"
      ],
      "execution_count": null,
      "outputs": []
    },
    {
      "cell_type": "code",
      "metadata": {
        "id": "zMyF83WPhwU4"
      },
      "source": [
        "r = range(1, 10)\n",
        "type(r)"
      ],
      "execution_count": null,
      "outputs": []
    },
    {
      "cell_type": "code",
      "metadata": {
        "id": "itcvDCBphzUy"
      },
      "source": [
        "r = range(1, 10)\n",
        "9 in r"
      ],
      "execution_count": null,
      "outputs": []
    },
    {
      "cell_type": "code",
      "metadata": {
        "id": "Ls3A3_uzh4OX"
      },
      "source": [
        "10 not in r"
      ],
      "execution_count": null,
      "outputs": []
    },
    {
      "cell_type": "code",
      "metadata": {
        "id": "EXEzlVrih5hg"
      },
      "source": [
        "list((1, 2, 3))   # 튜플을 리스트로"
      ],
      "execution_count": null,
      "outputs": []
    },
    {
      "cell_type": "code",
      "metadata": {
        "id": "0uFRHdUth6-S"
      },
      "source": [
        "list(range(1, 5))  # 레인지를 리스트로"
      ],
      "execution_count": null,
      "outputs": []
    },
    {
      "cell_type": "code",
      "metadata": {
        "id": "N2dIcIJLh-s1"
      },
      "source": [
        "list(\"Hello\")    # 문자열을 리스트로"
      ],
      "execution_count": null,
      "outputs": []
    },
    {
      "cell_type": "code",
      "metadata": {
        "id": "LzJM4g7sh_00"
      },
      "source": [
        "tuple([1, 2, 3])   # 리스트를 튜플로"
      ],
      "execution_count": null,
      "outputs": []
    },
    {
      "cell_type": "code",
      "metadata": {
        "id": "e2-xMSgiiBm6"
      },
      "source": [
        "tuple(range(1, 5))  # 레인지를 튜플로"
      ],
      "execution_count": null,
      "outputs": []
    },
    {
      "cell_type": "code",
      "metadata": {
        "id": "GtLud2RXiDIL"
      },
      "source": [
        "tuple(\"Hello\")   # 문자열을 튜플로"
      ],
      "execution_count": null,
      "outputs": []
    },
    {
      "cell_type": "code",
      "metadata": {
        "id": "MnheO9mqiGZZ"
      },
      "source": [
        "lst = list(range(1, 16))\n",
        "lst"
      ],
      "execution_count": null,
      "outputs": []
    },
    {
      "cell_type": "code",
      "metadata": {
        "id": "AqGqtWxGiIvM"
      },
      "source": [
        "tpl = tuple(range(1, 16))\n",
        "tpl"
      ],
      "execution_count": null,
      "outputs": []
    },
    {
      "cell_type": "code",
      "metadata": {
        "id": "XnOztt1siMjS"
      },
      "source": [
        "range(1, 10, 2)  # 1부터 10 이전까지 2씩 증가하는 레인지"
      ],
      "execution_count": null,
      "outputs": []
    },
    {
      "cell_type": "code",
      "metadata": {
        "id": "b45rzUAriN0P"
      },
      "source": [
        "range(1, 10, 3)  # 1부터 10 이전까지 3씩 증가하는 레인지"
      ],
      "execution_count": null,
      "outputs": []
    },
    {
      "cell_type": "code",
      "metadata": {
        "id": "u7Tqw8O8iSL7"
      },
      "source": [
        "list(range(1, 10, 2))  # 1부터 10 이전까지 2씩 증가하는 리스트 만들기"
      ],
      "execution_count": null,
      "outputs": []
    },
    {
      "cell_type": "code",
      "metadata": {
        "id": "eONbxgSFiTWO"
      },
      "source": [
        "list(range(1, 10, 3))  # 1부터 10 이전까지 3씩 증가하는 리스트 만들기"
      ],
      "execution_count": null,
      "outputs": []
    },
    {
      "cell_type": "markdown",
      "metadata": {
        "id": "EUrvvorNi0HC"
      },
      "source": [
        "## 09-6. 레인지 범위 거꾸로 지정하기"
      ]
    },
    {
      "cell_type": "code",
      "metadata": {
        "id": "rtPm_00SiUez"
      },
      "source": [
        "list(range(2, 10))"
      ],
      "execution_count": null,
      "outputs": []
    },
    {
      "cell_type": "code",
      "metadata": {
        "id": "_B61HmTUi414"
      },
      "source": [
        "list(range(2, 10, 1))"
      ],
      "execution_count": null,
      "outputs": []
    },
    {
      "cell_type": "code",
      "metadata": {
        "id": "vKHZt9tPi57J"
      },
      "source": [
        "list(range(10, 2))"
      ],
      "execution_count": null,
      "outputs": []
    },
    {
      "cell_type": "code",
      "metadata": {
        "id": "9lWRG3jxi7O5"
      },
      "source": [
        "list(range(10, 2, 1))"
      ],
      "execution_count": null,
      "outputs": []
    },
    {
      "cell_type": "code",
      "metadata": {
        "id": "01pLu3Uyi-3w"
      },
      "source": [
        "list(range(10, 2, -1))   # 10부터 1씩 감소하여 3까지 이르는 정수들"
      ],
      "execution_count": null,
      "outputs": []
    },
    {
      "cell_type": "code",
      "metadata": {
        "id": "oirbUn4DjAo4"
      },
      "source": [
        "list(range(10, 2, -2))   # 10부터 2씩 감소하여 3까지 이르는 정수들"
      ],
      "execution_count": null,
      "outputs": []
    },
    {
      "cell_type": "code",
      "metadata": {
        "id": "GCpmw4EfjB7s"
      },
      "source": [
        "list(range(10, 2, -3))   # 10부터 3씩 감소하여 3까지 이르는 정수들"
      ],
      "execution_count": null,
      "outputs": []
    },
    {
      "cell_type": "markdown",
      "metadata": {
        "id": "mDAh9Y2KjL4r"
      },
      "source": [
        "## 과제"
      ]
    },
    {
      "cell_type": "markdown",
      "metadata": {
        "id": "-KhWp799jM_S"
      },
      "source": [
        "- 레인지도 할 줄 알게 되었으니 백준 문제를 오지게 풀어야겠지요?"
      ]
    },
    {
      "cell_type": "code",
      "metadata": {
        "id": "hQKrBQdgjDWY"
      },
      "source": [
        ""
      ],
      "execution_count": null,
      "outputs": []
    }
  ]
}