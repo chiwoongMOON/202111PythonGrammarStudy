{
  "nbformat": 4,
  "nbformat_minor": 0,
  "metadata": {
    "colab": {
      "name": "chapter10.ipynb",
      "private_outputs": true,
      "provenance": [],
      "authorship_tag": "ABX9TyMa4qJI8P+G5JJKPwLtMjd5",
      "include_colab_link": true
    },
    "kernelspec": {
      "name": "python3",
      "display_name": "Python 3"
    },
    "language_info": {
      "name": "python"
    }
  },
  "cells": [
    {
      "cell_type": "markdown",
      "metadata": {
        "id": "view-in-github",
        "colab_type": "text"
      },
      "source": [
        "<a href=\"https://colab.research.google.com/github/waltechel/202111PythonGrammarStudy/blob/master/chapter10.ipynb\" target=\"_parent\"><img src=\"https://colab.research.google.com/assets/colab-badge.svg\" alt=\"Open In Colab\"/></a>"
      ]
    },
    {
      "cell_type": "markdown",
      "metadata": {
        "id": "r60STWRLlAKz"
      },
      "source": [
        "# chapter 10 함수에 대한 추가적인 설명들"
      ]
    },
    {
      "cell_type": "markdown",
      "metadata": {
        "id": "nuGGzd9OlDgY"
      },
      "source": [
        "## 10-1. 함수 만들기 복습"
      ]
    },
    {
      "cell_type": "code",
      "metadata": {
        "id": "3dKBA6Klk95U"
      },
      "source": [
        "def greet():\n",
        "  print(\"hello python!\")\n",
        "  print(\"python is fun!\")\n",
        "\n",
        "greet()"
      ],
      "execution_count": null,
      "outputs": []
    },
    {
      "cell_type": "code",
      "metadata": {
        "id": "eM_aIXRzlP75"
      },
      "source": [
        "def adder(n1, n2):     # 전달되는 값을 매개변수 n1, n2로 받음\n",
        "  r = n1 + n2\n",
        "  return r      # r에 저장된 값을 반환\n",
        "\n",
        "adder(3, 4)"
      ],
      "execution_count": null,
      "outputs": []
    },
    {
      "cell_type": "markdown",
      "metadata": {
        "id": "19ZQKR_plbIr"
      },
      "source": [
        "## 10-2. 이름을 지정해서 값 전달하기 "
      ]
    },
    {
      "cell_type": "code",
      "metadata": {
        "id": "zjnHpB0UlTph"
      },
      "source": [
        "def who_are_you(name, age):\n",
        "  print(\"이름:\", name)\n",
        "  print(\"나이:\", age)"
      ],
      "execution_count": null,
      "outputs": []
    },
    {
      "cell_type": "code",
      "metadata": {
        "id": "xPtOSQ1olh2S"
      },
      "source": [
        "who_are_you(name = \"윤성우\", age = 22)"
      ],
      "execution_count": null,
      "outputs": []
    },
    {
      "cell_type": "code",
      "metadata": {
        "id": "m55aLM-5liK9"
      },
      "source": [
        "who_are_you(age = 22, name = \"윤성우\")"
      ],
      "execution_count": null,
      "outputs": []
    },
    {
      "cell_type": "code",
      "metadata": {
        "id": "n427MBunlpFc"
      },
      "source": [
        "who_are_you(\"윤성우\", 22)"
      ],
      "execution_count": null,
      "outputs": []
    },
    {
      "cell_type": "markdown",
      "metadata": {
        "id": "xQa1ufbYlzPG"
      },
      "source": [
        "- 여기서 이상한 점은 무엇일까요?"
      ]
    },
    {
      "cell_type": "code",
      "metadata": {
        "id": "LXGOyY8blspU"
      },
      "source": [
        "who_are_you(22, \"윤성우\")"
      ],
      "execution_count": null,
      "outputs": []
    },
    {
      "cell_type": "code",
      "metadata": {
        "id": "EXroM38VmAYA"
      },
      "source": [
        "who_are_you(\"윤성우\", age = 22)"
      ],
      "execution_count": null,
      "outputs": []
    },
    {
      "cell_type": "code",
      "metadata": {
        "id": "JG27t_jOmDeY"
      },
      "source": [
        "who_are_you(\"윤성우\", age = \"동준\")"
      ],
      "execution_count": null,
      "outputs": []
    },
    {
      "cell_type": "markdown",
      "metadata": {
        "id": "9DT9R7EAl6pn"
      },
      "source": [
        "- print 함수에서 두 번째로 전달받는 매개변수의 의미"
      ]
    },
    {
      "cell_type": "code",
      "metadata": {
        "id": "lpxOsdRulvFX"
      },
      "source": [
        "for i in (1, 3, 5, 7, 9):\n",
        "  print(i, end = ' ')"
      ],
      "execution_count": null,
      "outputs": []
    },
    {
      "cell_type": "code",
      "metadata": {
        "id": "URI3BEJwm5tY"
      },
      "source": [
        "print(1, 2, 3, end = ' m^^m ')"
      ],
      "execution_count": null,
      "outputs": []
    },
    {
      "cell_type": "code",
      "metadata": {
        "id": "arfOJLcMm57t"
      },
      "source": [
        "print(1, 2, 3, sep = ', ')"
      ],
      "execution_count": null,
      "outputs": []
    },
    {
      "cell_type": "code",
      "metadata": {
        "id": "DC2pWO5tm7o5"
      },
      "source": [
        "print(1, 2, 3, sep = ' _ ', end = ' m^^m ')"
      ],
      "execution_count": null,
      "outputs": []
    },
    {
      "cell_type": "markdown",
      "metadata": {
        "id": "yedfMndsnBwe"
      },
      "source": [
        "## 10-3. 디폴트 값"
      ]
    },
    {
      "cell_type": "code",
      "metadata": {
        "id": "xUsTpb4vm9lV"
      },
      "source": [
        "def who_are_you(name, age = 0):    # age의 디폴트 값은 0\n",
        "  print(\"이름:\", name)\n",
        "  print(\"나이:\", age)"
      ],
      "execution_count": null,
      "outputs": []
    },
    {
      "cell_type": "code",
      "metadata": {
        "id": "u9i-eXE9nHZx"
      },
      "source": [
        "who_are_you(\"줴임스~\")"
      ],
      "execution_count": null,
      "outputs": []
    },
    {
      "cell_type": "code",
      "metadata": {
        "id": "bb6x1MuynJJg"
      },
      "source": [
        "who_are_you(\"쟌~\", 29)"
      ],
      "execution_count": null,
      "outputs": []
    },
    {
      "cell_type": "markdown",
      "metadata": {
        "id": "Xe-uFLgdnP8B"
      },
      "source": [
        "- 함수를 만들 때 디폴트 값을 갖는 매개변수와 갖지 않는 매개변수가 함께 존재한다면, 반드시 디폴트 값을 갖는 매개변수가 뒤에 와야 한다. "
      ]
    },
    {
      "cell_type": "code",
      "metadata": {
        "id": "MBnoP84pnLFR"
      },
      "source": [
        "def who_are_you(age = 0, name):    # age의 디폴트 값은 0\n",
        "  print(\"이름:\", name)\n",
        "  print(\"나이:\", age)"
      ],
      "execution_count": null,
      "outputs": []
    },
    {
      "cell_type": "markdown",
      "metadata": {
        "id": "ddWf3IjNnwIZ"
      },
      "source": [
        "## 10-4. 함수의 매개변수 참조 관계"
      ]
    },
    {
      "cell_type": "markdown",
      "metadata": {
        "id": "Nhltyxvzn6qR"
      },
      "source": [
        "- 파이썬은 매개변수를 위해 별도의 메모리 공간을 할당하지 않는다. \n",
        "- 대신에 다음과 같이 메모리 공간에 하나의 이름을 더 붙이는 방식으로, '매개변수로 전달되는 값'을 처리한다. \n",
        "- 다음 소스에서 s와 st가 가리키는 객체는 같다. "
      ]
    },
    {
      "cell_type": "code",
      "metadata": {
        "id": "GJ8IHnYInR55"
      },
      "source": [
        "def func(s):\n",
        "  s[0] = 0\n",
        "  s[-1] = 0"
      ],
      "execution_count": null,
      "outputs": []
    },
    {
      "cell_type": "code",
      "metadata": {
        "id": "r2XV3vZhn3xU"
      },
      "source": [
        "st = [1, 2, 3]\n",
        "func(st)\n",
        "st"
      ],
      "execution_count": null,
      "outputs": []
    },
    {
      "cell_type": "markdown",
      "metadata": {
        "id": "WkmyBtzmoidT"
      },
      "source": [
        "## 과제"
      ]
    },
    {
      "cell_type": "markdown",
      "metadata": {
        "id": "Q2QT5a9cokoa"
      },
      "source": [
        "- 백준 문제를 풀 때가 되었지요?"
      ]
    },
    {
      "cell_type": "code",
      "metadata": {
        "id": "1Va2eB_2n4Kd"
      },
      "source": [
        ""
      ],
      "execution_count": null,
      "outputs": []
    }
  ]
}