{
  "nbformat": 4,
  "nbformat_minor": 0,
  "metadata": {
    "colab": {
      "name": "chatper11.ipynb",
      "private_outputs": true,
      "provenance": [],
      "include_colab_link": true
    },
    "kernelspec": {
      "name": "python3",
      "display_name": "Python 3"
    },
    "language_info": {
      "name": "python"
    }
  },
  "cells": [
    {
      "cell_type": "markdown",
      "metadata": {
        "id": "view-in-github",
        "colab_type": "text"
      },
      "source": [
        "<a href=\"https://colab.research.google.com/github/chiwoongMOON/202111PythonGrammarStudy/blob/master/chapter11.ipynb\" target=\"_parent\"><img src=\"https://colab.research.google.com/assets/colab-badge.svg\" alt=\"Open In Colab\"/></a>"
      ]
    },
    {
      "cell_type": "markdown",
      "metadata": {
        "id": "CbxpDi13owjn"
      },
      "source": [
        "## chapter 11 '모듈의 이해' 그리고 '수학 모듈' 이용하기 "
      ]
    },
    {
      "cell_type": "markdown",
      "metadata": {
        "id": "Uq8U6Uaro159"
      },
      "source": [
        "## 11-1. 모듈을 만들어 봅시다. "
      ]
    },
    {
      "cell_type": "code",
      "metadata": {
        "id": "LmVCQyufoulf"
      },
      "source": [
        "PI = 3.14   # 원주율"
      ],
      "execution_count": null,
      "outputs": []
    },
    {
      "cell_type": "code",
      "metadata": {
        "id": "E8RQkitpo9NB"
      },
      "source": [
        "def ar_circle(rad):    # 원의 넓이를 계산해서 반환하는 함수\n",
        "  return rad ** 2 * PI"
      ],
      "execution_count": null,
      "outputs": []
    },
    {
      "cell_type": "code",
      "metadata": {
        "id": "oz3BzpaOo_U-"
      },
      "source": [
        "def ci_circle(rad):     # 원의 둘레를 계산해서 반환하는 함수\n",
        "  return rad * 2 * PI"
      ],
      "execution_count": null,
      "outputs": []
    },
    {
      "cell_type": "code",
      "metadata": {
        "id": "X69-aayQpCQm"
      },
      "source": [
        "ar_circle(1.4)"
      ],
      "execution_count": null,
      "outputs": []
    },
    {
      "cell_type": "code",
      "metadata": {
        "id": "i1SpVW6GpE8u"
      },
      "source": [
        "ci_circle(1.4)"
      ],
      "execution_count": null,
      "outputs": []
    },
    {
      "cell_type": "markdown",
      "metadata": {
        "id": "KYbL5IYBpPI6"
      },
      "source": [
        "- 잘 만들어 놓은 함수를 소멸시키는 것은 아까우니 circle.py 라는 파일에 만들어 정리해두는 것이 바로 모듈이다. \n",
        "- 모듈은 import해서 사용할 수 있다."
      ]
    },
    {
      "cell_type": "code",
      "metadata": {
        "id": "BNzdbi_tpGk3"
      },
      "source": [
        "# circle.py\n",
        "PI = 3.14     # 원주율\n",
        "def ar_circle(rad):     # 원의 넓이를 계산해서 반환하는 함수\n",
        "    return rad * rad * PI \n",
        "\n",
        "def ci_circle(rad):     # 원의 둘레를 계산해서 반환하는 함수\n",
        "    return rad * 2 * PI"
      ],
      "execution_count": null,
      "outputs": []
    },
    {
      "cell_type": "markdown",
      "metadata": {
        "id": "o-oSBgOIpdwx"
      },
      "source": [
        "## 11-2. 모듈을 가져다 쓰는 방법 1"
      ]
    },
    {
      "cell_type": "markdown",
      "metadata": {
        "id": "MkqEjZOLplQU"
      },
      "source": [
        "- Google Colab에서 python 소스를 import하는 방법은 단순히 소스를 갖다놓도록 한다. "
      ]
    },
    {
      "cell_type": "markdown",
      "metadata": {
        "id": "bzgDgsbaqbBq"
      },
      "source": [
        "- 모듈 전체를 가져오는 방법"
      ]
    },
    {
      "cell_type": "code",
      "metadata": {
        "id": "Sft89h0Kphqr"
      },
      "source": [
        "# circle_test1.py\n",
        "# circle.py를 import하도록 한다.\n",
        "import circle\n",
        "\n",
        "def main():\n",
        "  print(\"다음 메서드는 import해서 가져오는 소스이다.\")\n",
        "  r = float(input(\"반지름 입력: \"))\n",
        "  ar = circle.ar_circle(r)\n",
        "  print(\"넓이:\", ar)\n",
        "  ci = circle.ci_circle(r)\n",
        "  print(\"둘레:\", ci)\n",
        "\n",
        "main()"
      ],
      "execution_count": null,
      "outputs": []
    },
    {
      "cell_type": "markdown",
      "metadata": {
        "id": "RDWUq5hyqKGx"
      },
      "source": [
        "- 특정 함수 하나만 가져다 쓰겠다고 선언하는 방법도 있다."
      ]
    },
    {
      "cell_type": "code",
      "metadata": {
        "id": "DEaq0R-hpzZ9"
      },
      "source": [
        "# circle_test2.py\n",
        "from circle import ar_circle # circle.py에서 ar_circle 함수를 가져다 쓰겠다.\n",
        "from circle import ci_circle # circle.py에서 ci_circle 함수를 가져다 쓰겠다.\n",
        "\n",
        "# from circle import ar_circle, ci_circle\n",
        "\n",
        "def main():\n",
        "    r = float(input(\"반지름 입력: \"))\n",
        "    ar = ar_circle(r) # circle.py에서 ar_circle 함수 호출\n",
        "    print(\"넓이:\", ar)\n",
        "    ci = ci_circle(r) # circle.py에서 ci_circle 함수 호출\n",
        "    print(\"둘레:\", ci)\n",
        "\n",
        "main()"
      ],
      "execution_count": null,
      "outputs": []
    },
    {
      "cell_type": "markdown",
      "metadata": {
        "id": "BXO6gchFqrnF"
      },
      "source": [
        "- import하되 이름만 바꿔서 쓴다."
      ]
    },
    {
      "cell_type": "code",
      "metadata": {
        "id": "tOZ1lFZUqFBp"
      },
      "source": [
        "# circle_test3.py\n",
        "# circle.py를 import하도록 한다.\n",
        "import circle as cc\n",
        "\n",
        "def main():\n",
        "    r = float(input(\"반지름 입력: \"))\n",
        "    ar = cc.ar_circle(r)\n",
        "    print(\"넓이:\", ar)\n",
        "    ci = cc.ci_circle(r)\n",
        "    print(\"둘레:\", ci)\n",
        "\n",
        "main()\n"
      ],
      "execution_count": null,
      "outputs": []
    },
    {
      "cell_type": "markdown",
      "metadata": {
        "id": "h6zkxqDGqvrM"
      },
      "source": [
        "## 11-3 모듈을 가져다 쓰는 방법 2"
      ]
    },
    {
      "cell_type": "markdown",
      "metadata": {
        "id": "SfAKjWxtrWzQ"
      },
      "source": [
        "- 소스를 사용하는 쉬운 방법"
      ]
    },
    {
      "cell_type": "code",
      "metadata": {
        "id": "6dP49yhcqtxj"
      },
      "source": [
        "def ar_circle(rad):     # 원의 넓이를 출력\n",
        "    print(\"넓이: \", rad * rad * 3.14) \n",
        "\n",
        "def ci_circle(rad):     # 원의 둘레를 출력\n",
        "    print(\"둘레: \", rad * 2 * 3.14)\n",
        "\n",
        "def main():\n",
        "    r = float(input(\"반지름 입력: \"))\n",
        "    ar_circle(r)\n",
        "    ci_circle(r)\n",
        "\n",
        "main()\n",
        "# 반지름 입력: 1.2\n",
        "# 넓이:  4.5216\n",
        "# 둘레:  7.536"
      ],
      "execution_count": null,
      "outputs": []
    },
    {
      "cell_type": "markdown",
      "metadata": {
        "id": "1fc_n7DYr4ac"
      },
      "source": [
        "- 이 소스는 어디에서 사용하는가?\n",
        "- 다음 소스는 엉망진창이 된 소스이다. \n",
        "- import해 가져온 method를 활용하지 못하게 되었다. "
      ]
    },
    {
      "cell_type": "code",
      "metadata": {
        "id": "a-jTCKhZrhwh"
      },
      "source": [
        "# circle_simple2.py\n",
        "from circle import ar_circle # circle.py에서 ar_circle 함수를 가져다 쓰겠다.\n",
        "from circle import ci_circle # circle.py에서 ci_circle 함수를 가져다 쓰겠다.\n",
        "\n",
        "def ar_circle(rad):     # 원의 넓이를 출력\n",
        "    print(\"import하지 않은 함수 ar_circle에서 가져온 넓이: \", rad * rad * 3.14) \n",
        "\n",
        "def ci_circle(rad):     # 원의 둘레를 출력\n",
        "    print(\"import하지 않은 함수 ar_circle에서 가져온 둘레: \", rad * 2 * 3.14)\n",
        "\n",
        "def main():\n",
        "    r = float(input(\"반지름 입력: \"))\n",
        "    print(\"원넓이 : \" , ar_circle(r))\n",
        "    print(\"원둘레 : \" , ci_circle(r))\n",
        "\n",
        "    sum = ac(r) + cc(r)\n",
        "    print(\"넓이와 둘레의 합: \", sum)\n",
        "\n",
        "main()"
      ],
      "execution_count": null,
      "outputs": []
    },
    {
      "cell_type": "markdown",
      "metadata": {
        "id": "2zh5cJGarc5g"
      },
      "source": [
        "- 문제를 해결하는 쉬운 방법은 namespace를 지정한다\n",
        "- 두 소스를 정확하게 활용하는 것을 확인할 수 있다"
      ]
    },
    {
      "cell_type": "code",
      "metadata": {
        "id": "5i4y5l-lrAJk"
      },
      "source": [
        "# circle_simple2.py\n",
        "from circle import ar_circle as ac\n",
        "from circle import ci_circle as cc\n",
        "\n",
        "def ar_circle(rad):     # 원의 넓이를 출력\n",
        "    print(\"넓이: \", rad * rad * 3.14) \n",
        "\n",
        "def ci_circle(rad):     # 원의 둘레를 출력\n",
        "    print(\"둘레: \", rad * 2 * 3.14)\n",
        "\n",
        "def main():\n",
        "    r = float(input(\"반지름 입력: \"))\n",
        "    ar_circle(r)\n",
        "    ci_circle(r)\n",
        "\n",
        "    sum = ac(r) + cc(r)\n",
        "    print(\"넓이와 둘레의 합: \", sum)\n",
        "\n",
        "main()\n"
      ],
      "execution_count": null,
      "outputs": []
    },
    {
      "cell_type": "markdown",
      "metadata": {
        "id": "xhFtoGV_unqa"
      },
      "source": [
        "## 11-5. 수학 관련 모듈"
      ]
    },
    {
      "cell_type": "markdown",
      "metadata": {
        "id": "f42t6imKu670"
      },
      "source": [
        "- import 선언 없이 그냥 언제든 호출 가능한 함수를 가리켜 빌트인 함수라 한다."
      ]
    },
    {
      "cell_type": "code",
      "metadata": {
        "id": "YBBjfNlEuJSs"
      },
      "source": [
        "print"
      ],
      "execution_count": null,
      "outputs": []
    },
    {
      "cell_type": "code",
      "metadata": {
        "id": "UaS744QIvBI1"
      },
      "source": [
        "input"
      ],
      "execution_count": null,
      "outputs": []
    },
    {
      "cell_type": "code",
      "metadata": {
        "id": "py4zTo2hvBvL"
      },
      "source": [
        "import math  \n",
        "math.fabs(-10)  "
      ],
      "execution_count": null,
      "outputs": []
    },
    {
      "cell_type": "markdown",
      "metadata": {
        "id": "arPmofLavS6-"
      },
      "source": [
        "|함수|내용|\n",
        "|------|---|\n",
        "|math.pi|π|\n",
        "|math.e|e(자연상수)|\n",
        "|math.sin(x)|sin x|\n",
        "|math.cos(x)|cos x|\n",
        "|math.tan(x)|tan x|\n",
        "|math.asin(x)|arcsin x|\n",
        "|math.acos(x)|arccos x|\n",
        "|math.atan(x)|arctan x|\n",
        "|math.log(x)|ln x|\n",
        "|math.log10(x)|$log_{10}x$|\n",
        "|math.log2(x)|$log_2x$|\n",
        "|math.exp(x)|$e^x$|\n",
        "|math.sqrt(x)|$x^{1/2}$|\n",
        "|math.fabs(x)|$\\|x\\|$|\n"
      ]
    },
    {
      "cell_type": "markdown",
      "metadata": {
        "id": "8mKb_Dy8w_tT"
      },
      "source": [
        "## 과제"
      ]
    },
    {
      "cell_type": "markdown",
      "metadata": {
        "id": "whSH5ETMxBLr"
      },
      "source": [
        "- 백준 문제를 풀어볼 시간입니다."
      ]
    },
    {
      "cell_type": "code",
      "metadata": {
        "id": "N3khvQoLvMEd"
      },
      "source": [
        ""
      ],
      "execution_count": null,
      "outputs": []
    }
  ]
}