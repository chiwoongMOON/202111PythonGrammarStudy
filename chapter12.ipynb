{
  "nbformat": 4,
  "nbformat_minor": 0,
  "metadata": {
    "colab": {
      "name": "chapter12.ipynb",
      "private_outputs": true,
      "provenance": [],
      "authorship_tag": "ABX9TyOVJLk02yNt2UkDOURL+QQJ",
      "include_colab_link": true
    },
    "kernelspec": {
      "name": "python3",
      "display_name": "Python 3"
    },
    "language_info": {
      "name": "python"
    }
  },
  "cells": [
    {
      "cell_type": "markdown",
      "metadata": {
        "id": "view-in-github",
        "colab_type": "text"
      },
      "source": [
        "<a href=\"https://colab.research.google.com/github/waltechel/202111PythonGrammarStudy/blob/master/chapter12.ipynb\" target=\"_parent\"><img src=\"https://colab.research.google.com/assets/colab-badge.svg\" alt=\"Open In Colab\"/></a>"
      ]
    },
    {
      "cell_type": "markdown",
      "metadata": {
        "id": "_ByH9MbRzwDf"
      },
      "source": [
        "# chapter 12 딕셔너리(Dictionary)"
      ]
    },
    {
      "cell_type": "markdown",
      "metadata": {
        "id": "hs_Fjx0yz1Wq"
      },
      "source": [
        "## 12-1. 딕셔너리의 이해"
      ]
    },
    {
      "cell_type": "code",
      "metadata": {
        "id": "gYL6YckazuVt"
      },
      "source": [
        "dc = {\n",
        "  '코카콜라': 900,\n",
        "  '바나나맛우유': 750,\n",
        "  '비타500': 600,\n",
        "  '삼다수': 450\n",
        "  }"
      ],
      "execution_count": null,
      "outputs": []
    },
    {
      "cell_type": "code",
      "metadata": {
        "id": "KYcA7GT90MMh"
      },
      "source": [
        "dc"
      ],
      "execution_count": null,
      "outputs": []
    },
    {
      "cell_type": "code",
      "metadata": {
        "id": "fjCZfLJZ0NI5"
      },
      "source": [
        "dc = {\n",
        "  '이름': '이순둥',  # 값이 문자열\n",
        "  '나이': 19,    # 값이 정수\n",
        "  '직업': '학생',   # 값이 문자열\n",
        "  '키': 175.8    # 값이 실수\n",
        "  }"
      ],
      "execution_count": null,
      "outputs": []
    },
    {
      "cell_type": "code",
      "metadata": {
        "id": "95Axu2Gj0Q3r"
      },
      "source": [
        "dc"
      ],
      "execution_count": null,
      "outputs": []
    },
    {
      "cell_type": "code",
      "metadata": {
        "id": "WMLyF2FD0SVB"
      },
      "source": [
        "dc = {\n",
        "  '이름': '이순둥',  # 값이 문자열\n",
        "  '나이': 19,    # 값이 정수\n",
        "  '직업': '학생',   # 값이 문자열\n",
        "  '키': 175.8    # 값이 실수\n",
        "  }"
      ],
      "execution_count": null,
      "outputs": []
    },
    {
      "cell_type": "code",
      "metadata": {
        "id": "6S-pc6zO0Wt5"
      },
      "source": [
        "dc"
      ],
      "execution_count": null,
      "outputs": []
    },
    {
      "cell_type": "code",
      "metadata": {
        "id": "XN9otWyz0YG5"
      },
      "source": [
        "dc = {\n",
        "  '이순둥': 22,\n",
        "  '정순둥': 22,\n",
        "  '김순둥': 22\n",
        "  }"
      ],
      "execution_count": null,
      "outputs": []
    },
    {
      "cell_type": "code",
      "metadata": {
        "id": "x9I8qXJz0cqE"
      },
      "source": [
        "dc"
      ],
      "execution_count": null,
      "outputs": []
    },
    {
      "cell_type": "markdown",
      "metadata": {
        "id": "10agYNAM0t_8"
      },
      "source": [
        "- 같은 키의 데이터를 여럿 저장했더니 마지막에 저장된 데이터만 남는 결과로 이어졌다. "
      ]
    },
    {
      "cell_type": "code",
      "metadata": {
        "id": "dM9stCXT0dgh"
      },
      "source": [
        "dc = {\n",
        "  '이순둥': 22,\n",
        "  '이순둥': 23,\n",
        "  '이순둥': 24\n",
        "  }"
      ],
      "execution_count": null,
      "outputs": []
    },
    {
      "cell_type": "code",
      "metadata": {
        "id": "Wrm44oeE0iGH"
      },
      "source": [
        "dc"
      ],
      "execution_count": null,
      "outputs": []
    },
    {
      "cell_type": "markdown",
      "metadata": {
        "id": "yQicwspm0z_F"
      },
      "source": [
        "## 12-2. 딕셔너리의 데이터 참조, 수정, 추가, 삭제"
      ]
    },
    {
      "cell_type": "markdown",
      "metadata": {
        "id": "EaKFAMh61Qca"
      },
      "source": [
        "- 참조"
      ]
    },
    {
      "cell_type": "code",
      "metadata": {
        "id": "2_6ABrfV0jAS"
      },
      "source": [
        "dc = {\n",
        "  '코카콜라': 900,\n",
        "  '바나나맛우유': 750,\n",
        "  '비타500': 600,\n",
        "  '삼다수': 450\n",
        "  }"
      ],
      "execution_count": null,
      "outputs": []
    },
    {
      "cell_type": "code",
      "metadata": {
        "id": "NHcGzXvv05gn"
      },
      "source": [
        "v = dc['삼다수']"
      ],
      "execution_count": null,
      "outputs": []
    },
    {
      "cell_type": "code",
      "metadata": {
        "id": "Ya22hQ_807nG"
      },
      "source": [
        "v"
      ],
      "execution_count": null,
      "outputs": []
    },
    {
      "cell_type": "markdown",
      "metadata": {
        "id": "Iqpu0zNU1Pci"
      },
      "source": [
        "- 수정"
      ]
    },
    {
      "cell_type": "code",
      "metadata": {
        "id": "Xd9fCimn07_F"
      },
      "source": [
        "dc['삼다수'] = 550"
      ],
      "execution_count": null,
      "outputs": []
    },
    {
      "cell_type": "code",
      "metadata": {
        "id": "cJwEQjjf1CSm"
      },
      "source": [
        "dc"
      ],
      "execution_count": null,
      "outputs": []
    },
    {
      "cell_type": "code",
      "metadata": {
        "id": "w2I7FO6n1Dl2"
      },
      "source": [
        "dc['삼다수'] += 100"
      ],
      "execution_count": null,
      "outputs": []
    },
    {
      "cell_type": "code",
      "metadata": {
        "id": "TyLCbZEJ1KUP"
      },
      "source": [
        "dc"
      ],
      "execution_count": null,
      "outputs": []
    },
    {
      "cell_type": "markdown",
      "metadata": {
        "id": "KO3ECnbZ1N9g"
      },
      "source": [
        "- 추가"
      ]
    },
    {
      "cell_type": "code",
      "metadata": {
        "id": "XEh6A6KG1LC4"
      },
      "source": [
        "dc['카페라떼'] = 1300"
      ],
      "execution_count": null,
      "outputs": []
    },
    {
      "cell_type": "code",
      "metadata": {
        "id": "Pm1zdLj91SyZ"
      },
      "source": [
        "dc"
      ],
      "execution_count": null,
      "outputs": []
    },
    {
      "cell_type": "markdown",
      "metadata": {
        "id": "iKBHq61j1U6R"
      },
      "source": [
        "- 삭제"
      ]
    },
    {
      "cell_type": "code",
      "metadata": {
        "id": "vpPDLJDB1Tm5"
      },
      "source": [
        "del dc['비타500']"
      ],
      "execution_count": null,
      "outputs": []
    },
    {
      "cell_type": "code",
      "metadata": {
        "id": "ghHmXLne1Y1R"
      },
      "source": [
        "dc"
      ],
      "execution_count": null,
      "outputs": []
    },
    {
      "cell_type": "code",
      "metadata": {
        "id": "gLQgUXK81Zjj"
      },
      "source": [
        "dc"
      ],
      "execution_count": null,
      "outputs": []
    },
    {
      "cell_type": "markdown",
      "metadata": {
        "id": "O-XjVxFG1oEF"
      },
      "source": [
        "## 12-3. 연산자 == 을 대상으로 하는 딕셔너리의 성격"
      ]
    },
    {
      "cell_type": "markdown",
      "metadata": {
        "id": "x6TOOhmg2Hpu"
      },
      "source": [
        "- 튜플의 데이터는 저장 순서가 의미가 있어요"
      ]
    },
    {
      "cell_type": "code",
      "metadata": {
        "id": "64hf6JK22AEs"
      },
      "source": [
        "t1 = (1, 2, 3)\n",
        "t2 = (1, 2, 3)\n",
        "t3 = (3, 2, 1)"
      ],
      "execution_count": null,
      "outputs": []
    },
    {
      "cell_type": "code",
      "metadata": {
        "id": "xPLcyb_g2FAT"
      },
      "source": [
        "t1 == t2"
      ],
      "execution_count": null,
      "outputs": []
    },
    {
      "cell_type": "code",
      "metadata": {
        "id": "SDMR1llU2FuP"
      },
      "source": [
        "t1 == t3"
      ],
      "execution_count": null,
      "outputs": []
    },
    {
      "cell_type": "markdown",
      "metadata": {
        "id": "8J4wjXwP18j-"
      },
      "source": [
        "- 리스트의 데이터는 저장 순서가 의미가 있어요"
      ]
    },
    {
      "cell_type": "code",
      "metadata": {
        "id": "DZ-9PwNR1aRy"
      },
      "source": [
        "l1 = [1, 2, 3]\n",
        "l2 = [1, 2, 3]\n",
        "l3 = [3, 2, 1]"
      ],
      "execution_count": null,
      "outputs": []
    },
    {
      "cell_type": "code",
      "metadata": {
        "id": "2na71cz21uLe"
      },
      "source": [
        "l1 == l2"
      ],
      "execution_count": null,
      "outputs": []
    },
    {
      "cell_type": "code",
      "metadata": {
        "id": "QWKj5eBn1u_V"
      },
      "source": [
        "l1 == l3"
      ],
      "execution_count": null,
      "outputs": []
    },
    {
      "cell_type": "markdown",
      "metadata": {
        "id": "FZDnDJnA14V9"
      },
      "source": [
        "- 딕셔너리의 데이터는 저장 순서가 의미가 없다"
      ]
    },
    {
      "cell_type": "code",
      "metadata": {
        "id": "LGHNz6ML1wgE"
      },
      "source": [
        "d1 = {1: 'a', 2: 'b'}\n",
        "d2 = {1: 'a', 2: 'b'}\n",
        "d3 = {2: 'b', 1: 'a'}"
      ],
      "execution_count": null,
      "outputs": []
    },
    {
      "cell_type": "code",
      "metadata": {
        "id": "6jDEUW-n1yJ2"
      },
      "source": [
        "d1 == d2"
      ],
      "execution_count": null,
      "outputs": []
    },
    {
      "cell_type": "code",
      "metadata": {
        "id": "Ja28wb081z3m"
      },
      "source": [
        "d1 == d3"
      ],
      "execution_count": null,
      "outputs": []
    },
    {
      "cell_type": "markdown",
      "metadata": {
        "id": "Lw01q6A-2RB3"
      },
      "source": [
        "## 12-4. in 연산과 not in 연산"
      ]
    },
    {
      "cell_type": "code",
      "metadata": {
        "id": "K8eJG5Tl2aaZ"
      },
      "source": [
        "dc1 = {'코카콜라' : 900, '삼다수' : 450}\n",
        "dc2 = {'새우깡' : 700, '콘치즈' : 850}"
      ],
      "execution_count": null,
      "outputs": []
    },
    {
      "cell_type": "code",
      "metadata": {
        "id": "hr-8aEMu11HG"
      },
      "source": [
        "if '새우깡' in dc2:       # 새우깡이라는 키가 dc2에 존재하면,\n",
        "  dc2['새우깡'] = 950     # 값을 950으로 수정"
      ],
      "execution_count": null,
      "outputs": []
    },
    {
      "cell_type": "code",
      "metadata": {
        "id": "4NwUDG5R2jz5"
      },
      "source": [
        "if '카페라떼' not in dc1:     # 카페라떼라는 키가 dc1에 존재하지 않으면\n",
        "  dc1['카페라떼'] = 1200      # 추가"
      ],
      "execution_count": null,
      "outputs": []
    },
    {
      "cell_type": "markdown",
      "metadata": {
        "id": "iTNDwnku3dHc"
      },
      "source": [
        "## 12-5. 딕셔너리의 for 루프"
      ]
    },
    {
      "cell_type": "markdown",
      "metadata": {
        "id": "GFy4h6tX4Tuy"
      },
      "source": [
        "- 모든 과자의 가격을 70원씩 전부 올려야 한다고 가정한다"
      ]
    },
    {
      "cell_type": "code",
      "metadata": {
        "id": "fbnzhZMW35R2"
      },
      "source": [
        "dc = {'새우깡' : 700, '콘치즈' : 850, '꼬깔콘' : 750 }"
      ],
      "execution_count": null,
      "outputs": []
    },
    {
      "cell_type": "code",
      "metadata": {
        "id": "PFO9Qgru3ZL1"
      },
      "source": [
        "dc = {'새우깡' : 700, '콘치즈' : 850, '꼬깔콘' : 750 }\n",
        "for i in dc:\n",
        "  print(i, end=' ')"
      ],
      "execution_count": null,
      "outputs": []
    },
    {
      "cell_type": "code",
      "metadata": {
        "id": "O70bzZDu4Lm5"
      },
      "source": [
        "dc = {'새우깡' : 700, '콘치즈' : 850, '꼬깔콘' : 750 }\n",
        "for i in dc:\n",
        "  dc[i] += 70"
      ],
      "execution_count": null,
      "outputs": []
    },
    {
      "cell_type": "code",
      "metadata": {
        "id": "3KCaZWlT4cCw"
      },
      "source": [
        "dc"
      ],
      "execution_count": null,
      "outputs": []
    },
    {
      "cell_type": "markdown",
      "metadata": {
        "id": "S33sm9HA4e60"
      },
      "source": [
        "## 과제"
      ]
    },
    {
      "cell_type": "code",
      "metadata": {
        "id": "hQNSjBFy4gTB"
      },
      "source": [
        "dc = {'새우깡' : 700, '콘치즈' : 850, '꼬깔콘' : 750 }"
      ],
      "execution_count": null,
      "outputs": []
    },
    {
      "cell_type": "markdown",
      "metadata": {
        "id": "o5U0fP474h2s"
      },
      "source": [
        "- 다음 과자 정보가 담긴 딕셔너리에 900원 짜리 홈런볼을 추가한다."
      ]
    },
    {
      "cell_type": "code",
      "metadata": {
        "id": "5juByAG34cqU"
      },
      "source": [
        ""
      ],
      "execution_count": null,
      "outputs": []
    },
    {
      "cell_type": "markdown",
      "metadata": {
        "id": "ZEaonnmd4tVy"
      },
      "source": [
        "- 모든 과자의 가격을 100원씩 올린다"
      ]
    },
    {
      "cell_type": "code",
      "metadata": {
        "id": "h4W6ND-j4wA7"
      },
      "source": [
        ""
      ],
      "execution_count": null,
      "outputs": []
    },
    {
      "cell_type": "markdown",
      "metadata": {
        "id": "MMIvH0t_4xDq"
      },
      "source": [
        "- 꼬깔콘을 팔지 않기로 하였다. 꼬깔콘을 삭제하도록 한다."
      ]
    },
    {
      "cell_type": "code",
      "metadata": {
        "id": "3ySEkDUW7DU1"
      },
      "source": [
        ""
      ],
      "execution_count": null,
      "outputs": []
    }
  ]
}