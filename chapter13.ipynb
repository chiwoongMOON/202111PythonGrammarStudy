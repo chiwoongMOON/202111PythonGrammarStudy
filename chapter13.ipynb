{
  "nbformat": 4,
  "nbformat_minor": 0,
  "metadata": {
    "colab": {
      "name": "chapter13.ipynb",
      "private_outputs": true,
      "provenance": [],
      "authorship_tag": "ABX9TyOYheHmIuJX5bQq5lxRlYIr",
      "include_colab_link": true
    },
    "kernelspec": {
      "name": "python3",
      "display_name": "Python 3"
    },
    "language_info": {
      "name": "python"
    }
  },
  "cells": [
    {
      "cell_type": "markdown",
      "metadata": {
        "id": "view-in-github",
        "colab_type": "text"
      },
      "source": [
        "<a href=\"https://colab.research.google.com/github/waltechel/202111PythonGrammarStudy/blob/master/chapter13.ipynb\" target=\"_parent\"><img src=\"https://colab.research.google.com/assets/colab-badge.svg\" alt=\"Open In Colab\"/></a>"
      ]
    },
    {
      "cell_type": "markdown",
      "metadata": {
        "id": "bVq_Jt3a7mNN"
      },
      "source": [
        "# chapter 13 클래스와 객체"
      ]
    },
    {
      "cell_type": "markdown",
      "metadata": {
        "id": "l8QPgglX7qHJ"
      },
      "source": [
        "## 13-1. 전역변수와 지역변수"
      ]
    },
    {
      "cell_type": "markdown",
      "metadata": {
        "id": "LTJ9JT9p71JS"
      },
      "source": [
        "- 지역변수는 함수 내에서 만들어졌다가 함수를 벗어나면 사라지는 변수다."
      ]
    },
    {
      "cell_type": "code",
      "metadata": {
        "id": "uCVxmS8p7jCh"
      },
      "source": [
        "def func(n):\n",
        "  lv = n + 1\n",
        "  print(lv)"
      ],
      "execution_count": null,
      "outputs": []
    },
    {
      "cell_type": "code",
      "metadata": {
        "id": "uPTmoCiS_ki8"
      },
      "source": [
        "func(12)"
      ],
      "execution_count": null,
      "outputs": []
    },
    {
      "cell_type": "markdown",
      "metadata": {
        "id": "M35365JR_nBN"
      },
      "source": [
        "- 만약에 다음과 같이 함수 밖에서 접근하면 그런 변수를 알지 못한다는 내용의 오류 메시지를 보게 된다"
      ]
    },
    {
      "cell_type": "code",
      "metadata": {
        "id": "YyJitIcq_lOO"
      },
      "source": [
        "def func(n):\n",
        "  lv = n + 1\n",
        "  print(lv)"
      ],
      "execution_count": null,
      "outputs": []
    },
    {
      "cell_type": "code",
      "metadata": {
        "id": "vMCHPVa6_v57"
      },
      "source": [
        "func(12)"
      ],
      "execution_count": null,
      "outputs": []
    },
    {
      "cell_type": "code",
      "metadata": {
        "id": "0VVh_0ez_wYQ"
      },
      "source": [
        "print(lv)"
      ],
      "execution_count": null,
      "outputs": []
    },
    {
      "cell_type": "markdown",
      "metadata": {
        "id": "P5mKrAKY_1kB"
      },
      "source": [
        "- 함수 밖에서 선언되는 전역 변수는 선언된 이후 어디서든 접근이 가능하다."
      ]
    },
    {
      "cell_type": "code",
      "metadata": {
        "id": "DoAIo2MC_yvA"
      },
      "source": [
        "cnt = 100\n",
        "cnt += 1\n",
        "def func():\n",
        "  print(cnt)"
      ],
      "execution_count": null,
      "outputs": []
    },
    {
      "cell_type": "code",
      "metadata": {
        "id": "MYsNJA_3_9vD"
      },
      "source": [
        "func()"
      ],
      "execution_count": null,
      "outputs": []
    },
    {
      "cell_type": "code",
      "metadata": {
        "id": "t7T3fne7__I9"
      },
      "source": [
        "cnt = 100\n",
        "\n",
        "def func():\n",
        "  cnt = 0\n",
        "  print(\"0으로 바꾸었다\")\n",
        "\n",
        "func()\n",
        "\n",
        "print(\"cnt is : \", cnt)"
      ],
      "execution_count": null,
      "outputs": []
    },
    {
      "cell_type": "markdown",
      "metadata": {
        "id": "yJ3I0hQYAOaO"
      },
      "source": [
        "- global 옵션을 주게 되면 지역변수의 cnt를 전역변수로 사용할 수 있다"
      ]
    },
    {
      "cell_type": "code",
      "metadata": {
        "id": "30TSFE4bAMxr"
      },
      "source": [
        "cnt = 100\n",
        "\n",
        "def func():\n",
        "  global cnt\n",
        "  cnt = 0\n",
        "  print(\"0으로 바꾸었다\")\n",
        "\n",
        "func()\n",
        "\n",
        "print(\"cnt is : \", cnt)"
      ],
      "execution_count": null,
      "outputs": []
    },
    {
      "cell_type": "markdown",
      "metadata": {
        "id": "eFtzwjozAyxp"
      },
      "source": [
        "- 글로벌 옵션을 줄 것이면 함수 definition 바로 뒤에 쓰는 것이 좋다"
      ]
    },
    {
      "cell_type": "code",
      "metadata": {
        "id": "Li0yD6o8AXK8"
      },
      "source": [
        "cnt = 100\n",
        "\n",
        "def func():\n",
        "  cnt = 0\n",
        "  global cnt\n",
        "  print(\"0으로 바꾸었다\")\n",
        "\n",
        "func()\n",
        "\n",
        "print(\"cnt is : \", cnt)"
      ],
      "execution_count": null,
      "outputs": []
    },
    {
      "cell_type": "code",
      "metadata": {
        "id": "iBO7EtL6A5Hk"
      },
      "source": [
        "cnt = 100\n",
        "\n",
        "def func(cnt):\n",
        "  cnt = 0\n",
        "  print(\"0으로 바꾸었다\")\n",
        "\n",
        "func(cnt)\n",
        "\n",
        "print(\"cnt is : \", cnt)"
      ],
      "execution_count": null,
      "outputs": []
    },
    {
      "cell_type": "markdown",
      "metadata": {
        "id": "zlZmDYaACIrf"
      },
      "source": [
        "## 13-2. 객체지향 프로그래밍"
      ]
    },
    {
      "cell_type": "markdown",
      "metadata": {
        "id": "cxXY1GfqCQUC"
      },
      "source": [
        "- 세상의 모든 것은 객체로 이루어져 있다\n",
        "- 객체는 객체를 구성하는 속성과 동작을 나타내는 메서드로 구성된다."
      ]
    },
    {
      "cell_type": "code",
      "metadata": {
        "id": "HNNp3h9bAuBY"
      },
      "source": [
        ""
      ],
      "execution_count": null,
      "outputs": []
    }
  ]
}