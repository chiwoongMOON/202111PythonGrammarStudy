{
  "nbformat": 4,
  "nbformat_minor": 0,
  "metadata": {
    "colab": {
      "name": "chapter13.ipynb",
      "private_outputs": true,
      "provenance": [],
      "authorship_tag": "ABX9TyMoKWPGDQJr+yhzXHN0ttUO",
      "include_colab_link": true
    },
    "kernelspec": {
      "name": "python3",
      "display_name": "Python 3"
    },
    "language_info": {
      "name": "python"
    }
  },
  "cells": [
    {
      "cell_type": "markdown",
      "metadata": {
        "id": "view-in-github",
        "colab_type": "text"
      },
      "source": [
        "<a href=\"https://colab.research.google.com/github/waltechel/202111PythonGrammarStudy/blob/master/chapter13.ipynb\" target=\"_parent\"><img src=\"https://colab.research.google.com/assets/colab-badge.svg\" alt=\"Open In Colab\"/></a>"
      ]
    },
    {
      "cell_type": "markdown",
      "metadata": {
        "id": "bVq_Jt3a7mNN"
      },
      "source": [
        "# chapter 13 클래스와 객체"
      ]
    },
    {
      "cell_type": "markdown",
      "metadata": {
        "id": "l8QPgglX7qHJ"
      },
      "source": [
        "## 13-1. 전역변수와 지역변수"
      ]
    },
    {
      "cell_type": "markdown",
      "metadata": {
        "id": "LTJ9JT9p71JS"
      },
      "source": [
        "- 지역변수는 함수 내에서 만들어졌다가 함수를 벗어나면 사라지는 변수다."
      ]
    },
    {
      "cell_type": "code",
      "metadata": {
        "id": "uCVxmS8p7jCh"
      },
      "source": [
        "def func(n):\n",
        "  lv = n + 1\n",
        "  print(lv)"
      ],
      "execution_count": null,
      "outputs": []
    },
    {
      "cell_type": "code",
      "metadata": {
        "id": "uPTmoCiS_ki8"
      },
      "source": [
        "func(12)"
      ],
      "execution_count": null,
      "outputs": []
    },
    {
      "cell_type": "markdown",
      "metadata": {
        "id": "M35365JR_nBN"
      },
      "source": [
        "- 만약에 다음과 같이 함수 밖에서 접근하면 그런 변수를 알지 못한다는 내용의 오류 메시지를 보게 된다"
      ]
    },
    {
      "cell_type": "code",
      "metadata": {
        "id": "YyJitIcq_lOO"
      },
      "source": [
        "def func(n):\n",
        "  lv = n + 1\n",
        "  print(lv)"
      ],
      "execution_count": null,
      "outputs": []
    },
    {
      "cell_type": "code",
      "metadata": {
        "id": "vMCHPVa6_v57"
      },
      "source": [
        "func(12)"
      ],
      "execution_count": null,
      "outputs": []
    },
    {
      "cell_type": "code",
      "metadata": {
        "id": "0VVh_0ez_wYQ"
      },
      "source": [
        "print(lv)"
      ],
      "execution_count": null,
      "outputs": []
    },
    {
      "cell_type": "markdown",
      "metadata": {
        "id": "P5mKrAKY_1kB"
      },
      "source": [
        "- 함수 밖에서 선언되는 전역 변수는 선언된 이후 어디서든 접근이 가능하다."
      ]
    },
    {
      "cell_type": "code",
      "metadata": {
        "id": "DoAIo2MC_yvA"
      },
      "source": [
        "cnt = 100\n",
        "cnt += 1\n",
        "def func():\n",
        "  print(cnt)"
      ],
      "execution_count": null,
      "outputs": []
    },
    {
      "cell_type": "code",
      "metadata": {
        "id": "MYsNJA_3_9vD"
      },
      "source": [
        "func()"
      ],
      "execution_count": null,
      "outputs": []
    },
    {
      "cell_type": "code",
      "metadata": {
        "id": "t7T3fne7__I9"
      },
      "source": [
        "cnt = 100\n",
        "\n",
        "def func():\n",
        "  cnt = 0\n",
        "  print(\"0으로 바꾸었다\")\n",
        "\n",
        "func()\n",
        "\n",
        "print(\"cnt is : \", cnt)"
      ],
      "execution_count": null,
      "outputs": []
    },
    {
      "cell_type": "markdown",
      "metadata": {
        "id": "yJ3I0hQYAOaO"
      },
      "source": [
        "- global 옵션을 주게 되면 지역변수의 cnt를 전역변수로 사용할 수 있다"
      ]
    },
    {
      "cell_type": "code",
      "metadata": {
        "id": "30TSFE4bAMxr"
      },
      "source": [
        "cnt = 100\n",
        "\n",
        "def func():\n",
        "  global cnt\n",
        "  cnt = 0\n",
        "  print(\"0으로 바꾸었다\")\n",
        "\n",
        "func()\n",
        "\n",
        "print(\"cnt is : \", cnt)"
      ],
      "execution_count": null,
      "outputs": []
    },
    {
      "cell_type": "markdown",
      "metadata": {
        "id": "eFtzwjozAyxp"
      },
      "source": [
        "- 글로벌 옵션을 줄 것이면 함수 definition 바로 뒤에 쓰는 것이 좋다"
      ]
    },
    {
      "cell_type": "code",
      "metadata": {
        "id": "Li0yD6o8AXK8"
      },
      "source": [
        "cnt = 100\n",
        "\n",
        "def func():\n",
        "  cnt = 0\n",
        "  global cnt\n",
        "  print(\"0으로 바꾸었다\")\n",
        "\n",
        "func()\n",
        "\n",
        "print(\"cnt is : \", cnt)"
      ],
      "execution_count": null,
      "outputs": []
    },
    {
      "cell_type": "code",
      "metadata": {
        "id": "iBO7EtL6A5Hk"
      },
      "source": [
        "cnt = 100\n",
        "\n",
        "def func(cnt):\n",
        "  cnt = 0\n",
        "  print(\"0으로 바꾸었다\")\n",
        "\n",
        "func(cnt)\n",
        "\n",
        "print(\"cnt is : \", cnt)"
      ],
      "execution_count": null,
      "outputs": []
    },
    {
      "cell_type": "markdown",
      "metadata": {
        "id": "zlZmDYaACIrf"
      },
      "source": [
        "## 13-2. 객체지향 프로그래밍"
      ]
    },
    {
      "cell_type": "markdown",
      "metadata": {
        "id": "cxXY1GfqCQUC"
      },
      "source": [
        "- 세상의 모든 것은 객체로 이루어져 있다\n",
        "- 객체는 객체를 구성하는 속성과 동작을 나타내는 메서드로 구성된다."
      ]
    },
    {
      "cell_type": "code",
      "metadata": {
        "id": "HNNp3h9bAuBY"
      },
      "source": [
        ""
      ],
      "execution_count": null,
      "outputs": []
    },
    {
      "cell_type": "markdown",
      "metadata": {
        "id": "dwUVB6ExDEtV"
      },
      "source": [
        "## 13-3 클래스와 객체 이전의 프로그램에 대한 반성"
      ]
    },
    {
      "cell_type": "code",
      "metadata": {
        "id": "eQSbXumzMql3"
      },
      "source": [
        "## family_age1.py\n",
        "fa_age = 39        # 아빠 나이 정보, 현재 39살\n",
        "\n",
        "def up_fa_age():   # 이 함수를 호출하면 아빠 나이 올라감\n",
        "    global fa_age  # 전역 변수임을 선언함\n",
        "    fa_age += 1    # fa_age의 값 1 증가\n",
        "\n",
        "def get_fa_age():  # 이 함수 호출하면 아빠 나이 반환함\n",
        "    return fa_age  \n",
        "\n",
        "def main():\n",
        "    print(\"2019년...\")\n",
        "    print(\"아빠:\", get_fa_age())\n",
        "    print(\"2020년...\")\n",
        "    up_fa_age() # 아빠 나이 1살 증가\n",
        "    print(\"아빠:\", get_fa_age())\n",
        "\n",
        "main()"
      ],
      "execution_count": null,
      "outputs": []
    },
    {
      "cell_type": "code",
      "metadata": {
        "id": "rDy76E7BM5lS"
      },
      "source": [
        "# family_age2.py\n",
        "fa_age = 39        # 아빠 나이 정보\n",
        "def up_fa_age():   # 아빠 나이 올라감\n",
        "    global fa_age\n",
        "    fa_age += 1\n",
        "def get_fa_age():  # 아빠 나이는?\n",
        "    return fa_age\n",
        "\n",
        "mo_age = 35        # 엄마 나이 정보\n",
        "def up_mo_age():   # 엄마 나이 올라감\n",
        "    global mo_age\n",
        "    mo_age += 1\n",
        "def get_mo_age():     # 엄마 나이는?\n",
        "    return mo_age\n",
        "\n",
        "def main():\n",
        "    print(\"2019년...\")\n",
        "    print(\"아빠:\", get_fa_age())\n",
        "    print(\"엄마:\", get_mo_age())\n",
        "    print(\"2020년...\")\n",
        "    up_fa_age() # 아빠 나이 1살 증가\n",
        "    up_mo_age()\n",
        "    print(\"아빠:\", get_fa_age())\n",
        "    print(\"엄마:\", get_mo_age())\n",
        "\n",
        "main()"
      ],
      "execution_count": null,
      "outputs": []
    },
    {
      "cell_type": "markdown",
      "metadata": {
        "id": "v11yQkPIOCMn"
      },
      "source": [
        "## 13-4 클래스와 객체의 이해"
      ]
    },
    {
      "cell_type": "code",
      "metadata": {
        "id": "gdn0YzUfN9KH"
      },
      "source": [
        "class AgeInfo:  # 클래스 AgeInfo의 정의\n",
        "  def up_age(self):   # 클래스 안에 담긴 up_age 함수\n",
        "    self.age += 1\n",
        "  def get_age(self):  # 클래스 안에 담긴 get_age 함수\n",
        "    return self.age\n",
        "\n",
        "def main():\n",
        "  fa = AgeInfo()  # AgeInfo 객체 생성\n",
        "  fa.age = 39   # fa에 저장된 객체의 변수 age에 39를 저장\n",
        "  print(\"현재 아빠 나이...\")\n",
        "  print(\"아빠:\", fa.get_age())     # get_age 호출할 때 self에 값 전달하지 않음\n",
        "  print(\"1년 뒤...\")\n",
        "  fa.up_age()   # up_age 호출할 때 self에 값 전달하지 않음\n",
        "  print(\"아빠:\", fa.get_age())    # get_age 호출할 때 self에 값 전달하지 않음\n",
        "\n",
        "main()"
      ],
      "execution_count": null,
      "outputs": []
    },
    {
      "cell_type": "markdown",
      "metadata": {
        "id": "l7_EIlUrQgB7"
      },
      "source": [
        "## 13-5 나이 정보 관리하는 이전 예제의 수정 결과"
      ]
    },
    {
      "cell_type": "code",
      "metadata": {
        "id": "ZT1QKppzQbXx"
      },
      "source": [
        "class AgeInfo:\n",
        "  def up_age(self):\n",
        "    self.age += 1\n",
        "  def get_age(self):\n",
        "    return self.age\n",
        "\n",
        "def main():\n",
        "  fa = AgeInfo()  # 아빠 나이 객체 생성\n",
        "  mo = AgeInfo()  # 엄마 나이 객체 생성\n",
        "  me = AgeInfo()  # 나의 나이 객체 생성\n",
        "  fa.age = 39   # 아빠 현재 나이\n",
        "  mo.age = 35   # 엄마 현재 나이\n",
        "  me.age = 12   # 나의 현재 나이\n",
        "  \n",
        "  sum = fa.get_age() + mo.get_age() + me.get_age()\n",
        "  print(\"가족 나이 합:\", sum)\n",
        "  fa.up_age()   # 아빠 나이 한 살 올림\n",
        "  mo.up_age()   # 엄마 나이 한 살 올림\n",
        "  me.up_age()   # 나의 나이 한 살 올림\n",
        "  sum = fa.get_age() + mo.get_age() + me.get_age()\n",
        "  print(\"1년 후의 합:\", sum)\n",
        "\n",
        "main()"
      ],
      "execution_count": null,
      "outputs": []
    },
    {
      "cell_type": "markdown",
      "metadata": {
        "id": "3u6W2PBWQwqo"
      },
      "source": [
        "## 13-6 self 너 뭐냐!"
      ]
    },
    {
      "cell_type": "code",
      "metadata": {
        "id": "e8BCdUSJQswk"
      },
      "source": [
        "# self_test.py\n",
        "\n",
        "class AgeInfo:\n",
        "    def up_age(self):\n",
        "        self.age += 1\n",
        "    def get_age(self):\n",
        "        return self.age\n",
        "\n",
        "def main():\n",
        "    fa = AgeInfo()\n",
        "    fa.age = 20\n",
        "\n",
        "    fa.up_age()\n",
        "    AgeInfo.up_age(fa)\n",
        "\n",
        "    print(fa.get_age())\n",
        "    print(AgeInfo.get_age(fa))\n",
        "\n",
        "   \n",
        "main()\n"
      ],
      "execution_count": null,
      "outputs": []
    },
    {
      "cell_type": "markdown",
      "metadata": {
        "id": "ukduaMzSRGl3"
      },
      "source": [
        "## 13-7 self 이외의 매개변수를 갖는 메소드들(함수들) 정의해보기"
      ]
    },
    {
      "cell_type": "code",
      "metadata": {
        "id": "vd5ZhGZjQ6WL"
      },
      "source": [
        "# family_age4.py\n",
        "class AgeInfo:\n",
        "  def up_age(self):\n",
        "    self.age += 1\n",
        "  def get_age(self):\n",
        "    return self.age\n",
        "  def set_age(self, age):\n",
        "    self.age = age\n",
        "\n",
        "def main():\n",
        "  fa = AgeInfo()      # 아빠 나이 객체 생성\n",
        "  fa.set_age(39)      # 아빠 나이 초기화\n",
        "  fa.up_age()\n",
        "  print(\"1년 후 아빠 나이:\", fa.get_age())\n",
        "    \n",
        "main()"
      ],
      "execution_count": null,
      "outputs": []
    },
    {
      "cell_type": "markdown",
      "metadata": {
        "id": "GpBeh97eWkdh"
      },
      "source": [
        "## 13-8 생성자"
      ]
    },
    {
      "cell_type": "code",
      "metadata": {
        "id": "bdRqGbqgWiKa"
      },
      "source": [
        "# ctor1.py\n",
        "\n",
        "class Const:\n",
        "  def __init__(self):\n",
        "      print(\"new~\")\n",
        "\n",
        "def main():\n",
        "    o1 = Const()\n",
        "    o2 = Const()\n",
        "   \n",
        "main()\n"
      ],
      "execution_count": null,
      "outputs": []
    }
  ]
}