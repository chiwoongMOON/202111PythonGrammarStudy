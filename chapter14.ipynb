{
  "nbformat": 4,
  "nbformat_minor": 0,
  "metadata": {
    "colab": {
      "name": "chapter14.ipynb",
      "private_outputs": true,
      "provenance": [],
      "collapsed_sections": [],
      "authorship_tag": "ABX9TyOO+/hzMmjYam9CbraC7x2u",
      "include_colab_link": true
    },
    "kernelspec": {
      "name": "python3",
      "display_name": "Python 3"
    },
    "language_info": {
      "name": "python"
    }
  },
  "cells": [
    {
      "cell_type": "markdown",
      "metadata": {
        "id": "view-in-github",
        "colab_type": "text"
      },
      "source": [
        "<a href=\"https://colab.research.google.com/github/waltechel/202111PythonGrammarStudy/blob/master/chapter14.ipynb\" target=\"_parent\"><img src=\"https://colab.research.google.com/assets/colab-badge.svg\" alt=\"Open In Colab\"/></a>"
      ]
    },
    {
      "cell_type": "markdown",
      "metadata": {
        "id": "K79OpVqoSBdM"
      },
      "source": [
        "# chapter14 예외처리"
      ]
    },
    {
      "cell_type": "markdown",
      "metadata": {
        "id": "GZzCXYZWSFIp"
      },
      "source": [
        "## 14-1 예외가 발생하는 상황"
      ]
    },
    {
      "cell_type": "code",
      "metadata": {
        "id": "-xb8ebJCR1ok"
      },
      "source": [
        "lst = [1, 2, 3]\n",
        "lst[3]"
      ],
      "execution_count": null,
      "outputs": []
    },
    {
      "cell_type": "code",
      "metadata": {
        "id": "g5jCnh6wSN0E"
      },
      "source": [
        "3 + \"coffee\""
      ],
      "execution_count": null,
      "outputs": []
    },
    {
      "cell_type": "code",
      "metadata": {
        "id": "JZGl9-f1SQEi"
      },
      "source": [
        "3 / 0"
      ],
      "execution_count": null,
      "outputs": []
    },
    {
      "cell_type": "markdown",
      "metadata": {
        "id": "aXlBEHm-SS6C"
      },
      "source": [
        "## 14-2 예외의 처리"
      ]
    },
    {
      "cell_type": "markdown",
      "metadata": {
        "id": "Kbsec5Z2SaDr"
      },
      "source": [
        "- 사례를 서른을 입력해본다"
      ]
    },
    {
      "cell_type": "code",
      "metadata": {
        "id": "d94wrg63SRdb"
      },
      "source": [
        "# age.py\n",
        "def main():\n",
        "\tprint(\"안녕하세요.\")\n",
        "\tage = int(input(\"나이를 입력하세요: \"))\n",
        "\tprint(\"입력하신 나이는 다음과 같습니다:\", age)\n",
        "\tprint(\"만나서 반가웠습니다.\")\n",
        "\n",
        "main()"
      ],
      "execution_count": null,
      "outputs": []
    },
    {
      "cell_type": "markdown",
      "metadata": {
        "id": "1OzulLyMSuiu"
      },
      "source": [
        "## 14-3 보다 적극적인 예외의 처리"
      ]
    },
    {
      "cell_type": "markdown",
      "metadata": {
        "id": "qezYM3PdSqFm"
      },
      "source": [
        "- 서른을 입력해본다"
      ]
    },
    {
      "cell_type": "code",
      "metadata": {
        "id": "eDudyg8kSYKE"
      },
      "source": [
        "# age_expt.py\n",
        "\n",
        "def main():\n",
        "  print(\"안녕하세요.\")\n",
        "  try:\n",
        "    age = int(input(\"나이를 입력하세요: \"))\n",
        "    print(\"입력하신 나이는 다음과 같습니다:\", age)\n",
        "  except ValueError:\n",
        "    print(\"입력이 잘못되었습니다.\")\n",
        "\n",
        "  print(\"만나서 반가웠습니다.\")\n",
        "\n",
        "main()"
      ],
      "execution_count": null,
      "outputs": []
    },
    {
      "cell_type": "code",
      "metadata": {
        "id": "j8YZ1PnaSoQ1"
      },
      "source": [
        "# age_expt_conti.py\n",
        "def main():\n",
        "  print(\"안녕하세요.\")\n",
        "  while True:\n",
        "    try:\n",
        "      age = int(input(\"나이를 입력하세요: \"))\n",
        "      print(\"입력하신 나이는 다음과 같습니다:\", age, \"입력이 정상적이므로 루프를 탈출합니다!\")\n",
        "      break     # 입력이 정상적이면 while 루프 탈출!\n",
        "    except ValueError:\n",
        "      print(\"입력이 잘못되었습니다.\")\n",
        "  print(\"만나서 반가웠습니다.\")\n",
        "\n",
        "main()"
      ],
      "execution_count": null,
      "outputs": []
    },
    {
      "cell_type": "markdown",
      "metadata": {
        "id": "uzdMLqnGTDbR"
      },
      "source": [
        "## 14-4 둘 이상의 예외를 처리하기"
      ]
    },
    {
      "cell_type": "markdown",
      "metadata": {
        "id": "kd8AhUuaTRF0"
      },
      "source": [
        "- 다음 사례에서 예상되는 문제는 무엇이 있는지 논의해보자"
      ]
    },
    {
      "cell_type": "code",
      "metadata": {
        "id": "NtznRQORS7ZJ"
      },
      "source": [
        "# div.py\n",
        "\n",
        "def main():\n",
        "    bread = 10     # 열 개의 빵\n",
        "    people = int(input(\"몇 명? \"))\n",
        "    print(\"1인당 빵의 수: \", bread / people)\n",
        "    print(\"맛있게 드세요.\")\n",
        "    \n",
        "main()"
      ],
      "execution_count": null,
      "outputs": []
    },
    {
      "cell_type": "markdown",
      "metadata": {
        "id": "ClNxZMgVTV-C"
      },
      "source": [
        "- 일차적인 해결 방안"
      ]
    },
    {
      "cell_type": "code",
      "metadata": {
        "id": "Id40KBh8TNVg"
      },
      "source": [
        "# div_expt1.py\n",
        "\n",
        "def main():\n",
        "    bread = 10     # 열 개의 빵\n",
        "\n",
        "    try:\n",
        "        people = int(input(\"몇 명? \"))\n",
        "        print(\"1인당 빵의 수: \", bread / people)\n",
        "    except ValueError:\n",
        "        print(\"입력이 잘못되었습니다.\")\n",
        "    except ZeroDivisionError:\n",
        "        print(\"0으로는 나눌 수 없습니다.\")\n",
        "\n",
        "    print(\"맛있게 드세요.\")\n",
        "    \n",
        "main()\n"
      ],
      "execution_count": null,
      "outputs": []
    },
    {
      "cell_type": "markdown",
      "metadata": {
        "id": "ceQ7vxJRTcaz"
      },
      "source": [
        "- 더 완벽한 해결 방안"
      ]
    },
    {
      "cell_type": "code",
      "metadata": {
        "id": "CMOEKF6TTXY6"
      },
      "source": [
        "# div_expt2.py\n",
        "\n",
        "def main():\n",
        "  bread = 10     # 열 개의 빵\n",
        "  while True:\n",
        "    try:\n",
        "      people = int(input(\"몇 명? \"))\n",
        "      print(\"1인당 빵의 수: \", bread / people)\n",
        "      print(\"맛있게 드세요.\")\n",
        "      break\n",
        "    except ValueError:\n",
        "      print(\"입력이 잘못되었습니다.\")\n",
        "    except ZeroDivisionError:\n",
        "      print(\"0으로는 나눌 수 없습니다.\")\n",
        "    \n",
        "main()\n"
      ],
      "execution_count": null,
      "outputs": []
    },
    {
      "cell_type": "markdown",
      "metadata": {
        "id": "cAgMGmAmTupY"
      },
      "source": [
        "## 14-5 예외 메시지 출력하기와 finally"
      ]
    },
    {
      "cell_type": "code",
      "metadata": {
        "id": "14IY26l7TegO"
      },
      "source": [
        "# div_expt3.py\n",
        "\n",
        "def main():\n",
        "  bread = 10     # 열 개의 빵\n",
        "  while True:\n",
        "    try:\n",
        "      people = int(input(\"몇 명? \"))\n",
        "      print(\"1인당 빵의 수: \", bread / people)\n",
        "      print(\"맛있게 드세요.\")\n",
        "      break\n",
        "    except ValueError as msg:\n",
        "      print(\"입력이 잘못되었습니다.\")\n",
        "      print(msg)\n",
        "    except ZeroDivisionError as msg:\n",
        "      print(\"0으로는 나눌 수 없습니다.\")\n",
        "      print(msg)\n",
        "    \n",
        "main()"
      ],
      "execution_count": null,
      "outputs": []
    },
    {
      "cell_type": "markdown",
      "metadata": {
        "id": "dJyoUSisURYx"
      },
      "source": [
        "- finally 구문을 활용한다"
      ]
    },
    {
      "cell_type": "code",
      "metadata": {
        "id": "1ZPzdHsaUD4B"
      },
      "source": [
        "# div_expt4.py\n",
        "\n",
        "def main():\n",
        "  bread = 10     # 열 개의 빵\n",
        "  while True:\n",
        "    try:\n",
        "      people = int(input(\"몇 명? \"))\n",
        "      print(\"1인당 빵의 수: \", bread / people)\n",
        "      print(\"맛있게 드세요.\")\n",
        "    except ValueError:\n",
        "      print(\"입력이 잘못되었습니다.\")\n",
        "    except ZeroDivisionError as msg:\n",
        "      print(\"0으로는 나눌 수 없습니다.\")\n",
        "      print(msg)\n",
        "    finally:\n",
        "      print(\"어쨌든 프로그램은 종료합니다.\")\n",
        "      break\n",
        "    \n",
        "main()"
      ],
      "execution_count": null,
      "outputs": []
    },
    {
      "cell_type": "markdown",
      "metadata": {
        "id": "xOBRme5tUkXD"
      },
      "source": [
        "## 14-6 모든 예외 그냥 무시하기 "
      ]
    },
    {
      "cell_type": "markdown",
      "metadata": {
        "id": "U7_UxzHFUq6s"
      },
      "source": [
        "- 모든 예외를 다 처리하는 방법"
      ]
    },
    {
      "cell_type": "code",
      "metadata": {
        "id": "_IT6qECkUbU6"
      },
      "source": [
        "# ignore_expt.py\n",
        "\n",
        "def main():\n",
        "  bread = 10     # 열 개의 빵\n",
        "  while True:\n",
        "    try:\n",
        "      people = int(input(\"몇 명? \"))\n",
        "      print(\"1인당 빵의 수: \", bread / people)\n",
        "      print(\"맛있게 드세요.\")\n",
        "      break;\n",
        "    except:\n",
        "      print(\"뭔지는 몰라도 예외가 발생했군요.\")\n",
        "\n",
        "main()\n"
      ],
      "execution_count": null,
      "outputs": []
    },
    {
      "cell_type": "code",
      "metadata": {
        "id": "x-BYfYJtUvVK"
      },
      "source": [
        ""
      ],
      "execution_count": null,
      "outputs": []
    }
  ]
}