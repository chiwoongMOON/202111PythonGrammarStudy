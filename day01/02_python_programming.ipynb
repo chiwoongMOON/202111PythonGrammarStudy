{
  "nbformat": 4,
  "nbformat_minor": 0,
  "metadata": {
    "colab": {
      "name": "02.python_programming.ipynb",
      "private_outputs": true,
      "provenance": [],
      "authorship_tag": "ABX9TyMVuflapRRnJXBQZTMzOpiZ",
      "include_colab_link": true
    },
    "kernelspec": {
      "name": "python3",
      "display_name": "Python 3"
    },
    "language_info": {
      "name": "python"
    }
  },
  "cells": [
    {
      "cell_type": "markdown",
      "metadata": {
        "id": "view-in-github",
        "colab_type": "text"
      },
      "source": [
        "<a href=\"https://colab.research.google.com/github/waltechel/202111PythonGrammarStudy/blob/master/day01/02_python_programming.ipynb\" target=\"_parent\"><img src=\"https://colab.research.google.com/assets/colab-badge.svg\" alt=\"Open In Colab\"/></a>"
      ]
    },
    {
      "cell_type": "code",
      "metadata": {
        "id": "427U8GQm1EQs"
      },
      "source": [
        ""
      ],
      "execution_count": null,
      "outputs": []
    },
    {
      "cell_type": "markdown",
      "metadata": {
        "id": "SVGgt8tB-zZ6"
      },
      "source": [
        "- 02-1 숫자형\n",
        "- 사칙연산\n"
      ]
    },
    {
      "cell_type": "code",
      "metadata": {
        "id": "KcdndWKN-2wd"
      },
      "source": [
        "a = 3\n",
        "b = 4"
      ],
      "execution_count": null,
      "outputs": []
    },
    {
      "cell_type": "code",
      "metadata": {
        "id": "PpFGV_Na_AVC"
      },
      "source": [
        "7 / 4"
      ],
      "execution_count": null,
      "outputs": []
    },
    {
      "cell_type": "code",
      "metadata": {
        "id": "27Sf6Xaz_MSf"
      },
      "source": [
        "4 / 2"
      ],
      "execution_count": null,
      "outputs": []
    },
    {
      "cell_type": "markdown",
      "metadata": {
        "id": "wc9iE_0VArIc"
      },
      "source": [
        "- 문자열에 따옴표 포함시키기"
      ]
    },
    {
      "cell_type": "code",
      "metadata": {
        "id": "aEzxWZEU_OqX"
      },
      "source": [
        "food = 'python is \"my life\"'\n",
        "food"
      ],
      "execution_count": null,
      "outputs": []
    },
    {
      "cell_type": "markdown",
      "metadata": {
        "id": "zWGul0pPBFf3"
      },
      "source": [
        "- 파이썬은 0부터 숫자를 센다"
      ]
    },
    {
      "cell_type": "code",
      "metadata": {
        "id": "7U3NGQo-Axgs"
      },
      "source": [
        "a = 'life is too short, you need python'\n",
        "a[0]"
      ],
      "execution_count": null,
      "outputs": []
    },
    {
      "cell_type": "code",
      "metadata": {
        "id": "XXjXI9XkBP_J"
      },
      "source": [
        "a[12]"
      ],
      "execution_count": null,
      "outputs": []
    },
    {
      "cell_type": "code",
      "metadata": {
        "id": "s8GpOtWgBQ-h"
      },
      "source": [
        "a[-1]"
      ],
      "execution_count": null,
      "outputs": []
    },
    {
      "cell_type": "markdown",
      "metadata": {
        "id": "YJrGcQrvBae7"
      },
      "source": [
        "- 슬라이싱"
      ]
    },
    {
      "cell_type": "code",
      "metadata": {
        "id": "y4-iLWfBBR3H"
      },
      "source": [
        "a = '20010331Rainy'\n",
        "day = a[:8]\n",
        "weather = a[8:]\n",
        "print(day, weather)"
      ],
      "execution_count": null,
      "outputs": []
    },
    {
      "cell_type": "markdown",
      "metadata": {
        "id": "IHmaM91nCFb-"
      },
      "source": [
        "- 문자열 포맷팅"
      ]
    },
    {
      "cell_type": "code",
      "metadata": {
        "id": "YottSJgOBfgL"
      },
      "source": [
        "a = \"i eat %d apples\" % 3\n",
        "a"
      ],
      "execution_count": null,
      "outputs": []
    },
    {
      "cell_type": "code",
      "metadata": {
        "id": "lZ_kgOQsCKNt"
      },
      "source": [
        "a = \"i eat %d apples, today is %s, and weather is %s\" % (3, day, weather)\n",
        "a"
      ],
      "execution_count": null,
      "outputs": []
    },
    {
      "cell_type": "code",
      "metadata": {
        "id": "VaFKL3LMCV-H"
      },
      "source": [
        "a = 'python'\n",
        "\n",
        "test = f'{a} is fun'\n",
        "test"
      ],
      "execution_count": null,
      "outputs": []
    },
    {
      "cell_type": "markdown",
      "metadata": {
        "id": "AZw-ZCmcCmpy"
      },
      "source": [
        "- 정렬과 공백"
      ]
    },
    {
      "cell_type": "code",
      "metadata": {
        "id": "TWh7RNKlCfkQ"
      },
      "source": [
        "\"%10s\" % \"hi\""
      ],
      "execution_count": null,
      "outputs": []
    },
    {
      "cell_type": "code",
      "metadata": {
        "id": "hciYshtfCxkr"
      },
      "source": [
        "\"%-10sjane\" % \"hi\""
      ],
      "execution_count": null,
      "outputs": []
    },
    {
      "cell_type": "markdown",
      "metadata": {
        "id": "GJOEAYecDUY_"
      },
      "source": [
        "- 문자열 삽입"
      ]
    },
    {
      "cell_type": "code",
      "metadata": {
        "id": "0DCyIhtiC1bd"
      },
      "source": [
        "a = \",\"\n",
        "a = a.join('abcd')\n",
        "a"
      ],
      "execution_count": null,
      "outputs": []
    },
    {
      "cell_type": "markdown",
      "metadata": {
        "id": "XxFtz22JDwCi"
      },
      "source": [
        "- 문제"
      ]
    },
    {
      "cell_type": "code",
      "metadata": {
        "id": "IIGD-TVsDXRW"
      },
      "source": [
        "a = \"890724\"\n",
        "year = a[:2]\n",
        "month = a[2:4]\n",
        "day = a[4:]\n",
        "print(year, month, day)"
      ],
      "execution_count": null,
      "outputs": []
    },
    {
      "cell_type": "code",
      "metadata": {
        "id": "tTwgMWE6ECNE"
      },
      "source": [
        "a = \"20190603\"\n",
        "year = a[:4]\n",
        "month = a[4:6]\n",
        "day = a[6:]\n",
        "print(year, '-' , month, '-', day, sep='')"
      ],
      "execution_count": null,
      "outputs": []
    },
    {
      "cell_type": "code",
      "metadata": {
        "id": "tqJu-xEJEMp-"
      },
      "source": [
        "a = \"010-1234-5678\"\n",
        "print(a.replace('-', ''))"
      ],
      "execution_count": null,
      "outputs": []
    },
    {
      "cell_type": "code",
      "metadata": {
        "id": "hlAqCQ_1Eb-h"
      },
      "source": [
        "a = \"DAILY ESSENTAILS REFRESHING TONER REVIEWS\"\n",
        "print(a.lower())"
      ],
      "execution_count": null,
      "outputs": []
    },
    {
      "cell_type": "code",
      "metadata": {
        "id": "C30BVNV6Ekpb"
      },
      "source": [
        "a = [1, 2, 3, ['a', 'b', 'c']]\n",
        "a[3][1]"
      ],
      "execution_count": null,
      "outputs": []
    },
    {
      "cell_type": "code",
      "metadata": {
        "id": "niNeHMMvJyPw"
      },
      "source": [
        "a = [1, 2, ['a', 'b',['Life', 'is']]]\n",
        "a[2][2][0]"
      ],
      "execution_count": null,
      "outputs": []
    },
    {
      "cell_type": "code",
      "metadata": {
        "id": "thGXROKuJ7tz"
      },
      "source": [
        "a = [1, 2, 3, 1, 2, 3]\n",
        "a.remove(3)\n",
        "a.remove(3)\n",
        "a"
      ],
      "execution_count": null,
      "outputs": []
    },
    {
      "cell_type": "code",
      "metadata": {
        "id": "C4moYDcqOS8e"
      },
      "source": [
        "a = [1, 2, 3]\n",
        "a.pop()"
      ],
      "execution_count": null,
      "outputs": []
    },
    {
      "cell_type": "code",
      "metadata": {
        "id": "f5OSxeXNOfZr"
      },
      "source": [
        "a = [1, 2, 3]\n",
        "a.extend([4, 5])\n",
        "a"
      ],
      "execution_count": null,
      "outputs": []
    },
    {
      "cell_type": "code",
      "metadata": {
        "id": "n-fXE3UVOp2I"
      },
      "source": [
        "b = [6, 7]\n",
        "a.extend(b)\n",
        "a"
      ],
      "execution_count": null,
      "outputs": []
    },
    {
      "cell_type": "markdown",
      "metadata": {
        "id": "fGK-KYlWO1zI"
      },
      "source": [
        "- 튜플"
      ]
    },
    {
      "cell_type": "code",
      "metadata": {
        "id": "SAyIgEQ1OwlM"
      },
      "source": [
        "pack = (1, 2, 3, 4, 5, 6)\n",
        "\n",
        "one, two, three, four, five, six = pack"
      ],
      "execution_count": null,
      "outputs": []
    },
    {
      "cell_type": "code",
      "metadata": {
        "id": "C0C6c6gfPeNJ"
      },
      "source": [
        "t3 = (1, 2, 3) + (4, 5, 6)"
      ],
      "execution_count": null,
      "outputs": []
    },
    {
      "cell_type": "markdown",
      "metadata": {
        "id": "dw2HavgrQ56v"
      },
      "source": [
        "- 딕셔너리"
      ]
    },
    {
      "cell_type": "code",
      "metadata": {
        "id": "f7Ijj7MrPzwf"
      },
      "source": [
        "dict1 = {'kim': 1, 'dongjun':2}"
      ],
      "execution_count": null,
      "outputs": []
    },
    {
      "cell_type": "code",
      "metadata": {
        "id": "FSJHC0vQRA6H"
      },
      "source": [
        "dict1['power'] = 2"
      ],
      "execution_count": null,
      "outputs": []
    },
    {
      "cell_type": "code",
      "metadata": {
        "id": "5QNGWO5tRNlh"
      },
      "source": [
        "dict1"
      ],
      "execution_count": null,
      "outputs": []
    },
    {
      "cell_type": "code",
      "metadata": {
        "id": "PNdxo_QNROVu"
      },
      "source": [
        "del dict1['power']"
      ],
      "execution_count": null,
      "outputs": []
    },
    {
      "cell_type": "code",
      "metadata": {
        "id": "M4DMyHaMRUP1"
      },
      "source": [
        "dict1"
      ],
      "execution_count": null,
      "outputs": []
    },
    {
      "cell_type": "code",
      "metadata": {
        "id": "f6imtMORRU6e"
      },
      "source": [
        "dict1['power'] = 2"
      ],
      "execution_count": null,
      "outputs": []
    },
    {
      "cell_type": "code",
      "metadata": {
        "id": "Dk2rZxyOR1HD"
      },
      "source": [
        "dict1['power'] = '새로운 값'"
      ],
      "execution_count": null,
      "outputs": []
    },
    {
      "cell_type": "code",
      "metadata": {
        "id": "FoMwebbyR21f"
      },
      "source": [
        "dict1"
      ],
      "execution_count": null,
      "outputs": []
    },
    {
      "cell_type": "code",
      "metadata": {
        "id": "fRtU0vAER3bg"
      },
      "source": [
        "dict1.items()"
      ],
      "execution_count": null,
      "outputs": []
    },
    {
      "cell_type": "markdown",
      "metadata": {
        "id": "e_hdZMgETAUD"
      },
      "source": [
        "- set"
      ]
    },
    {
      "cell_type": "code",
      "metadata": {
        "id": "JnNkmtwQSL0e"
      },
      "source": [
        " s2 = set(\"Hello\")"
      ],
      "execution_count": null,
      "outputs": []
    },
    {
      "cell_type": "code",
      "metadata": {
        "id": "eSOH_rduTWjx"
      },
      "source": [
        "s2"
      ],
      "execution_count": null,
      "outputs": []
    },
    {
      "cell_type": "code",
      "metadata": {
        "id": "gXG5PjMyTsTK"
      },
      "source": [
        "dictionary = {'one':'하나', 'two':'둘', 'three':'셋', 'four':'넷', 'five':'다섯'}\n",
        "A = input(\"값을 입력하시오 : \")\n",
        "dictionary[A]"
      ],
      "execution_count": null,
      "outputs": []
    },
    {
      "cell_type": "code",
      "metadata": {
        "id": "lWZLSOCaTV0h"
      },
      "source": [
        "list1 = [1,1,1,1,1,1,2,4,5,6,7,8,9,10]\n",
        "set(list1)"
      ],
      "execution_count": null,
      "outputs": []
    },
    {
      "cell_type": "code",
      "metadata": {
        "id": "DKkPOP9CTjoD"
      },
      "source": [
        ""
      ],
      "execution_count": null,
      "outputs": []
    }
  ]
}