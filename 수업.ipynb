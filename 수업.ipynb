{
  "nbformat": 4,
  "nbformat_minor": 0,
  "metadata": {
    "colab": {
      "name": "Colaboratory에 오신 것을 환영합니다",
      "provenance": [],
      "collapsed_sections": [],
      "toc_visible": true,
      "include_colab_link": true
    },
    "kernelspec": {
      "display_name": "Python 3",
      "name": "python3"
    }
  },
  "cells": [
    {
      "cell_type": "markdown",
      "metadata": {
        "id": "view-in-github",
        "colab_type": "text"
      },
      "source": [
        "<a href=\"https://colab.research.google.com/github/chiwoongMOON/202111PythonGrammarStudy/blob/master/%EC%88%98%EC%97%85.ipynb\" target=\"_parent\"><img src=\"https://colab.research.google.com/assets/colab-badge.svg\" alt=\"Open In Colab\"/></a>"
      ]
    },
    {
      "cell_type": "code",
      "metadata": {
        "id": "DWcE2Z8djnhg",
        "outputId": "3cec5e00-a790-41fa-d567-9065e1015af7",
        "colab": {
          "base_uri": "https://localhost:8080/"
        }
      },
      "source": [
        "a = ['애', '플', '파', '이', '쌤', '은', '못', '생', '겼', '다'] \n",
        "print(a[0:5])"
      ],
      "execution_count": 3,
      "outputs": [
        {
          "output_type": "stream",
          "name": "stdout",
          "text": [
            "['애', '플', '파', '이', '쌤']\n"
          ]
        }
      ]
    },
    {
      "cell_type": "code",
      "metadata": {
        "id": "ThJ1WbQVjrml",
        "outputId": "397fafb6-da8d-455c-e751-13325bb63318",
        "colab": {
          "base_uri": "https://localhost:8080/"
        }
      },
      "source": [
        "num = int(input())\n",
        "for i in range(2,num):\n",
        "  if num % i == 0:\n",
        "    result = False\n",
        "    break\n",
        "  else:\n",
        "    result = True\n",
        "if result == True:\n",
        "  print(\"%d은/는 소수입니다.\" %num)\n",
        "else:\n",
        "  print(\"%d은/는 소수가 아닙니다.\" %num)"
      ],
      "execution_count": 24,
      "outputs": [
        {
          "output_type": "stream",
          "name": "stdout",
          "text": [
            "18\n",
            "18은/는 소수가 아닙니다.\n"
          ]
        }
      ]
    },
    {
      "cell_type": "code",
      "metadata": {
        "id": "u1ehC0w4kgek",
        "outputId": "65aff427-8f2b-4b10-8b99-4650dc7b3e8b",
        "colab": {
          "base_uri": "https://localhost:8080/"
        }
      },
      "source": [
        "n = int(input())\n",
        "b =  [500, 100, 50, 10]\n",
        "c = n / 500\n",
        "d = n % 500\n",
        "e = d / 100\n",
        "f = d % 100\n",
        "g = f / 50\n",
        "h = f % 50\n",
        "j = f / 10\n",
        "sum = (b[0] * c) + (b[1] * e) + (b[2] * g) + (b[3] * j)\n",
        "print(b, c, d, e, f, g, h, j)"
      ],
      "execution_count": 28,
      "outputs": [
        {
          "output_type": "stream",
          "name": "stdout",
          "text": [
            "1234860\n",
            "[500, 100, 50, 10] 2469.72 360 3.6 60 1.2 10 6.0\n"
          ]
        }
      ]
    },
    {
      "cell_type": "code",
      "metadata": {
        "id": "U_260IMNpgct",
        "outputId": "2d8b791e-0ac5-4897-90bb-7baf6da11284",
        "colab": {
          "base_uri": "https://localhost:8080/"
        }
      },
      "source": [
        "sum = int(input())\n",
        "if sum % 3 == 0:\n",
        "  print(\"선생님 3의 배수 입니다.\")\n",
        "else:\n",
        "  print(\"선생님 3의 배수가 아닙니다.\")"
      ],
      "execution_count": 30,
      "outputs": [
        {
          "output_type": "stream",
          "name": "stdout",
          "text": [
            "7\n",
            "선생님 3의 배수가 아닙니다.\n"
          ]
        }
      ]
    }
  ]
}